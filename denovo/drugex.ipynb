{
 "cells": [
  {
   "cell_type": "code",
   "execution_count": 1,
   "id": "96cdb411-74ba-4e16-ba91-31c2818f1829",
   "metadata": {},
   "outputs": [],
   "source": [
    "import torch\n",
    "\n",
    "assert torch.cuda.is_available()"
   ]
  },
  {
   "cell_type": "code",
   "execution_count": 2,
   "id": "b0cb5bfb-3266-42ce-9d38-710cdd45b41f",
   "metadata": {},
   "outputs": [
    {
     "name": "stderr",
     "output_type": "stream",
     "text": [
      "/home/sichom/software/miniconda/envs/8add-olomouc-sicho/lib/python3.12/site-packages/drugex/training/interfaces.py:322: FutureWarning: You are using `torch.load` with `weights_only=False` (the current default value), which uses the default pickle module implicitly. It is possible to construct malicious pickle data which will execute arbitrary code during unpickling (See https://github.com/pytorch/pytorch/blob/main/SECURITY.md#untrusted-models for more details). In a future release, the default value for `weights_only` will be flipped to `True`. This limits the functions that could be executed during unpickling. Arbitrary objects will no longer be allowed to be loaded via this mode unless they are explicitly allowlisted by the user via `torch.serialization.add_safe_globals`. We recommend you start setting `weights_only=True` for any use case where you don't have full control of the loaded file. Please open an issue on GitHub for any issues related to this experimental feature.\n",
      "  self.loadStates(torch.load(path, map_location=self.device))\n"
     ]
    }
   ],
   "source": [
    "import os\n",
    "from drugex.training.generators import SequenceRNN\n",
    "from drugex.data.corpus.vocabulary import VocSmiles\n",
    "\n",
    "MODELS_PR_PATH = \"data/models/pretrained/smiles-rnn/Papyrus05.5_smiles_rnn_PT/\"\n",
    "\n",
    "voc = VocSmiles.fromFile(os.path.join(MODELS_PR_PATH, \"Papyrus05.5_smiles_rnn_PT.vocab\"), encode_frags=False)\n",
    "pretrained = SequenceRNN(voc, is_lstm=True)\n",
    "pretrained.loadStatesFromFile(os.path.join(MODELS_PR_PATH, \"Papyrus05.5_smiles_rnn_PT.pkg\"))"
   ]
  },
  {
   "cell_type": "code",
   "execution_count": 3,
   "id": "5ccfb200-4b58-4c0a-812e-721b09dad84e",
   "metadata": {},
   "outputs": [
    {
     "data": {
      "application/vnd.jupyter.widget-view+json": {
       "model_id": "cc8afaf667694b85a0cf564066028dfe",
       "version_major": 2,
       "version_minor": 0
      },
      "text/plain": [
       "Generating molecules:   0%|          | 0/1000 [00:00<?, ?it/s]"
      ]
     },
     "metadata": {},
     "output_type": "display_data"
    },
    {
     "data": {
      "text/html": [
       "<div>\n",
       "<style scoped>\n",
       "    .dataframe tbody tr th:only-of-type {\n",
       "        vertical-align: middle;\n",
       "    }\n",
       "\n",
       "    .dataframe tbody tr th {\n",
       "        vertical-align: top;\n",
       "    }\n",
       "\n",
       "    .dataframe thead th {\n",
       "        text-align: right;\n",
       "    }\n",
       "</style>\n",
       "<table border=\"1\" class=\"dataframe\">\n",
       "  <thead>\n",
       "    <tr style=\"text-align: right;\">\n",
       "      <th></th>\n",
       "      <th>SMILES</th>\n",
       "      <th>Valid</th>\n",
       "    </tr>\n",
       "  </thead>\n",
       "  <tbody>\n",
       "    <tr>\n",
       "      <th>0</th>\n",
       "      <td>COc1ccc(Nc2ncc3ccc(-c4ccccc4OC)nc3n2)cn1</td>\n",
       "      <td>1.0</td>\n",
       "    </tr>\n",
       "    <tr>\n",
       "      <th>1</th>\n",
       "      <td>CC(Nc1nc(Cl)cc(N2C(=O)OCC2C(C)O)n1)c1cc(-c2ccc...</td>\n",
       "      <td>1.0</td>\n",
       "    </tr>\n",
       "    <tr>\n",
       "      <th>2</th>\n",
       "      <td>CC(C)N1CCC(NC(=O)c2csc(-c3[nH]nc4c3C(=O)N(CC3C...</td>\n",
       "      <td>1.0</td>\n",
       "    </tr>\n",
       "    <tr>\n",
       "      <th>3</th>\n",
       "      <td>Cn1nnc(-c2c(Cl)cc(Cl)cc2Br)n1</td>\n",
       "      <td>1.0</td>\n",
       "    </tr>\n",
       "    <tr>\n",
       "      <th>4</th>\n",
       "      <td>COc1ccc(C2=C(NC(=O)c3ccccc3)C(=O)c3ccccc3C2=O)cc1</td>\n",
       "      <td>1.0</td>\n",
       "    </tr>\n",
       "    <tr>\n",
       "      <th>...</th>\n",
       "      <td>...</td>\n",
       "      <td>...</td>\n",
       "    </tr>\n",
       "    <tr>\n",
       "      <th>995</th>\n",
       "      <td>CC(C(=O)N1CCC(O)(c2cc(F)cc(F)c2)CC1)n1nc(OCc2c...</td>\n",
       "      <td>1.0</td>\n",
       "    </tr>\n",
       "    <tr>\n",
       "      <th>996</th>\n",
       "      <td>COc1ccc2c(-c3c(C)n(C(C)(C)C)c4cc(C(=O)O)cnc34)...</td>\n",
       "      <td>1.0</td>\n",
       "    </tr>\n",
       "    <tr>\n",
       "      <th>997</th>\n",
       "      <td>COC(=O)C1(C)Cc2cc(C(F)(F)F)ccc2C1=O</td>\n",
       "      <td>1.0</td>\n",
       "    </tr>\n",
       "    <tr>\n",
       "      <th>998</th>\n",
       "      <td>O=[N+]([O-])c1ccc(CCN2CCCC2)cc1</td>\n",
       "      <td>1.0</td>\n",
       "    </tr>\n",
       "    <tr>\n",
       "      <th>999</th>\n",
       "      <td>NCCCCC(NC(=O)C(Cc1c[nH]c2ccccc12)NC(=O)N1CCN(C...</td>\n",
       "      <td>1.0</td>\n",
       "    </tr>\n",
       "  </tbody>\n",
       "</table>\n",
       "<p>1000 rows × 2 columns</p>\n",
       "</div>"
      ],
      "text/plain": [
       "                                                SMILES  Valid\n",
       "0             COc1ccc(Nc2ncc3ccc(-c4ccccc4OC)nc3n2)cn1    1.0\n",
       "1    CC(Nc1nc(Cl)cc(N2C(=O)OCC2C(C)O)n1)c1cc(-c2ccc...    1.0\n",
       "2    CC(C)N1CCC(NC(=O)c2csc(-c3[nH]nc4c3C(=O)N(CC3C...    1.0\n",
       "3                        Cn1nnc(-c2c(Cl)cc(Cl)cc2Br)n1    1.0\n",
       "4    COc1ccc(C2=C(NC(=O)c3ccccc3)C(=O)c3ccccc3C2=O)cc1    1.0\n",
       "..                                                 ...    ...\n",
       "995  CC(C(=O)N1CCC(O)(c2cc(F)cc(F)c2)CC1)n1nc(OCc2c...    1.0\n",
       "996  COc1ccc2c(-c3c(C)n(C(C)(C)C)c4cc(C(=O)O)cnc34)...    1.0\n",
       "997                COC(=O)C1(C)Cc2cc(C(F)(F)F)ccc2C1=O    1.0\n",
       "998                    O=[N+]([O-])c1ccc(CCN2CCCC2)cc1    1.0\n",
       "999  NCCCCC(NC(=O)C(Cc1c[nH]c2ccccc12)NC(=O)N1CCN(C...    1.0\n",
       "\n",
       "[1000 rows x 2 columns]"
      ]
     },
     "execution_count": 3,
     "metadata": {},
     "output_type": "execute_result"
    }
   ],
   "source": [
    "generated_pretrained = pretrained.generate(num_samples=1000)\n",
    "generated_pretrained"
   ]
  },
  {
   "cell_type": "code",
   "execution_count": 4,
   "id": "90965abf-5715-456d-800d-c31edb071022",
   "metadata": {},
   "outputs": [
    {
     "data": {
      "text/plain": [
       "array(['Generated (pretrained)', 'P08908'], dtype=object)"
      ]
     },
     "execution_count": 4,
     "metadata": {},
     "output_type": "execute_result"
    }
   ],
   "source": [
    "import pandas as pd\n",
    "\n",
    "generated_pretrained[\"Set\"] = \"Generated (pretrained)\"\n",
    "df_P08908 = pd.read_table(\"./data/data/P08908_LIGANDS_nostereo.tsv\")\n",
    "df_P08908[\"Set\"] = \"P08908\"\n",
    "df_all_sets = pd.concat([generated_pretrained, df_P08908])\n",
    "df_all_sets.Set.unique()"
   ]
  },
  {
   "cell_type": "code",
   "execution_count": 5,
   "id": "1b108a3b-6270-4443-810f-7334d5b1c3f6",
   "metadata": {},
   "outputs": [
    {
     "data": {
      "text/plain": [
       "4428"
      ]
     },
     "execution_count": 5,
     "metadata": {},
     "output_type": "execute_result"
    }
   ],
   "source": [
    "from qsprpred.data import MoleculeTable\n",
    "\n",
    "mt_general_P08908 = MoleculeTable(\n",
    "    name=\"Pretrained+P08908\", \n",
    "    df=df_all_sets.copy()\n",
    ")\n",
    "len(mt_general_P08908)"
   ]
  },
  {
   "cell_type": "code",
   "execution_count": 6,
   "id": "9837a925-0948-4b46-9eb9-40750ef5daea",
   "metadata": {},
   "outputs": [
    {
     "data": {
      "text/html": [
       "<div>\n",
       "<style scoped>\n",
       "    .dataframe tbody tr th:only-of-type {\n",
       "        vertical-align: middle;\n",
       "    }\n",
       "\n",
       "    .dataframe tbody tr th {\n",
       "        vertical-align: top;\n",
       "    }\n",
       "\n",
       "    .dataframe thead th {\n",
       "        text-align: right;\n",
       "    }\n",
       "</style>\n",
       "<table border=\"1\" class=\"dataframe\">\n",
       "  <thead>\n",
       "    <tr style=\"text-align: right;\">\n",
       "      <th></th>\n",
       "      <th>MorganFP_MorganFP_0</th>\n",
       "      <th>MorganFP_MorganFP_1</th>\n",
       "      <th>MorganFP_MorganFP_2</th>\n",
       "      <th>MorganFP_MorganFP_3</th>\n",
       "      <th>MorganFP_MorganFP_4</th>\n",
       "      <th>MorganFP_MorganFP_5</th>\n",
       "      <th>MorganFP_MorganFP_6</th>\n",
       "      <th>MorganFP_MorganFP_7</th>\n",
       "      <th>MorganFP_MorganFP_8</th>\n",
       "      <th>MorganFP_MorganFP_9</th>\n",
       "      <th>...</th>\n",
       "      <th>MorganFP_MorganFP_2038</th>\n",
       "      <th>MorganFP_MorganFP_2039</th>\n",
       "      <th>MorganFP_MorganFP_2040</th>\n",
       "      <th>MorganFP_MorganFP_2041</th>\n",
       "      <th>MorganFP_MorganFP_2042</th>\n",
       "      <th>MorganFP_MorganFP_2043</th>\n",
       "      <th>MorganFP_MorganFP_2044</th>\n",
       "      <th>MorganFP_MorganFP_2045</th>\n",
       "      <th>MorganFP_MorganFP_2046</th>\n",
       "      <th>MorganFP_MorganFP_2047</th>\n",
       "    </tr>\n",
       "    <tr>\n",
       "      <th>QSPRID</th>\n",
       "      <th></th>\n",
       "      <th></th>\n",
       "      <th></th>\n",
       "      <th></th>\n",
       "      <th></th>\n",
       "      <th></th>\n",
       "      <th></th>\n",
       "      <th></th>\n",
       "      <th></th>\n",
       "      <th></th>\n",
       "      <th></th>\n",
       "      <th></th>\n",
       "      <th></th>\n",
       "      <th></th>\n",
       "      <th></th>\n",
       "      <th></th>\n",
       "      <th></th>\n",
       "      <th></th>\n",
       "      <th></th>\n",
       "      <th></th>\n",
       "      <th></th>\n",
       "    </tr>\n",
       "  </thead>\n",
       "  <tbody>\n",
       "    <tr>\n",
       "      <th>Pretrained+P08908_0000</th>\n",
       "      <td>False</td>\n",
       "      <td>False</td>\n",
       "      <td>False</td>\n",
       "      <td>False</td>\n",
       "      <td>False</td>\n",
       "      <td>False</td>\n",
       "      <td>False</td>\n",
       "      <td>False</td>\n",
       "      <td>True</td>\n",
       "      <td>False</td>\n",
       "      <td>...</td>\n",
       "      <td>False</td>\n",
       "      <td>False</td>\n",
       "      <td>False</td>\n",
       "      <td>False</td>\n",
       "      <td>False</td>\n",
       "      <td>False</td>\n",
       "      <td>False</td>\n",
       "      <td>False</td>\n",
       "      <td>False</td>\n",
       "      <td>False</td>\n",
       "    </tr>\n",
       "    <tr>\n",
       "      <th>Pretrained+P08908_0001</th>\n",
       "      <td>False</td>\n",
       "      <td>True</td>\n",
       "      <td>False</td>\n",
       "      <td>True</td>\n",
       "      <td>False</td>\n",
       "      <td>False</td>\n",
       "      <td>False</td>\n",
       "      <td>False</td>\n",
       "      <td>False</td>\n",
       "      <td>False</td>\n",
       "      <td>...</td>\n",
       "      <td>False</td>\n",
       "      <td>False</td>\n",
       "      <td>False</td>\n",
       "      <td>False</td>\n",
       "      <td>False</td>\n",
       "      <td>False</td>\n",
       "      <td>False</td>\n",
       "      <td>False</td>\n",
       "      <td>False</td>\n",
       "      <td>False</td>\n",
       "    </tr>\n",
       "    <tr>\n",
       "      <th>Pretrained+P08908_0002</th>\n",
       "      <td>False</td>\n",
       "      <td>True</td>\n",
       "      <td>False</td>\n",
       "      <td>False</td>\n",
       "      <td>False</td>\n",
       "      <td>False</td>\n",
       "      <td>True</td>\n",
       "      <td>False</td>\n",
       "      <td>False</td>\n",
       "      <td>False</td>\n",
       "      <td>...</td>\n",
       "      <td>False</td>\n",
       "      <td>False</td>\n",
       "      <td>False</td>\n",
       "      <td>False</td>\n",
       "      <td>False</td>\n",
       "      <td>False</td>\n",
       "      <td>False</td>\n",
       "      <td>False</td>\n",
       "      <td>False</td>\n",
       "      <td>False</td>\n",
       "    </tr>\n",
       "    <tr>\n",
       "      <th>Pretrained+P08908_0003</th>\n",
       "      <td>False</td>\n",
       "      <td>False</td>\n",
       "      <td>False</td>\n",
       "      <td>False</td>\n",
       "      <td>False</td>\n",
       "      <td>False</td>\n",
       "      <td>False</td>\n",
       "      <td>False</td>\n",
       "      <td>False</td>\n",
       "      <td>False</td>\n",
       "      <td>...</td>\n",
       "      <td>False</td>\n",
       "      <td>False</td>\n",
       "      <td>False</td>\n",
       "      <td>False</td>\n",
       "      <td>False</td>\n",
       "      <td>False</td>\n",
       "      <td>False</td>\n",
       "      <td>False</td>\n",
       "      <td>False</td>\n",
       "      <td>False</td>\n",
       "    </tr>\n",
       "    <tr>\n",
       "      <th>Pretrained+P08908_0004</th>\n",
       "      <td>False</td>\n",
       "      <td>True</td>\n",
       "      <td>False</td>\n",
       "      <td>False</td>\n",
       "      <td>False</td>\n",
       "      <td>False</td>\n",
       "      <td>False</td>\n",
       "      <td>False</td>\n",
       "      <td>False</td>\n",
       "      <td>False</td>\n",
       "      <td>...</td>\n",
       "      <td>True</td>\n",
       "      <td>False</td>\n",
       "      <td>False</td>\n",
       "      <td>False</td>\n",
       "      <td>False</td>\n",
       "      <td>False</td>\n",
       "      <td>False</td>\n",
       "      <td>False</td>\n",
       "      <td>False</td>\n",
       "      <td>False</td>\n",
       "    </tr>\n",
       "  </tbody>\n",
       "</table>\n",
       "<p>5 rows × 2048 columns</p>\n",
       "</div>"
      ],
      "text/plain": [
       "                        MorganFP_MorganFP_0  MorganFP_MorganFP_1  \\\n",
       "QSPRID                                                             \n",
       "Pretrained+P08908_0000                False                False   \n",
       "Pretrained+P08908_0001                False                 True   \n",
       "Pretrained+P08908_0002                False                 True   \n",
       "Pretrained+P08908_0003                False                False   \n",
       "Pretrained+P08908_0004                False                 True   \n",
       "\n",
       "                        MorganFP_MorganFP_2  MorganFP_MorganFP_3  \\\n",
       "QSPRID                                                             \n",
       "Pretrained+P08908_0000                False                False   \n",
       "Pretrained+P08908_0001                False                 True   \n",
       "Pretrained+P08908_0002                False                False   \n",
       "Pretrained+P08908_0003                False                False   \n",
       "Pretrained+P08908_0004                False                False   \n",
       "\n",
       "                        MorganFP_MorganFP_4  MorganFP_MorganFP_5  \\\n",
       "QSPRID                                                             \n",
       "Pretrained+P08908_0000                False                False   \n",
       "Pretrained+P08908_0001                False                False   \n",
       "Pretrained+P08908_0002                False                False   \n",
       "Pretrained+P08908_0003                False                False   \n",
       "Pretrained+P08908_0004                False                False   \n",
       "\n",
       "                        MorganFP_MorganFP_6  MorganFP_MorganFP_7  \\\n",
       "QSPRID                                                             \n",
       "Pretrained+P08908_0000                False                False   \n",
       "Pretrained+P08908_0001                False                False   \n",
       "Pretrained+P08908_0002                 True                False   \n",
       "Pretrained+P08908_0003                False                False   \n",
       "Pretrained+P08908_0004                False                False   \n",
       "\n",
       "                        MorganFP_MorganFP_8  MorganFP_MorganFP_9  ...  \\\n",
       "QSPRID                                                            ...   \n",
       "Pretrained+P08908_0000                 True                False  ...   \n",
       "Pretrained+P08908_0001                False                False  ...   \n",
       "Pretrained+P08908_0002                False                False  ...   \n",
       "Pretrained+P08908_0003                False                False  ...   \n",
       "Pretrained+P08908_0004                False                False  ...   \n",
       "\n",
       "                        MorganFP_MorganFP_2038  MorganFP_MorganFP_2039  \\\n",
       "QSPRID                                                                   \n",
       "Pretrained+P08908_0000                   False                   False   \n",
       "Pretrained+P08908_0001                   False                   False   \n",
       "Pretrained+P08908_0002                   False                   False   \n",
       "Pretrained+P08908_0003                   False                   False   \n",
       "Pretrained+P08908_0004                    True                   False   \n",
       "\n",
       "                        MorganFP_MorganFP_2040  MorganFP_MorganFP_2041  \\\n",
       "QSPRID                                                                   \n",
       "Pretrained+P08908_0000                   False                   False   \n",
       "Pretrained+P08908_0001                   False                   False   \n",
       "Pretrained+P08908_0002                   False                   False   \n",
       "Pretrained+P08908_0003                   False                   False   \n",
       "Pretrained+P08908_0004                   False                   False   \n",
       "\n",
       "                        MorganFP_MorganFP_2042  MorganFP_MorganFP_2043  \\\n",
       "QSPRID                                                                   \n",
       "Pretrained+P08908_0000                   False                   False   \n",
       "Pretrained+P08908_0001                   False                   False   \n",
       "Pretrained+P08908_0002                   False                   False   \n",
       "Pretrained+P08908_0003                   False                   False   \n",
       "Pretrained+P08908_0004                   False                   False   \n",
       "\n",
       "                        MorganFP_MorganFP_2044  MorganFP_MorganFP_2045  \\\n",
       "QSPRID                                                                   \n",
       "Pretrained+P08908_0000                   False                   False   \n",
       "Pretrained+P08908_0001                   False                   False   \n",
       "Pretrained+P08908_0002                   False                   False   \n",
       "Pretrained+P08908_0003                   False                   False   \n",
       "Pretrained+P08908_0004                   False                   False   \n",
       "\n",
       "                        MorganFP_MorganFP_2046  MorganFP_MorganFP_2047  \n",
       "QSPRID                                                                  \n",
       "Pretrained+P08908_0000                   False                   False  \n",
       "Pretrained+P08908_0001                   False                   False  \n",
       "Pretrained+P08908_0002                   False                   False  \n",
       "Pretrained+P08908_0003                   False                   False  \n",
       "Pretrained+P08908_0004                   False                   False  \n",
       "\n",
       "[5 rows x 2048 columns]"
      ]
     },
     "execution_count": 6,
     "metadata": {},
     "output_type": "execute_result"
    }
   ],
   "source": [
    "from qsprpred.data.descriptors.fingerprints import MorganFP\n",
    "\n",
    "morgan_fp = MorganFP(3, 2048)\n",
    "mt_general_P08908.addDescriptors([morgan_fp])\n",
    "mt_general_P08908.getDescriptors().head()"
   ]
  },
  {
   "cell_type": "code",
   "execution_count": 7,
   "id": "d073a951-7219-4c92-95c7-5a9a8a1be6a5",
   "metadata": {},
   "outputs": [
    {
     "name": "stderr",
     "output_type": "stream",
     "text": [
      "/home/sichom/software/miniconda/envs/8add-olomouc-sicho/lib/python3.12/site-packages/umap/umap_.py:1887: UserWarning: gradient function is not yet implemented for jaccard distance metric; inverse_transform will be unavailable\n",
      "  warn(\n",
      "/home/sichom/software/miniconda/envs/8add-olomouc-sicho/lib/python3.12/site-packages/umap/umap_.py:1952: UserWarning: n_jobs value 1 overridden to 1 by setting random_state. Use no seed for parallelism.\n",
      "  warn(\n"
     ]
    },
    {
     "name": "stdout",
     "output_type": "stream",
     "text": [
      "Dash is running on http://127.0.0.1:9000/\n",
      "\n"
     ]
    },
    {
     "data": {
      "text/html": [
       "\n",
       "        <iframe\n",
       "            width=\"100%\"\n",
       "            height=\"800\"\n",
       "            src=\"http://127.0.0.1:9000/\"\n",
       "            frameborder=\"0\"\n",
       "            allowfullscreen\n",
       "            \n",
       "        ></iframe>\n",
       "        "
      ],
      "text/plain": [
       "<IPython.lib.display.IFrame at 0x7f6858484b60>"
      ]
     },
     "metadata": {},
     "output_type": "display_data"
    }
   ],
   "source": [
    "from scaffviz.clustering.manifold import UMAP\n",
    "from scaffviz.depiction.plot import Plot\n",
    "\n",
    "plt = Plot(UMAP(n_neighbors=30, min_dist=0.4, metric=\"jaccard\", random_state=42))\n",
    "plt.plot(\n",
    "    mt_general_P08908,\n",
    "    color_by='Set',\n",
    "    recalculate=True,\n",
    "    port=9000,\n",
    "    viewport_height=800\n",
    ")"
   ]
  },
  {
   "cell_type": "code",
   "execution_count": 8,
   "id": "34173c91-cb7b-48da-832f-009c83dec9f4",
   "metadata": {},
   "outputs": [
    {
     "data": {
      "application/vnd.jupyter.widget-view+json": {
       "model_id": "2668e6d64752493eb7d1e1fcad60e783",
       "version_major": 2,
       "version_minor": 0
      },
      "text/plain": [
       "Standardizing molecules (batch processing):   0%|          | 0/1 [00:00<?, ?it/s]"
      ]
     },
     "metadata": {},
     "output_type": "display_data"
    },
    {
     "data": {
      "text/plain": [
       "['O=C(NC1CCC(CCN2CCN(c3nsc4ccccc34)CC2)CC1)c1ccco1',\n",
       " 'COc1ccc(CN2CC=C(c3c[nH]c4ccc(OC(C)C)cc34)CC2)cc1',\n",
       " 'COc1ccccc1N1CCN(CCCCCN2C(=O)c3ccccc3S2(=O)=O)CC1',\n",
       " 'Fc1ccc2c(C3CCC(N4CCN(c5cccc6[nH]ccc56)CC4)CC3)c[nH]c2c1',\n",
       " 'O=S(=O)(c1cccc2ncccc12)N1CCCC1CCN1CCC(c2noc3cc(F)ccc23)CC1',\n",
       " 'c1ccc(OCCNCC2CCOC(c3ccccc3)(c3ccccc3)O2)cc1',\n",
       " 'COc1cccc(Sc2ccccc2N2CCNCC2)c1',\n",
       " 'CC(C)Oc1ccccc1OCCNCc1cccc(C2CCCC2)c1',\n",
       " 'O=C(NCCCCN1CCN(c2cccc(Cl)c2Cl)CC1)c1cc2ccc1CCc1ccc(cc1)CC2',\n",
       " 'Cc1ccc2c(N3CCN(CCCc4cccc5c4OCC(=O)N5)CC3)cccc2n1']"
      ]
     },
     "execution_count": 8,
     "metadata": {},
     "output_type": "execute_result"
    }
   ],
   "source": [
    "from drugex.data.processing import Standardization\n",
    "\n",
    "N_PROCESSES = 12 # number of CPU cores to use\n",
    "CHUNK_SIZE = 1000 # largest chunk per CPU core (regulates RAM usage)\n",
    "\n",
    "standardizer = Standardization(n_proc=N_PROCESSES, chunk_size=CHUNK_SIZE)\n",
    "smiles_ft = standardizer.apply(df_P08908.SMILES)\n",
    "smiles_ft[0:10]"
   ]
  },
  {
   "cell_type": "code",
   "execution_count": 13,
   "id": "701340e7-23ba-4f8e-8e83-d3e95f877224",
   "metadata": {},
   "outputs": [
    {
     "data": {
      "application/vnd.jupyter.widget-view+json": {
       "model_id": "b642726e34c14a978a44733ebc8c743e",
       "version_major": 2,
       "version_minor": 0
      },
      "text/plain": [
       "SequenceCorpus (batch processing):   0%|          | 0/1 [00:00<?, ?it/s]"
      ]
     },
     "metadata": {},
     "output_type": "display_data"
    },
    {
     "data": {
      "text/plain": [
       "<drugex.data.datasets.SmilesDataSet at 0x7f6857834740>"
      ]
     },
     "execution_count": 13,
     "metadata": {},
     "output_type": "execute_result"
    }
   ],
   "source": [
    "from drugex.data.processing import CorpusEncoder, RandomTrainTestSplitter\n",
    "from drugex.data.corpus.corpus import SequenceCorpus\n",
    "from drugex.data.datasets import SmilesDataSet\n",
    "from drugex.logs import logger\n",
    "logger.setLevel('ERROR')\n",
    "\n",
    "DATA_DIR = \"data/datasets/encoded/rnn/\"\n",
    "os.makedirs(DATA_DIR, exist_ok=True)\n",
    "\n",
    "voc = VocSmiles.fromFile(f\"{MODELS_PR_PATH}/Papyrus05.5_smiles_rnn_PT.vocab\", encode_frags=False)\n",
    "encoder = CorpusEncoder( # CorpusEcoder uses the supplied corpus class to encode tokens for the new data set\n",
    "    SequenceCorpus, # The corpus class implements how each SMILES string is divided into words by the vocabulary\n",
    "    {\n",
    "        # arguments of the SequenceCorpus\n",
    "        'vocabulary': voc, # used vocabulary\n",
    "        'update_voc': False, # if False, the vocabulary stays fixed (no new tokens are added to it)\n",
    "        'throw': True # compounds containing unknown tokens are thrown out of the resulting data set\n",
    "\n",
    "    },\n",
    "    n_proc=N_PROCESSES,\n",
    "    chunk_size=CHUNK_SIZE\n",
    ")\n",
    "\n",
    "data_collector = SmilesDataSet(os.path.join(DATA_DIR, 'ligand_corpus.tsv'), rewrite=True)\n",
    "encoder.apply(smiles_ft, collector=data_collector)\n",
    "data_collector"
   ]
  },
  {
   "cell_type": "code",
   "execution_count": 20,
   "id": "810eb51c-8e9f-4395-92a2-d3f37f2a41d3",
   "metadata": {},
   "outputs": [
    {
     "data": {
      "text/plain": [
       "<drugex.data.datasets.SmilesDataSet at 0x7f6858482fc0>"
      ]
     },
     "execution_count": 20,
     "metadata": {},
     "output_type": "execute_result"
    }
   ],
   "source": [
    "pd.DataFrame(data_collector.getData()).sample(1000).to_csv(f\"{DATA_DIR}_test_dummy.tsv\", header=True, index=False, sep='\\t')\n",
    "data_set_test = SmilesDataSet(f\"{DATA_DIR}_test_dummy.tsv\", voc=voc)\n",
    "data_set_test"
   ]
  },
  {
   "cell_type": "code",
   "execution_count": 23,
   "id": "f5ab4ff4-81ab-47f4-9d43-d0e437076005",
   "metadata": {},
   "outputs": [
    {
     "name": "stderr",
     "output_type": "stream",
     "text": [
      "/home/sichom/software/miniconda/envs/8add-olomouc-sicho/lib/python3.12/site-packages/drugex/training/interfaces.py:322: FutureWarning:\n",
      "\n",
      "You are using `torch.load` with `weights_only=False` (the current default value), which uses the default pickle module implicitly. It is possible to construct malicious pickle data which will execute arbitrary code during unpickling (See https://github.com/pytorch/pytorch/blob/main/SECURITY.md#untrusted-models for more details). In a future release, the default value for `weights_only` will be flipped to `True`. This limits the functions that could be executed during unpickling. Arbitrary objects will no longer be allowed to be loaded via this mode unless they are explicitly allowlisted by the user via `torch.serialization.add_safe_globals`. We recommend you start setting `weights_only=True` for any use case where you don't have full control of the loaded file. Please open an issue on GitHub for any issues related to this experimental feature.\n",
      "\n"
     ]
    },
    {
     "data": {
      "application/vnd.jupyter.widget-view+json": {
       "model_id": "2d1f7abb8adb4294ab1a0df576f8422f",
       "version_major": 2,
       "version_minor": 0
      },
      "text/plain": [
       "Fitting model:   0%|          | 0/10 [00:00<?, ?it/s]"
      ]
     },
     "metadata": {},
     "output_type": "display_data"
    }
   ],
   "source": [
    "from drugex.training.monitors import FileMonitor\n",
    "\n",
    "MODEL_DIR = \"data/models/finetuned/rnn\"\n",
    "BATCH_SIZE = 256\n",
    "\n",
    "loader_train = data_collector.asDataLoader(batch_size=BATCH_SIZE)\n",
    "loader_test = data_set_test.asDataLoader(batch_size=BATCH_SIZE)\n",
    "ft_path = os.path.join(MODEL_DIR, 'P08908_finetuned')\n",
    "finetuned = SequenceRNN(voc, is_lstm=True)\n",
    "finetuned.loadStatesFromFile(os.path.join(MODELS_PR_PATH, 'Papyrus05.5_smiles_rnn_PT.pkg'))\n",
    "monitor = FileMonitor(ft_path, save_smiles=True, reset_directory=True)\n",
    "finetuned.fit(loader_train, loader_test, epochs=10, monitor=monitor, patience=30)\n",
    "voc.toFile(os.path.join(MODEL_DIR, 'P08908_finetuned.vocab'))"
   ]
  },
  {
   "cell_type": "code",
   "execution_count": 24,
   "id": "af1c55d6-a8fc-48c9-b46b-14b712f4fa9f",
   "metadata": {},
   "outputs": [
    {
     "data": {
      "text/html": [
       "<div>\n",
       "<style scoped>\n",
       "    .dataframe tbody tr th:only-of-type {\n",
       "        vertical-align: middle;\n",
       "    }\n",
       "\n",
       "    .dataframe tbody tr th {\n",
       "        vertical-align: top;\n",
       "    }\n",
       "\n",
       "    .dataframe thead th {\n",
       "        text-align: right;\n",
       "    }\n",
       "</style>\n",
       "<table border=\"1\" class=\"dataframe\">\n",
       "  <thead>\n",
       "    <tr style=\"text-align: right;\">\n",
       "      <th></th>\n",
       "      <th>Epoch</th>\n",
       "      <th>loss_train</th>\n",
       "      <th>loss_valid</th>\n",
       "      <th>valid_ratio</th>\n",
       "      <th>best_epoch</th>\n",
       "    </tr>\n",
       "  </thead>\n",
       "  <tbody>\n",
       "    <tr>\n",
       "      <th>0</th>\n",
       "      <td>1</td>\n",
       "      <td>1.200</td>\n",
       "      <td>1.035</td>\n",
       "      <td>0.604</td>\n",
       "      <td>1</td>\n",
       "    </tr>\n",
       "    <tr>\n",
       "      <th>1</th>\n",
       "      <td>2</td>\n",
       "      <td>0.241</td>\n",
       "      <td>0.234</td>\n",
       "      <td>0.346</td>\n",
       "      <td>2</td>\n",
       "    </tr>\n",
       "    <tr>\n",
       "      <th>2</th>\n",
       "      <td>3</td>\n",
       "      <td>0.183</td>\n",
       "      <td>0.170</td>\n",
       "      <td>0.594</td>\n",
       "      <td>3</td>\n",
       "    </tr>\n",
       "    <tr>\n",
       "      <th>3</th>\n",
       "      <td>4</td>\n",
       "      <td>0.161</td>\n",
       "      <td>0.145</td>\n",
       "      <td>0.672</td>\n",
       "      <td>4</td>\n",
       "    </tr>\n",
       "    <tr>\n",
       "      <th>4</th>\n",
       "      <td>5</td>\n",
       "      <td>0.139</td>\n",
       "      <td>0.131</td>\n",
       "      <td>0.699</td>\n",
       "      <td>5</td>\n",
       "    </tr>\n",
       "  </tbody>\n",
       "</table>\n",
       "</div>"
      ],
      "text/plain": [
       "   Epoch  loss_train  loss_valid  valid_ratio  best_epoch\n",
       "0      1       1.200       1.035        0.604           1\n",
       "1      2       0.241       0.234        0.346           2\n",
       "2      3       0.183       0.170        0.594           3\n",
       "3      4       0.161       0.145        0.672           4\n",
       "4      5       0.139       0.131        0.699           5"
      ]
     },
     "execution_count": 24,
     "metadata": {},
     "output_type": "execute_result"
    }
   ],
   "source": [
    "df_info = pd.read_csv(f'{MODEL_DIR}/P08908_finetuned_fit.tsv', sep='\\t')\n",
    "df_info.head()"
   ]
  },
  {
   "cell_type": "code",
   "execution_count": 25,
   "id": "4d73778d-cd87-4c53-beda-6708c50a1297",
   "metadata": {},
   "outputs": [
    {
     "data": {
      "text/plain": [
       "<Axes: >"
      ]
     },
     "execution_count": 25,
     "metadata": {},
     "output_type": "execute_result"
    },
    {
     "data": {
      "image/png": "[encoded data removed]",
      "text/plain": [
       "<Figure size 640x480 with 1 Axes>"
      ]
     },
     "metadata": {},
     "output_type": "display_data"
    }
   ],
   "source": [
    "df_info[['loss_train', 'loss_valid']].plot.line()"
   ]
  },
  {
   "cell_type": "code",
   "execution_count": 26,
   "id": "d4553b98-5ee1-498f-8d55-061406ee7499",
   "metadata": {},
   "outputs": [
    {
     "data": {
      "application/vnd.jupyter.widget-view+json": {
       "model_id": "4c1c30fd44a442e09518487786de245e",
       "version_major": 2,
       "version_minor": 0
      },
      "text/plain": [
       "Generating molecules:   0%|          | 0/1000 [00:00<?, ?it/s]"
      ]
     },
     "metadata": {},
     "output_type": "display_data"
    },
    {
     "data": {
      "text/plain": [
       "array(['Generated (pretrained)', 'P08908', 'Fine-tuned'], dtype=object)"
      ]
     },
     "execution_count": 26,
     "metadata": {},
     "output_type": "execute_result"
    }
   ],
   "source": [
    "df_finetuned = finetuned.generate(num_samples=1000)\n",
    "df_finetuned[\"Set\"] = \"Fine-tuned\"\n",
    "df_all_sets = pd.concat([df_all_sets, df_finetuned])\n",
    "df_all_sets.Set.unique()"
   ]
  },
  {
   "cell_type": "code",
   "execution_count": 28,
   "id": "9b5f517f-7b2f-4ced-a38c-9a6292a81fae",
   "metadata": {},
   "outputs": [
    {
     "name": "stderr",
     "output_type": "stream",
     "text": [
      "/home/sichom/software/miniconda/envs/8add-olomouc-sicho/lib/python3.12/site-packages/umap/umap_.py:1887: UserWarning:\n",
      "\n",
      "gradient function is not yet implemented for jaccard distance metric; inverse_transform will be unavailable\n",
      "\n",
      "/home/sichom/software/miniconda/envs/8add-olomouc-sicho/lib/python3.12/site-packages/umap/umap_.py:1952: UserWarning:\n",
      "\n",
      "n_jobs value 1 overridden to 1 by setting random_state. Use no seed for parallelism.\n",
      "\n"
     ]
    },
    {
     "name": "stdout",
     "output_type": "stream",
     "text": [
      "Dash is running on http://127.0.0.1:9001/\n",
      "\n"
     ]
    },
    {
     "data": {
      "text/html": [
       "\n",
       "        <iframe\n",
       "            width=\"100%\"\n",
       "            height=\"800\"\n",
       "            src=\"http://127.0.0.1:9001/\"\n",
       "            frameborder=\"0\"\n",
       "            allowfullscreen\n",
       "            \n",
       "        ></iframe>\n",
       "        "
      ],
      "text/plain": [
       "<IPython.lib.display.IFrame at 0x7f696f24be60>"
      ]
     },
     "metadata": {},
     "output_type": "display_data"
    }
   ],
   "source": [
    "mt_general_P08908_ft = MoleculeTable(\n",
    "    name=\"Pretrained+P08908+FT\", \n",
    "    df=df_all_sets.copy()\n",
    ")\n",
    "morgan_fp = MorganFP(3, 2048)\n",
    "mt_general_P08908_ft.addDescriptors([morgan_fp])\n",
    "plt = Plot(UMAP(n_neighbors=30, min_dist=0.4, metric=\"jaccard\", random_state=42))\n",
    "plt.plot(\n",
    "    mt_general_P08908_ft,\n",
    "    color_by='Set',\n",
    "    recalculate=True,\n",
    "    port=9001,\n",
    "    viewport_height=800\n",
    ")"
   ]
  },
  {
   "cell_type": "code",
   "execution_count": 29,
   "id": "d25f1600-b4d7-41e1-b837-450892f093d1",
   "metadata": {},
   "outputs": [
    {
     "data": {
      "text/plain": [
       "<qsprpred.models.scikit_learn.SklearnModel at 0x7f6880f51fd0>"
      ]
     },
     "execution_count": 29,
     "metadata": {},
     "output_type": "execute_result"
    }
   ],
   "source": [
    "from qsprpred.models import QSPRModel\n",
    "\n",
    "qsar_model = QSPRModel.fromFile(\"./data/models/qsar/P08908_LIGANDS_nostereo_XGBRegressor/P08908_LIGANDS_nostereo_XGBRegressor_meta.json\")\n",
    "qsar_model"
   ]
  },
  {
   "cell_type": "code",
   "execution_count": 30,
   "id": "2af2acf5-30ec-46f1-903d-b9b1e5cc0697",
   "metadata": {},
   "outputs": [
    {
     "data": {
      "text/plain": [
       "array([[5.381205],\n",
       "       [5.956837],\n",
       "       [6.144106],\n",
       "       ...,\n",
       "       [7.041663],\n",
       "       [7.761481],\n",
       "       [6.458968]], dtype=float32)"
      ]
     },
     "execution_count": 30,
     "metadata": {},
     "output_type": "execute_result"
    }
   ],
   "source": [
    "predictions = qsar_model.predictMols(list(mt_general_P08908_ft.smiles))\n",
    "predictions"
   ]
  },
  {
   "cell_type": "code",
   "execution_count": 31,
   "id": "53f30961-a242-435e-9b05-2324eddfc66b",
   "metadata": {},
   "outputs": [],
   "source": [
    "mt_general_P08908_ft.addProperty(f\"{qsar_model.name}_predictions\", predictions)"
   ]
  },
  {
   "cell_type": "code",
   "execution_count": 34,
   "id": "b16b1372-2186-42c5-9533-a76c9df74a74",
   "metadata": {},
   "outputs": [
    {
     "name": "stdout",
     "output_type": "stream",
     "text": [
      "Dash is running on http://127.0.0.1:9001/\n",
      "\n"
     ]
    },
    {
     "data": {
      "text/html": [
       "\n",
       "        <iframe\n",
       "            width=\"100%\"\n",
       "            height=\"800\"\n",
       "            src=\"http://127.0.0.1:9001/\"\n",
       "            frameborder=\"0\"\n",
       "            allowfullscreen\n",
       "            \n",
       "        ></iframe>\n",
       "        "
      ],
      "text/plain": [
       "<IPython.lib.display.IFrame at 0x7f687ca5d490>"
      ]
     },
     "metadata": {},
     "output_type": "display_data"
    },
    {
     "name": "stdout",
     "output_type": "stream",
     "text": [
      "\u001b[1;31m---------------------------------------------------------------------------\u001b[0m\n",
      "\u001b[1;31mKeyError\u001b[0m                                  Traceback (most recent call last)\n",
      "\u001b[1;31mKeyError\u001b[0m: 1\n",
      "\n"
     ]
    }
   ],
   "source": [
    "plt.plot(\n",
    "    mt_general_P08908_ft,\n",
    "    color_by=f\"{qsar_model.name}_predictions\",\n",
    "    recalculate=False,\n",
    "    card_data=[\n",
    "        \"pchembl_value_Median\"\n",
    "    ],\n",
    "    port=9001,\n",
    "    viewport_height=800\n",
    ")"
   ]
  },
  {
   "cell_type": "code",
   "execution_count": 36,
   "id": "bd968918-40f5-4f28-aae4-537c9b4c7913",
   "metadata": {},
   "outputs": [],
   "source": [
    "from drugex.training.scorers.qsprpred import QSPRPredScorer\n",
    "from drugex.training.scorers.properties import Property\n",
    "\n",
    "qsprpred_scorer = QSPRPredScorer(qsar_model)\n",
    "sascore_scorer = Property(\"SA\")"
   ]
  },
  {
   "cell_type": "code",
   "execution_count": 38,
   "id": "2e1a3459-cc07-4d46-bac6-75822858d252",
   "metadata": {},
   "outputs": [
    {
     "data": {
      "application/vnd.jupyter.widget-view+json": {
       "model_id": "dc41b5a76fd745cd8fca900d0739072d",
       "version_major": 2,
       "version_minor": 0
      },
      "text/plain": [
       "Generating molecules:   0%|          | 0/100 [00:00<?, ?it/s]"
      ]
     },
     "metadata": {},
     "output_type": "display_data"
    },
    {
     "data": {
      "text/plain": [
       "array([ 6.05030537,  7.23774767,  6.33885479,  7.32532787,  6.23512793,\n",
       "        4.75266695,  8.53013515,  6.81428528,  7.06933641,  6.43579054,\n",
       "        7.15014553,  9.45944023,  6.64682245,  7.2851553 ,  6.16171694,\n",
       "        7.90321159,  7.25539207, 10.44802761,  6.96845436,  6.70160294,\n",
       "        6.08499956,  6.45706558,  7.16222811,  7.1970582 ,  8.05116081,\n",
       "        5.96034002,  6.36242962,  6.63507509,  5.76588917,  9.42341995,\n",
       "        6.84353733,  5.30770683,  8.18309784,  8.87018299,  8.56408978,\n",
       "        8.35440254,  6.35266876,  8.19589996,  7.57043839,  7.43074226,\n",
       "        6.41716194,  8.05113697,  6.30990076,  6.66064644,  8.00413609,\n",
       "        8.0017252 ,  7.68030787,  8.41287041,  7.32251883,  6.56380415,\n",
       "        6.01105309,  6.85297775,  7.54782629,  8.0383997 ,  7.29187965,\n",
       "        6.98371935,  7.57261419,  5.59172153,  7.64723015,  7.73757887,\n",
       "        6.97178411,  6.94208527,  6.45875359,  6.65388918,  6.85412216,\n",
       "        5.81437635,  6.97766781,  6.82111788,  7.38987064,  7.34103584,\n",
       "        7.59208441,  6.68570995,  7.07806587,  6.76037598,  7.08109522,\n",
       "        6.44089365,  7.13417625,  6.71372795,  6.32671499,  8.06687832,\n",
       "        5.97874594,  6.79601002,  6.13263226,  6.71535587,  6.31280422,\n",
       "        6.79705477,  6.09433889,  7.53104973,  7.86233139,  7.10210609,\n",
       "        8.34219551, 10.13763905,  6.7126565 ,  5.83187532,  6.32473946,\n",
       "        8.23806667,  5.44072056,  7.59218502,  7.80653381,  6.14860868])"
      ]
     },
     "execution_count": 38,
     "metadata": {},
     "output_type": "execute_result"
    }
   ],
   "source": [
    "sample = finetuned.generate(100).SMILES\n",
    "qsprpred_scorer.getScores(sample)"
   ]
  },
  {
   "cell_type": "code",
   "execution_count": 42,
   "id": "16caef53-e435-4dfc-b2cf-f399eb28f450",
   "metadata": {},
   "outputs": [
    {
     "data": {
      "text/plain": [
       "array([2.87473131, 1.86378012, 3.97818023, 2.5278542 , 2.09363819,\n",
       "       3.08696675, 2.81683346, 1.99623839, 2.72876489, 3.47778334,\n",
       "       2.71928076, 2.45114767, 2.71911777, 1.88304014, 2.28621215,\n",
       "       3.05759486, 2.32964705, 2.54396216, 2.09264321, 2.63873065,\n",
       "       2.66862105, 2.7131909 , 1.62455771, 2.09160106, 3.3161487 ,\n",
       "       4.99410402, 3.6396473 , 3.50153498, 3.54747931, 2.92927964,\n",
       "       2.93323302, 2.64114534, 1.95910224, 2.51155231, 3.1360818 ,\n",
       "       1.9409272 , 4.05158402, 1.84273269, 2.10170473, 2.25180067,\n",
       "       2.61316452, 2.27078269, 3.68051917, 1.94693944, 2.33154718,\n",
       "       2.26274259, 2.17401991, 2.34103997, 1.78329569, 2.74614875,\n",
       "       2.8412914 , 2.11835329, 2.30926517, 2.51266842, 2.44511894,\n",
       "       3.26905754, 2.11332032, 2.42988228, 3.05542834, 2.65040704,\n",
       "       2.70861866, 2.62255707, 2.76913299, 2.48996614, 2.94919244,\n",
       "       3.13969529, 3.37029061, 1.85575096, 3.17831356, 2.95149034,\n",
       "       2.12715353, 2.24438557, 3.0872273 , 2.95379638, 1.99565951,\n",
       "       3.05070698, 3.22308947, 3.01313761, 2.70958431, 3.20441258,\n",
       "       2.32088912, 1.94933443, 2.59761859, 2.97044169, 4.24653988,\n",
       "       2.59098853, 2.89289258, 3.09107169, 2.73535816, 2.03927447,\n",
       "       2.455321  , 2.41433231, 2.17586069, 2.74488852, 1.24791358,\n",
       "       2.48859282, 1.82595535, 2.47191671, 2.09591179, 2.08189903])"
      ]
     },
     "execution_count": 42,
     "metadata": {},
     "output_type": "execute_result"
    }
   ],
   "source": [
    "from rdkit import Chem\n",
    "\n",
    "sascore_scorer.getScores([Chem.MolFromSmiles(smile) for smile in sample])"
   ]
  },
  {
   "cell_type": "code",
   "execution_count": 50,
   "id": "35042c8c-1c81-4c3f-9835-4fb58c5dffea",
   "metadata": {},
   "outputs": [],
   "source": [
    "from drugex.training.scorers.modifiers import ClippedScore\n",
    "\n",
    "qsprpred_scorer.setModifier(ClippedScore(lower_x=6, upper_x=8))\n",
    "raw = qsprpred_scorer.getScores(sample)\n",
    "modified = qsprpred_scorer(sample)"
   ]
  },
  {
   "cell_type": "code",
   "execution_count": 51,
   "id": "b801a511-b10b-4f6e-a156-08e458b672bf",
   "metadata": {},
   "outputs": [
    {
     "data": {
      "text/plain": [
       "<Axes: >"
      ]
     },
     "execution_count": 51,
     "metadata": {},
     "output_type": "execute_result"
    },
    {
     "data": {
      "image/png": "[encoded data removed]",
      "text/plain": [
       "<Figure size 640x480 with 1 Axes>"
      ]
     },
     "metadata": {},
     "output_type": "display_data"
    }
   ],
   "source": [
    "import seaborn as sns\n",
    "\n",
    "sns.scatterplot(x=raw, y=modified)"
   ]
  },
  {
   "cell_type": "code",
   "execution_count": 57,
   "id": "0edcdfc0-500d-4cf2-97a1-965a054f4a44",
   "metadata": {},
   "outputs": [],
   "source": [
    "from drugex.training.scorers.modifiers import SmoothClippedScore\n",
    "\n",
    "sascore_scorer.setModifier(SmoothClippedScore(lower_x=4, upper_x=2))\n",
    "raw = sascore_scorer.getScores([Chem.MolFromSmiles(smile) for smile in sample])\n",
    "modified = sascore_scorer([Chem.MolFromSmiles(smile) for smile in sample])"
   ]
  },
  {
   "cell_type": "code",
   "execution_count": 58,
   "id": "0713c62e-25fb-4f28-9389-a0cad948f432",
   "metadata": {},
   "outputs": [
    {
     "data": {
      "text/plain": [
       "<Axes: >"
      ]
     },
     "execution_count": 58,
     "metadata": {},
     "output_type": "execute_result"
    },
    {
     "data": {
      "image/png": "[encoded data removed]",
      "text/plain": [
       "<Figure size 640x480 with 1 Axes>"
      ]
     },
     "metadata": {},
     "output_type": "display_data"
    }
   ],
   "source": [
    "import seaborn as sns\n",
    "\n",
    "sns.scatterplot(x=raw, y=modified)"
   ]
  },
  {
   "cell_type": "code",
   "execution_count": 60,
   "id": "26b22cb9-55e9-4a8f-90b6-c1fbc3201e16",
   "metadata": {},
   "outputs": [],
   "source": [
    "from drugex.training.environment import DrugExEnvironment\n",
    "from drugex.training.rewards import ParetoCrowdingDistance\n",
    "\n",
    "scorers = [\n",
    "    qsprpred_scorer,\n",
    "    sascore_scorer\n",
    "]\n",
    "thresholds = [\n",
    "    0.5,\n",
    "    0.1\n",
    "]\n",
    "\n",
    "environment = DrugExEnvironment(scorers, thresholds, reward_scheme=ParetoCrowdingDistance())"
   ]
  },
  {
   "cell_type": "code",
   "execution_count": 61,
   "id": "7a6ef85a-cde3-4368-b3f2-b411ac6b6595",
   "metadata": {},
   "outputs": [
    {
     "data": {
      "text/html": [
       "<div>\n",
       "<style scoped>\n",
       "    .dataframe tbody tr th:only-of-type {\n",
       "        vertical-align: middle;\n",
       "    }\n",
       "\n",
       "    .dataframe tbody tr th {\n",
       "        vertical-align: top;\n",
       "    }\n",
       "\n",
       "    .dataframe thead th {\n",
       "        text-align: right;\n",
       "    }\n",
       "</style>\n",
       "<table border=\"1\" class=\"dataframe\">\n",
       "  <thead>\n",
       "    <tr style=\"text-align: right;\">\n",
       "      <th></th>\n",
       "      <th>Valid</th>\n",
       "      <th>QSPRpred_P08908_LIGANDS_nostereo_XGBRegressor</th>\n",
       "      <th>SA</th>\n",
       "      <th>Desired</th>\n",
       "    </tr>\n",
       "  </thead>\n",
       "  <tbody>\n",
       "    <tr>\n",
       "      <th>0</th>\n",
       "      <td>1.0</td>\n",
       "      <td>0.025153</td>\n",
       "      <td>0.562309</td>\n",
       "      <td>0</td>\n",
       "    </tr>\n",
       "    <tr>\n",
       "      <th>1</th>\n",
       "      <td>1.0</td>\n",
       "      <td>0.618874</td>\n",
       "      <td>0.906569</td>\n",
       "      <td>1</td>\n",
       "    </tr>\n",
       "    <tr>\n",
       "      <th>2</th>\n",
       "      <td>1.0</td>\n",
       "      <td>0.169427</td>\n",
       "      <td>0.123861</td>\n",
       "      <td>0</td>\n",
       "    </tr>\n",
       "    <tr>\n",
       "      <th>3</th>\n",
       "      <td>1.0</td>\n",
       "      <td>0.662664</td>\n",
       "      <td>0.719966</td>\n",
       "      <td>1</td>\n",
       "    </tr>\n",
       "    <tr>\n",
       "      <th>4</th>\n",
       "      <td>1.0</td>\n",
       "      <td>0.117564</td>\n",
       "      <td>0.859691</td>\n",
       "      <td>0</td>\n",
       "    </tr>\n",
       "    <tr>\n",
       "      <th>...</th>\n",
       "      <td>...</td>\n",
       "      <td>...</td>\n",
       "      <td>...</td>\n",
       "      <td>...</td>\n",
       "    </tr>\n",
       "    <tr>\n",
       "      <th>95</th>\n",
       "      <td>1.0</td>\n",
       "      <td>1.000000</td>\n",
       "      <td>0.735520</td>\n",
       "      <td>1</td>\n",
       "    </tr>\n",
       "    <tr>\n",
       "      <th>96</th>\n",
       "      <td>1.0</td>\n",
       "      <td>0.000000</td>\n",
       "      <td>0.912782</td>\n",
       "      <td>0</td>\n",
       "    </tr>\n",
       "    <tr>\n",
       "      <th>97</th>\n",
       "      <td>1.0</td>\n",
       "      <td>0.796093</td>\n",
       "      <td>0.741957</td>\n",
       "      <td>1</td>\n",
       "    </tr>\n",
       "    <tr>\n",
       "      <th>98</th>\n",
       "      <td>1.0</td>\n",
       "      <td>0.903267</td>\n",
       "      <td>0.859141</td>\n",
       "      <td>1</td>\n",
       "    </tr>\n",
       "    <tr>\n",
       "      <th>99</th>\n",
       "      <td>1.0</td>\n",
       "      <td>0.074304</td>\n",
       "      <td>0.862499</td>\n",
       "      <td>0</td>\n",
       "    </tr>\n",
       "  </tbody>\n",
       "</table>\n",
       "<p>100 rows × 4 columns</p>\n",
       "</div>"
      ],
      "text/plain": [
       "    Valid  QSPRpred_P08908_LIGANDS_nostereo_XGBRegressor        SA  Desired\n",
       "0     1.0                                       0.025153  0.562309        0\n",
       "1     1.0                                       0.618874  0.906569        1\n",
       "2     1.0                                       0.169427  0.123861        0\n",
       "3     1.0                                       0.662664  0.719966        1\n",
       "4     1.0                                       0.117564  0.859691        0\n",
       "..    ...                                            ...       ...      ...\n",
       "95    1.0                                       1.000000  0.735520        1\n",
       "96    1.0                                       0.000000  0.912782        0\n",
       "97    1.0                                       0.796093  0.741957        1\n",
       "98    1.0                                       0.903267  0.859141        1\n",
       "99    1.0                                       0.074304  0.862499        0\n",
       "\n",
       "[100 rows x 4 columns]"
      ]
     },
     "execution_count": 61,
     "metadata": {},
     "output_type": "execute_result"
    }
   ],
   "source": [
    "scores = environment.getScores(sample)\n",
    "scores"
   ]
  },
  {
   "cell_type": "code",
   "execution_count": 63,
   "id": "2530b3b9-db36-4946-b359-4af3d63bbc81",
   "metadata": {},
   "outputs": [
    {
     "data": {
      "text/html": [
       "<div>\n",
       "<style scoped>\n",
       "    .dataframe tbody tr th:only-of-type {\n",
       "        vertical-align: middle;\n",
       "    }\n",
       "\n",
       "    .dataframe tbody tr th {\n",
       "        vertical-align: top;\n",
       "    }\n",
       "\n",
       "    .dataframe thead th {\n",
       "        text-align: right;\n",
       "    }\n",
       "</style>\n",
       "<table border=\"1\" class=\"dataframe\">\n",
       "  <thead>\n",
       "    <tr style=\"text-align: right;\">\n",
       "      <th></th>\n",
       "      <th>QSPRpred_P08908_LIGANDS_nostereo_XGBRegressor</th>\n",
       "      <th>SA</th>\n",
       "    </tr>\n",
       "  </thead>\n",
       "  <tbody>\n",
       "    <tr>\n",
       "      <th>0</th>\n",
       "      <td>6.050305</td>\n",
       "      <td>2.874731</td>\n",
       "    </tr>\n",
       "    <tr>\n",
       "      <th>1</th>\n",
       "      <td>7.237748</td>\n",
       "      <td>1.863780</td>\n",
       "    </tr>\n",
       "    <tr>\n",
       "      <th>2</th>\n",
       "      <td>6.338855</td>\n",
       "      <td>3.978180</td>\n",
       "    </tr>\n",
       "    <tr>\n",
       "      <th>3</th>\n",
       "      <td>7.325328</td>\n",
       "      <td>2.527854</td>\n",
       "    </tr>\n",
       "    <tr>\n",
       "      <th>4</th>\n",
       "      <td>6.235128</td>\n",
       "      <td>2.093638</td>\n",
       "    </tr>\n",
       "    <tr>\n",
       "      <th>...</th>\n",
       "      <td>...</td>\n",
       "      <td>...</td>\n",
       "    </tr>\n",
       "    <tr>\n",
       "      <th>95</th>\n",
       "      <td>8.238067</td>\n",
       "      <td>2.488593</td>\n",
       "    </tr>\n",
       "    <tr>\n",
       "      <th>96</th>\n",
       "      <td>5.440721</td>\n",
       "      <td>1.825955</td>\n",
       "    </tr>\n",
       "    <tr>\n",
       "      <th>97</th>\n",
       "      <td>7.592185</td>\n",
       "      <td>2.471917</td>\n",
       "    </tr>\n",
       "    <tr>\n",
       "      <th>98</th>\n",
       "      <td>7.806534</td>\n",
       "      <td>2.095912</td>\n",
       "    </tr>\n",
       "    <tr>\n",
       "      <th>99</th>\n",
       "      <td>6.148609</td>\n",
       "      <td>2.081899</td>\n",
       "    </tr>\n",
       "  </tbody>\n",
       "</table>\n",
       "<p>100 rows × 2 columns</p>\n",
       "</div>"
      ],
      "text/plain": [
       "    QSPRpred_P08908_LIGANDS_nostereo_XGBRegressor        SA\n",
       "0                                        6.050305  2.874731\n",
       "1                                        7.237748  1.863780\n",
       "2                                        6.338855  3.978180\n",
       "3                                        7.325328  2.527854\n",
       "4                                        6.235128  2.093638\n",
       "..                                            ...       ...\n",
       "95                                       8.238067  2.488593\n",
       "96                                       5.440721  1.825955\n",
       "97                                       7.592185  2.471917\n",
       "98                                       7.806534  2.095912\n",
       "99                                       6.148609  2.081899\n",
       "\n",
       "[100 rows x 2 columns]"
      ]
     },
     "execution_count": 63,
     "metadata": {},
     "output_type": "execute_result"
    }
   ],
   "source": [
    "environment.getUnmodifiedScores(sample)"
   ]
  },
  {
   "cell_type": "code",
   "execution_count": 78,
   "id": "53130be2-00dd-4a0f-b8c2-afe5b9a5f676",
   "metadata": {},
   "outputs": [
    {
     "data": {
      "application/vnd.jupyter.widget-view+json": {
       "model_id": "23df6c96888d4eb8ac435616ee7c22d8",
       "version_major": 2,
       "version_minor": 0
      },
      "text/plain": [
       "Fitting SMILES RNN explorer:   0%|          | 0/30 [00:00<?, ?it/s]"
      ]
     },
     "metadata": {},
     "output_type": "display_data"
    },
    {
     "data": {
      "application/vnd.jupyter.widget-view+json": {
       "model_id": "4b9b318e467e41e994ea741cf1157716",
       "version_major": 2,
       "version_minor": 0
      },
      "text/plain": [
       "Calculating policy gradient...:   0%|          | 0/8 [00:00<?, ?it/s]"
      ]
     },
     "metadata": {},
     "output_type": "display_data"
    },
    {
     "data": {
      "application/vnd.jupyter.widget-view+json": {
       "model_id": "2fc8bdbaa0974505b342ef680c22f561",
       "version_major": 2,
       "version_minor": 0
      },
      "text/plain": [
       "Calculating policy gradient...:   0%|          | 0/8 [00:00<?, ?it/s]"
      ]
     },
     "metadata": {},
     "output_type": "display_data"
    },
    {
     "data": {
      "application/vnd.jupyter.widget-view+json": {
       "model_id": "cc8a94bdf1324f66830aad7e61eb1b03",
       "version_major": 2,
       "version_minor": 0
      },
      "text/plain": [
       "Calculating policy gradient...:   0%|          | 0/8 [00:00<?, ?it/s]"
      ]
     },
     "metadata": {},
     "output_type": "display_data"
    },
    {
     "data": {
      "application/vnd.jupyter.widget-view+json": {
       "model_id": "55dfb235258c4dfbaf63d4738c6b5eca",
       "version_major": 2,
       "version_minor": 0
      },
      "text/plain": [
       "Calculating policy gradient...:   0%|          | 0/8 [00:00<?, ?it/s]"
      ]
     },
     "metadata": {},
     "output_type": "display_data"
    },
    {
     "data": {
      "application/vnd.jupyter.widget-view+json": {
       "model_id": "cb476235b5bb42b6a02faa8f4a65cc31",
       "version_major": 2,
       "version_minor": 0
      },
      "text/plain": [
       "Calculating policy gradient...:   0%|          | 0/8 [00:00<?, ?it/s]"
      ]
     },
     "metadata": {},
     "output_type": "display_data"
    },
    {
     "data": {
      "application/vnd.jupyter.widget-view+json": {
       "model_id": "b44ec921f94042d4ac7dc6d574b33139",
       "version_major": 2,
       "version_minor": 0
      },
      "text/plain": [
       "Calculating policy gradient...:   0%|          | 0/8 [00:00<?, ?it/s]"
      ]
     },
     "metadata": {},
     "output_type": "display_data"
    },
    {
     "data": {
      "application/vnd.jupyter.widget-view+json": {
       "model_id": "f9af8047a62342d289df143a41e4ca8c",
       "version_major": 2,
       "version_minor": 0
      },
      "text/plain": [
       "Calculating policy gradient...:   0%|          | 0/8 [00:00<?, ?it/s]"
      ]
     },
     "metadata": {},
     "output_type": "display_data"
    },
    {
     "data": {
      "application/vnd.jupyter.widget-view+json": {
       "model_id": "1005ac9a4edf4c5abc875011aaac9978",
       "version_major": 2,
       "version_minor": 0
      },
      "text/plain": [
       "Calculating policy gradient...:   0%|          | 0/8 [00:00<?, ?it/s]"
      ]
     },
     "metadata": {},
     "output_type": "display_data"
    },
    {
     "data": {
      "application/vnd.jupyter.widget-view+json": {
       "model_id": "6c90c1c773fd4c70a0718587ae81d571",
       "version_major": 2,
       "version_minor": 0
      },
      "text/plain": [
       "Calculating policy gradient...:   0%|          | 0/8 [00:00<?, ?it/s]"
      ]
     },
     "metadata": {},
     "output_type": "display_data"
    },
    {
     "data": {
      "application/vnd.jupyter.widget-view+json": {
       "model_id": "e3d92e2d1e464c2c8868ad76426b04b4",
       "version_major": 2,
       "version_minor": 0
      },
      "text/plain": [
       "Calculating policy gradient...:   0%|          | 0/8 [00:00<?, ?it/s]"
      ]
     },
     "metadata": {},
     "output_type": "display_data"
    },
    {
     "data": {
      "application/vnd.jupyter.widget-view+json": {
       "model_id": "e29628aa401747c5a4c8dfab9154bca5",
       "version_major": 2,
       "version_minor": 0
      },
      "text/plain": [
       "Calculating policy gradient...:   0%|          | 0/8 [00:00<?, ?it/s]"
      ]
     },
     "metadata": {},
     "output_type": "display_data"
    },
    {
     "data": {
      "application/vnd.jupyter.widget-view+json": {
       "model_id": "22712e399f924627a3d1269daa1be54e",
       "version_major": 2,
       "version_minor": 0
      },
      "text/plain": [
       "Calculating policy gradient...:   0%|          | 0/8 [00:00<?, ?it/s]"
      ]
     },
     "metadata": {},
     "output_type": "display_data"
    },
    {
     "data": {
      "application/vnd.jupyter.widget-view+json": {
       "model_id": "fcb5ac230e69488d9c4835f69649dc78",
       "version_major": 2,
       "version_minor": 0
      },
      "text/plain": [
       "Calculating policy gradient...:   0%|          | 0/8 [00:00<?, ?it/s]"
      ]
     },
     "metadata": {},
     "output_type": "display_data"
    },
    {
     "data": {
      "application/vnd.jupyter.widget-view+json": {
       "model_id": "f68213b533334c0dae100abc1b6fba5c",
       "version_major": 2,
       "version_minor": 0
      },
      "text/plain": [
       "Calculating policy gradient...:   0%|          | 0/8 [00:00<?, ?it/s]"
      ]
     },
     "metadata": {},
     "output_type": "display_data"
    },
    {
     "data": {
      "application/vnd.jupyter.widget-view+json": {
       "model_id": "d7e17cca8cfd4bea83102666e8995089",
       "version_major": 2,
       "version_minor": 0
      },
      "text/plain": [
       "Calculating policy gradient...:   0%|          | 0/8 [00:00<?, ?it/s]"
      ]
     },
     "metadata": {},
     "output_type": "display_data"
    },
    {
     "data": {
      "application/vnd.jupyter.widget-view+json": {
       "model_id": "bf88d6c893c4454f98237b1593297475",
       "version_major": 2,
       "version_minor": 0
      },
      "text/plain": [
       "Calculating policy gradient...:   0%|          | 0/8 [00:00<?, ?it/s]"
      ]
     },
     "metadata": {},
     "output_type": "display_data"
    },
    {
     "data": {
      "application/vnd.jupyter.widget-view+json": {
       "model_id": "0a5c558fe08243b7b620ab385aea6cd7",
       "version_major": 2,
       "version_minor": 0
      },
      "text/plain": [
       "Calculating policy gradient...:   0%|          | 0/8 [00:00<?, ?it/s]"
      ]
     },
     "metadata": {},
     "output_type": "display_data"
    },
    {
     "data": {
      "application/vnd.jupyter.widget-view+json": {
       "model_id": "7940a27afc9941f084c3a7737f04c5d5",
       "version_major": 2,
       "version_minor": 0
      },
      "text/plain": [
       "Calculating policy gradient...:   0%|          | 0/8 [00:00<?, ?it/s]"
      ]
     },
     "metadata": {},
     "output_type": "display_data"
    },
    {
     "data": {
      "application/vnd.jupyter.widget-view+json": {
       "model_id": "114c204ce02543c98a80de236a8b96b9",
       "version_major": 2,
       "version_minor": 0
      },
      "text/plain": [
       "Calculating policy gradient...:   0%|          | 0/8 [00:00<?, ?it/s]"
      ]
     },
     "metadata": {},
     "output_type": "display_data"
    },
    {
     "data": {
      "application/vnd.jupyter.widget-view+json": {
       "model_id": "b7e3035c8c7740c59fb46c040efd9aaf",
       "version_major": 2,
       "version_minor": 0
      },
      "text/plain": [
       "Calculating policy gradient...:   0%|          | 0/8 [00:00<?, ?it/s]"
      ]
     },
     "metadata": {},
     "output_type": "display_data"
    },
    {
     "data": {
      "application/vnd.jupyter.widget-view+json": {
       "model_id": "1fcc399df0f44fae9ec78b0c823190fa",
       "version_major": 2,
       "version_minor": 0
      },
      "text/plain": [
       "Calculating policy gradient...:   0%|          | 0/8 [00:00<?, ?it/s]"
      ]
     },
     "metadata": {},
     "output_type": "display_data"
    },
    {
     "data": {
      "application/vnd.jupyter.widget-view+json": {
       "model_id": "38d0093c2aeb4b30887051167c1008f2",
       "version_major": 2,
       "version_minor": 0
      },
      "text/plain": [
       "Calculating policy gradient...:   0%|          | 0/8 [00:00<?, ?it/s]"
      ]
     },
     "metadata": {},
     "output_type": "display_data"
    },
    {
     "data": {
      "application/vnd.jupyter.widget-view+json": {
       "model_id": "e4e352b57a2340ee80f659bf69d2275a",
       "version_major": 2,
       "version_minor": 0
      },
      "text/plain": [
       "Calculating policy gradient...:   0%|          | 0/8 [00:00<?, ?it/s]"
      ]
     },
     "metadata": {},
     "output_type": "display_data"
    },
    {
     "data": {
      "application/vnd.jupyter.widget-view+json": {
       "model_id": "6b0eab1f66e54162a094dcd5f2ef7ff3",
       "version_major": 2,
       "version_minor": 0
      },
      "text/plain": [
       "Calculating policy gradient...:   0%|          | 0/8 [00:00<?, ?it/s]"
      ]
     },
     "metadata": {},
     "output_type": "display_data"
    },
    {
     "data": {
      "application/vnd.jupyter.widget-view+json": {
       "model_id": "d371f74cb1a44e83bde93f49c5f3b61e",
       "version_major": 2,
       "version_minor": 0
      },
      "text/plain": [
       "Calculating policy gradient...:   0%|          | 0/8 [00:00<?, ?it/s]"
      ]
     },
     "metadata": {},
     "output_type": "display_data"
    },
    {
     "data": {
      "application/vnd.jupyter.widget-view+json": {
       "model_id": "613e3f5d29414d1bbc2c5f52169d055f",
       "version_major": 2,
       "version_minor": 0
      },
      "text/plain": [
       "Calculating policy gradient...:   0%|          | 0/8 [00:00<?, ?it/s]"
      ]
     },
     "metadata": {},
     "output_type": "display_data"
    },
    {
     "data": {
      "application/vnd.jupyter.widget-view+json": {
       "model_id": "7e9f6b56b78b40628b6e98d99313825a",
       "version_major": 2,
       "version_minor": 0
      },
      "text/plain": [
       "Calculating policy gradient...:   0%|          | 0/8 [00:00<?, ?it/s]"
      ]
     },
     "metadata": {},
     "output_type": "display_data"
    },
    {
     "data": {
      "application/vnd.jupyter.widget-view+json": {
       "model_id": "3d768ad80a5b437db0e1f3fb073dd821",
       "version_major": 2,
       "version_minor": 0
      },
      "text/plain": [
       "Calculating policy gradient...:   0%|          | 0/8 [00:00<?, ?it/s]"
      ]
     },
     "metadata": {},
     "output_type": "display_data"
    },
    {
     "data": {
      "application/vnd.jupyter.widget-view+json": {
       "model_id": "9f18fe7c6ad64b748f52b33c189ccaa2",
       "version_major": 2,
       "version_minor": 0
      },
      "text/plain": [
       "Calculating policy gradient...:   0%|          | 0/8 [00:00<?, ?it/s]"
      ]
     },
     "metadata": {},
     "output_type": "display_data"
    },
    {
     "data": {
      "application/vnd.jupyter.widget-view+json": {
       "model_id": "6c5e6c89d5f34958b794917981489e7a",
       "version_major": 2,
       "version_minor": 0
      },
      "text/plain": [
       "Calculating policy gradient...:   0%|          | 0/8 [00:00<?, ?it/s]"
      ]
     },
     "metadata": {},
     "output_type": "display_data"
    }
   ],
   "source": [
    "from drugex.training.explorers import SequenceExplorer\n",
    "import warnings\n",
    "warnings.filterwarnings('ignore')\n",
    "\n",
    "MODEL_DIR_RL = \"./data/models/RL/rnn\"\n",
    "\n",
    "pretrained = SequenceRNN(voc, is_lstm=True)\n",
    "pretrained.loadStatesFromFile(f'{MODELS_PR_PATH}/Papyrus05.5_smiles_rnn_PT.pkg')\n",
    "\n",
    "finetuned = SequenceRNN(voc, is_lstm=True)\n",
    "finetuned.loadStatesFromFile(f'{MODEL_DIR}/P08908_finetuned.pkg')\n",
    "\n",
    "explorer = SequenceExplorer(\n",
    "    agent = pretrained,\n",
    "    env = environment,\n",
    "    mutate = finetuned, # network introducing \"random mutations\" to the generated structures (rate determined by epsilon)\n",
    "    epsilon = 0.4,\n",
    ")\n",
    "\n",
    "monitor = FileMonitor(os.path.join(MODEL_DIR_RL, 'P08908_reinforced'), save_smiles=True, reset_directory=True)\n",
    "explorer.fit(monitor=monitor, epochs=30)"
   ]
  },
  {
   "cell_type": "code",
   "execution_count": 79,
   "id": "b50805c2-f139-4307-a46c-a2297b662bcd",
   "metadata": {},
   "outputs": [
    {
     "data": {
      "text/html": [
       "<div>\n",
       "<style scoped>\n",
       "    .dataframe tbody tr th:only-of-type {\n",
       "        vertical-align: middle;\n",
       "    }\n",
       "\n",
       "    .dataframe tbody tr th {\n",
       "        vertical-align: top;\n",
       "    }\n",
       "\n",
       "    .dataframe thead th {\n",
       "        text-align: right;\n",
       "    }\n",
       "</style>\n",
       "<table border=\"1\" class=\"dataframe\">\n",
       "  <thead>\n",
       "    <tr style=\"text-align: right;\">\n",
       "      <th></th>\n",
       "      <th>Epoch</th>\n",
       "      <th>valid_ratio</th>\n",
       "      <th>unique_ratio</th>\n",
       "      <th>desired_ratio</th>\n",
       "      <th>avg_amean</th>\n",
       "      <th>avg_gmean</th>\n",
       "      <th>loss_train</th>\n",
       "      <th>best_epoch</th>\n",
       "    </tr>\n",
       "  </thead>\n",
       "  <tbody>\n",
       "    <tr>\n",
       "      <th>0</th>\n",
       "      <td>1</td>\n",
       "      <td>0.93</td>\n",
       "      <td>0.93</td>\n",
       "      <td>0.17</td>\n",
       "      <td>0.445</td>\n",
       "      <td>0.324</td>\n",
       "      <td>0.105</td>\n",
       "      <td>1</td>\n",
       "    </tr>\n",
       "    <tr>\n",
       "      <th>1</th>\n",
       "      <td>2</td>\n",
       "      <td>0.95</td>\n",
       "      <td>0.95</td>\n",
       "      <td>0.25</td>\n",
       "      <td>0.494</td>\n",
       "      <td>0.377</td>\n",
       "      <td>0.097</td>\n",
       "      <td>2</td>\n",
       "    </tr>\n",
       "    <tr>\n",
       "      <th>2</th>\n",
       "      <td>3</td>\n",
       "      <td>0.91</td>\n",
       "      <td>0.91</td>\n",
       "      <td>0.25</td>\n",
       "      <td>0.535</td>\n",
       "      <td>0.427</td>\n",
       "      <td>0.093</td>\n",
       "      <td>2</td>\n",
       "    </tr>\n",
       "    <tr>\n",
       "      <th>3</th>\n",
       "      <td>4</td>\n",
       "      <td>0.89</td>\n",
       "      <td>0.89</td>\n",
       "      <td>0.25</td>\n",
       "      <td>0.530</td>\n",
       "      <td>0.437</td>\n",
       "      <td>0.080</td>\n",
       "      <td>2</td>\n",
       "    </tr>\n",
       "    <tr>\n",
       "      <th>4</th>\n",
       "      <td>5</td>\n",
       "      <td>0.80</td>\n",
       "      <td>0.80</td>\n",
       "      <td>0.20</td>\n",
       "      <td>0.530</td>\n",
       "      <td>0.421</td>\n",
       "      <td>0.074</td>\n",
       "      <td>2</td>\n",
       "    </tr>\n",
       "  </tbody>\n",
       "</table>\n",
       "</div>"
      ],
      "text/plain": [
       "   Epoch  valid_ratio  unique_ratio  desired_ratio  avg_amean  avg_gmean  \\\n",
       "0      1         0.93          0.93           0.17      0.445      0.324   \n",
       "1      2         0.95          0.95           0.25      0.494      0.377   \n",
       "2      3         0.91          0.91           0.25      0.535      0.427   \n",
       "3      4         0.89          0.89           0.25      0.530      0.437   \n",
       "4      5         0.80          0.80           0.20      0.530      0.421   \n",
       "\n",
       "   loss_train  best_epoch  \n",
       "0       0.105           1  \n",
       "1       0.097           2  \n",
       "2       0.093           2  \n",
       "3       0.080           2  \n",
       "4       0.074           2  "
      ]
     },
     "execution_count": 79,
     "metadata": {},
     "output_type": "execute_result"
    }
   ],
   "source": [
    "df_info = pd.read_csv(f'{MODEL_DIR_RL}/P08908_reinforced_fit.tsv', sep='\\t')\n",
    "df_info.head()"
   ]
  },
  {
   "cell_type": "code",
   "execution_count": 80,
   "id": "e55fc2ec-3f21-44dd-b248-ab5b57325865",
   "metadata": {},
   "outputs": [
    {
     "data": {
      "text/plain": [
       "<Axes: >"
      ]
     },
     "execution_count": 80,
     "metadata": {},
     "output_type": "execute_result"
    },
    {
     "data": {
      "image/png": "[encoded data removed]",
      "text/plain": [
       "<Figure size 640x480 with 1 Axes>"
      ]
     },
     "metadata": {},
     "output_type": "display_data"
    }
   ],
   "source": [
    "df_info[['desired_ratio', 'avg_amean']].plot.line()"
   ]
  },
  {
   "cell_type": "code",
   "execution_count": 81,
   "id": "5fc82de9-6155-4759-a650-e240684f8639",
   "metadata": {},
   "outputs": [
    {
     "data": {
      "application/vnd.jupyter.widget-view+json": {
       "model_id": "11ee7589e18a49319ee6757335ff7eba",
       "version_major": 2,
       "version_minor": 0
      },
      "text/plain": [
       "Generating molecules:   0%|          | 0/1000 [00:00<?, ?it/s]"
      ]
     },
     "metadata": {},
     "output_type": "display_data"
    },
    {
     "data": {
      "text/html": [
       "<div>\n",
       "<style scoped>\n",
       "    .dataframe tbody tr th:only-of-type {\n",
       "        vertical-align: middle;\n",
       "    }\n",
       "\n",
       "    .dataframe tbody tr th {\n",
       "        vertical-align: top;\n",
       "    }\n",
       "\n",
       "    .dataframe thead th {\n",
       "        text-align: right;\n",
       "    }\n",
       "</style>\n",
       "<table border=\"1\" class=\"dataframe\">\n",
       "  <thead>\n",
       "    <tr style=\"text-align: right;\">\n",
       "      <th></th>\n",
       "      <th>SMILES</th>\n",
       "      <th>Valid</th>\n",
       "      <th>Desired</th>\n",
       "      <th>QSPRpred_P08908_LIGANDS_nostereo_XGBRegressor</th>\n",
       "      <th>SA</th>\n",
       "    </tr>\n",
       "  </thead>\n",
       "  <tbody>\n",
       "    <tr>\n",
       "      <th>0</th>\n",
       "      <td>COc1ccccc1N1CCN(CCCCCC(=O)N2c3ccccc3CC2C)CC1</td>\n",
       "      <td>1.0</td>\n",
       "      <td>1.0</td>\n",
       "      <td>7.964</td>\n",
       "      <td>2.608</td>\n",
       "    </tr>\n",
       "    <tr>\n",
       "      <th>1</th>\n",
       "      <td>Cc1cc(C)c(NC(=O)c2ccc(Cl)c(Cl)c2)c(Cl)c1</td>\n",
       "      <td>1.0</td>\n",
       "      <td>0.0</td>\n",
       "      <td>6.277</td>\n",
       "      <td>1.798</td>\n",
       "    </tr>\n",
       "    <tr>\n",
       "      <th>2</th>\n",
       "      <td>O=S(=O)(NC1CCN(CCOc2ccccc2-c2ccccc2)CC1)c1cccs1</td>\n",
       "      <td>1.0</td>\n",
       "      <td>0.0</td>\n",
       "      <td>6.648</td>\n",
       "      <td>2.151</td>\n",
       "    </tr>\n",
       "    <tr>\n",
       "      <th>3</th>\n",
       "      <td>O=C(CCCCCN1CCN(c2ccccc2)CC1)c1ccc(F)cc1</td>\n",
       "      <td>1.0</td>\n",
       "      <td>1.0</td>\n",
       "      <td>7.678</td>\n",
       "      <td>1.801</td>\n",
       "    </tr>\n",
       "    <tr>\n",
       "      <th>4</th>\n",
       "      <td>Clc1ccc(Sc2ccccc2)cc1</td>\n",
       "      <td>1.0</td>\n",
       "      <td>0.0</td>\n",
       "      <td>6.349</td>\n",
       "      <td>1.526</td>\n",
       "    </tr>\n",
       "    <tr>\n",
       "      <th>...</th>\n",
       "      <td>...</td>\n",
       "      <td>...</td>\n",
       "      <td>...</td>\n",
       "      <td>...</td>\n",
       "      <td>...</td>\n",
       "    </tr>\n",
       "    <tr>\n",
       "      <th>995</th>\n",
       "      <td>CCOC(=O)c1ccc(OCCCN2CCN(c3ccccc3)CC2)cc1</td>\n",
       "      <td>1.0</td>\n",
       "      <td>1.0</td>\n",
       "      <td>7.478</td>\n",
       "      <td>1.769</td>\n",
       "    </tr>\n",
       "    <tr>\n",
       "      <th>996</th>\n",
       "      <td>Nc1ccc(C2CCNCC2)cc1</td>\n",
       "      <td>1.0</td>\n",
       "      <td>0.0</td>\n",
       "      <td>6.304</td>\n",
       "      <td>2.012</td>\n",
       "    </tr>\n",
       "    <tr>\n",
       "      <th>997</th>\n",
       "      <td>CN1CCN(c2ccccc2NC(=O)c2ccccc2)CC1</td>\n",
       "      <td>1.0</td>\n",
       "      <td>1.0</td>\n",
       "      <td>7.087</td>\n",
       "      <td>1.611</td>\n",
       "    </tr>\n",
       "    <tr>\n",
       "      <th>998</th>\n",
       "      <td>COc1ccc(Nc2ccc(CNC(=O)C3CCN(C)CC3)cc2)cc1</td>\n",
       "      <td>1.0</td>\n",
       "      <td>0.0</td>\n",
       "      <td>5.895</td>\n",
       "      <td>1.816</td>\n",
       "    </tr>\n",
       "    <tr>\n",
       "      <th>999</th>\n",
       "      <td>COc1cccc(N2CCN(CCCCNC(=O)C=Cc3ccccc3)CC2)c1</td>\n",
       "      <td>1.0</td>\n",
       "      <td>1.0</td>\n",
       "      <td>7.727</td>\n",
       "      <td>2.030</td>\n",
       "    </tr>\n",
       "  </tbody>\n",
       "</table>\n",
       "<p>1000 rows × 5 columns</p>\n",
       "</div>"
      ],
      "text/plain": [
       "                                              SMILES  Valid  Desired  \\\n",
       "0       COc1ccccc1N1CCN(CCCCCC(=O)N2c3ccccc3CC2C)CC1    1.0      1.0   \n",
       "1           Cc1cc(C)c(NC(=O)c2ccc(Cl)c(Cl)c2)c(Cl)c1    1.0      0.0   \n",
       "2    O=S(=O)(NC1CCN(CCOc2ccccc2-c2ccccc2)CC1)c1cccs1    1.0      0.0   \n",
       "3            O=C(CCCCCN1CCN(c2ccccc2)CC1)c1ccc(F)cc1    1.0      1.0   \n",
       "4                              Clc1ccc(Sc2ccccc2)cc1    1.0      0.0   \n",
       "..                                               ...    ...      ...   \n",
       "995         CCOC(=O)c1ccc(OCCCN2CCN(c3ccccc3)CC2)cc1    1.0      1.0   \n",
       "996                              Nc1ccc(C2CCNCC2)cc1    1.0      0.0   \n",
       "997                CN1CCN(c2ccccc2NC(=O)c2ccccc2)CC1    1.0      1.0   \n",
       "998        COc1ccc(Nc2ccc(CNC(=O)C3CCN(C)CC3)cc2)cc1    1.0      0.0   \n",
       "999      COc1cccc(N2CCN(CCCCNC(=O)C=Cc3ccccc3)CC2)c1    1.0      1.0   \n",
       "\n",
       "     QSPRpred_P08908_LIGANDS_nostereo_XGBRegressor     SA  \n",
       "0                                            7.964  2.608  \n",
       "1                                            6.277  1.798  \n",
       "2                                            6.648  2.151  \n",
       "3                                            7.678  1.801  \n",
       "4                                            6.349  1.526  \n",
       "..                                             ...    ...  \n",
       "995                                          7.478  1.769  \n",
       "996                                          6.304  2.012  \n",
       "997                                          7.087  1.611  \n",
       "998                                          5.895  1.816  \n",
       "999                                          7.727  2.030  \n",
       "\n",
       "[1000 rows x 5 columns]"
      ]
     },
     "execution_count": 81,
     "metadata": {},
     "output_type": "execute_result"
    }
   ],
   "source": [
    "agent = SequenceRNN(voc, is_lstm=True)\n",
    "agent.loadStatesFromFile(f'{MODEL_DIR_RL}/P08908_reinforced.pkg')\n",
    "generated = agent.generate(num_samples=1000, evaluator=environment)\n",
    "generated"
   ]
  },
  {
   "cell_type": "code",
   "execution_count": 124,
   "id": "a3d08052-ab43-45fd-bc3d-000dab0bc90b",
   "metadata": {},
   "outputs": [
    {
     "data": {
      "text/plain": [
       "array(['Generated (pretrained)', 'P08908', 'Fine-tuned', 'Reinforced'],\n",
       "      dtype=object)"
      ]
     },
     "execution_count": 124,
     "metadata": {},
     "output_type": "execute_result"
    }
   ],
   "source": [
    "generated[\"Set\"] = \"Reinforced\"\n",
    "generated.rename({\"QSPRpred_P08908_LIGANDS_nostereo_XGBRegressor\": \"pchembl_value_Median\"}, inplace=True, axis='columns')\n",
    "df_all_sets = pd.concat([df_all_sets[df_all_sets.Set != \"P08908 (reinforced)\"], generated])\n",
    "df_all_sets.Set.unique()"
   ]
  },
  {
   "cell_type": "code",
   "execution_count": 125,
   "id": "b7b524b8-b3a1-4a2e-96dc-9e87f58c3da6",
   "metadata": {},
   "outputs": [
    {
     "name": "stdout",
     "output_type": "stream",
     "text": [
      "Dash is running on http://127.0.0.1:9002/\n",
      "\n"
     ]
    },
    {
     "data": {
      "text/html": [
       "\n",
       "        <iframe\n",
       "            width=\"100%\"\n",
       "            height=\"800\"\n",
       "            src=\"http://127.0.0.1:9002/\"\n",
       "            frameborder=\"0\"\n",
       "            allowfullscreen\n",
       "            \n",
       "        ></iframe>\n",
       "        "
      ],
      "text/plain": [
       "<IPython.lib.display.IFrame at 0x7f6836cdb0b0>"
      ]
     },
     "metadata": {},
     "output_type": "display_data"
    }
   ],
   "source": [
    "mt_general_P08908_ft_rl = MoleculeTable(\n",
    "    name=\"Pretrained+P08908+FT+RL\", \n",
    "    df=df_all_sets.copy()\n",
    ")\n",
    "morgan_fp = MorganFP(3, 2048)\n",
    "mt_general_P08908_ft_rl.addDescriptors([morgan_fp])\n",
    "plt = Plot(UMAP(n_neighbors=30, min_dist=0.4, metric=\"jaccard\", random_state=42))\n",
    "plt.plot(\n",
    "    mt_general_P08908_ft_rl,\n",
    "    color_by='Set',\n",
    "    recalculate=True,\n",
    "    card_data=[\n",
    "        \"Set\",\n",
    "        \"pchembl_value_Median\",\n",
    "    ],\n",
    "    port=9002,\n",
    "    viewport_height=800\n",
    ")"
   ]
  },
  {
   "cell_type": "code",
   "execution_count": 127,
   "id": "82cb19a1-1640-40e3-8501-87cb8d537dfc",
   "metadata": {},
   "outputs": [
    {
     "data": {
      "text/plain": [
       "array(['Reinforced'], dtype=object)"
      ]
     },
     "execution_count": 127,
     "metadata": {},
     "output_type": "execute_result"
    }
   ],
   "source": [
    "mt_general_P08908_ft_rl_searched = mt_general_P08908_ft_rl.searchOnProperty(\"Set\", [\"Reinforced\"])\n",
    "mt_general_P08908_ft_rl_searched.getProperty(\"Set\").unique()"
   ]
  },
  {
   "cell_type": "code",
   "execution_count": 128,
   "id": "4321c41f-50ec-4e2b-92bd-f79697537271",
   "metadata": {},
   "outputs": [
    {
     "name": "stdout",
     "output_type": "stream",
     "text": [
      "Dash is running on http://127.0.0.1:9003/\n",
      "\n"
     ]
    },
    {
     "data": {
      "text/html": [
       "\n",
       "        <iframe\n",
       "            width=\"100%\"\n",
       "            height=\"800\"\n",
       "            src=\"http://127.0.0.1:9003/\"\n",
       "            frameborder=\"0\"\n",
       "            allowfullscreen\n",
       "            \n",
       "        ></iframe>\n",
       "        "
      ],
      "text/plain": [
       "<IPython.lib.display.IFrame at 0x7f68368604a0>"
      ]
     },
     "metadata": {},
     "output_type": "display_data"
    }
   ],
   "source": [
    "plt.plot(\n",
    "    mt_general_P08908_ft_rl_searched,\n",
    "    color_by='pchembl_value_Median',\n",
    "    recalculate=False,\n",
    "    card_data=[\n",
    "        \"Set\",\n",
    "        \"pchembl_value_Median\",\n",
    "    ],\n",
    "    port=9003,\n",
    "    viewport_height=800\n",
    ")"
   ]
  },
  {
   "cell_type": "code",
   "execution_count": null,
   "id": "635b0c92-f11f-4ee3-a7a8-098829a2ab08",
   "metadata": {},
   "outputs": [],
   "source": []
  }
 ],
 "metadata": {
  "kernelspec": {
   "display_name": "Python 3 (ipykernel)",
   "language": "python",
   "name": "python3"
  },
  "language_info": {
   "codemirror_mode": {
    "name": "ipython",
    "version": 3
   },
   "file_extension": ".py",
   "mimetype": "text/x-python",
   "name": "python",
   "nbconvert_exporter": "python",
   "pygments_lexer": "ipython3",
   "version": "3.12.8"
  }
 },
 "nbformat": 4,
 "nbformat_minor": 5
}
