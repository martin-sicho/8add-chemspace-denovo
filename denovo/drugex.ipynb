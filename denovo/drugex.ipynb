{
 "cells": [
  {
   "cell_type": "markdown",
   "id": "95c477ed-66cd-4c91-b53c-df7278d2e922",
   "metadata": {},
   "source": [
    "# De Novo Design of Potential Binders of [Serotonin 1A (5-HT1A) Receptor](https://gpcrdb.org/protein/5ht1a_human/) with [DrugEx](https://pubs.acs.org/doi/10.1021/acs.jcim.3c00434)\n",
    "\n",
    "In this tutorial, we showcase the most basic DrugEx model for the design of novel 5-HT1A ligands. This model is a simple recurrent neural network (RNN). RNNs are one of the older language models that can be adapted for molecular generation. However, there are many similar models and packages out there each with its own caveats and benefits. Therefore, it is generally a good idea to combine multiple approaches in real world applications because the overlap of the generated compounds between different methods is usually very small. DrugEx itself also provides multiple distinct methods so feel free to experiment with them as well.\n",
    "\n",
    "*Serotonin* is the endogenous ligand of 5-HT1A so it makes sense to get a bit more familiar with its structure:"
   ]
  },
  {
   "cell_type": "code",
   "execution_count": 1,
   "id": "a243eb12-c932-48c3-8064-2275bf3cb884",
   "metadata": {},
   "outputs": [
    {
     "data": {
      "image/png": "[encoded data removed]",
      "text/plain": [
       "<rdkit.Chem.rdchem.Mol at 0x7f5caad54ac0>"
      ]
     },
     "execution_count": 1,
     "metadata": {},
     "output_type": "execute_result"
    }
   ],
   "source": [
    "from rdkit import Chem\n",
    "\n",
    "Chem.MolFromSmiles(\"C1=CC2=C(C=C1O)C(=CN2)CCN\")"
   ]
  },
  {
   "cell_type": "markdown",
   "id": "613f0d04-eab3-4cae-a131-87d4d77008ac",
   "metadata": {},
   "source": [
    "The binding pose of serotonin is known and there is a structure available ([7E2Y](https://www.rcsb.org/structure/7e2y)):"
   ]
  },
  {
   "cell_type": "code",
   "execution_count": 2,
   "id": "b344d7a1-1e80-4c3b-8790-1475c1be5ae6",
   "metadata": {},
   "outputs": [
    {
     "data": {
      "text/html": [
       "\n",
       "        <iframe\n",
       "            width=\"100%\"\n",
       "            height=\"600\"\n",
       "            src=\"https://www.rcsb.org/3d-view/7E2Y?preset=ligandInteraction&label_asym_id=E\"\n",
       "            frameborder=\"0\"\n",
       "            allowfullscreen\n",
       "            \n",
       "        ></iframe>\n",
       "        "
      ],
      "text/plain": [
       "<IPython.lib.display.IFrame at 0x7f5cabdbb290>"
      ]
     },
     "execution_count": 2,
     "metadata": {},
     "output_type": "execute_result"
    }
   ],
   "source": [
    "from IPython.display import IFrame\n",
    "\n",
    "IFrame('https://www.rcsb.org/3d-view/7E2Y?preset=ligandInteraction&label_asym_id=E', width='100%', height='600')"
   ]
  },
  {
   "cell_type": "markdown",
   "id": "a24ba912-2107-411e-9502-7c6fd54b459b",
   "metadata": {},
   "source": [
    "An example of a known efficacious ligand would be *Vilazodone*:"
   ]
  },
  {
   "cell_type": "code",
   "execution_count": 3,
   "id": "c3cc1ebe-fcd7-40b5-a812-1019df9e3219",
   "metadata": {},
   "outputs": [
    {
     "data": {
      "image/png": "[encoded data removed]",
      "text/plain": [
       "<rdkit.Chem.rdchem.Mol at 0x7f5caade43c0>"
      ]
     },
     "execution_count": 3,
     "metadata": {},
     "output_type": "execute_result"
    }
   ],
   "source": [
    "Chem.MolFromSmiles(\"N#Cc5ccc4[nH]cc(CCCCN3CCN(c2ccc1oc(C(N)=O)cc1c2)CC3)c4c5\")"
   ]
  },
  {
   "cell_type": "markdown",
   "id": "2cfe4b20-da73-4a56-a841-a572b72f69c5",
   "metadata": {},
   "source": [
    "The binding pose of vilazodone is also known and there is a structure available ([8FYL](https://www.rcsb.org/structure/7e2y)):"
   ]
  },
  {
   "cell_type": "code",
   "execution_count": 4,
   "id": "7e793aac-b105-45a5-92de-44a22a21fa47",
   "metadata": {},
   "outputs": [
    {
     "data": {
      "text/html": [
       "\n",
       "        <iframe\n",
       "            width=\"100%\"\n",
       "            height=\"600\"\n",
       "            src=\"https://www.rcsb.org/3d-view/8FYL?preset=ligandInteraction&label_asym_id=F\"\n",
       "            frameborder=\"0\"\n",
       "            allowfullscreen\n",
       "            \n",
       "        ></iframe>\n",
       "        "
      ],
      "text/plain": [
       "<IPython.lib.display.IFrame at 0x7f5cabd6fe30>"
      ]
     },
     "execution_count": 4,
     "metadata": {},
     "output_type": "execute_result"
    }
   ],
   "source": [
    "from IPython.display import IFrame\n",
    "\n",
    "IFrame('https://www.rcsb.org/3d-view/8FYL?preset=ligandInteraction&label_asym_id=F', width='100%', height='600')"
   ]
  },
  {
   "cell_type": "markdown",
   "id": "908f2e72-f061-4ac5-a260-c38ce4aa3644",
   "metadata": {},
   "source": [
    "Therefore, there is some structural information about the target and some of its bound ligands, but in this tutorial we will use a purely ligand-based approach that leverages the abundance of available ligand bioactivity data on this highly explored target. However, let's first get more familiar with the [DrugEx package](https://github.com/CDDLeiden/DrugEx) before we start with the core of the tutorial. You will need a machine equipped with a compatible NVIDIA graphics card. DrugEx is built on the [`PyTorch`](https://pytorch.org/) deep learning library, which we can use to check if the compatible [NVIDIA CUDA](https://en.wikipedia.org/wiki/CUDA) interface is available:"
   ]
  },
  {
   "cell_type": "code",
   "execution_count": 5,
   "id": "96cdb411-74ba-4e16-ba91-31c2818f1829",
   "metadata": {},
   "outputs": [],
   "source": [
    "import torch\n",
    "\n",
    "assert torch.cuda.is_available()"
   ]
  },
  {
   "cell_type": "markdown",
   "id": "ba75ba2c-98eb-457d-b492-b13a7bc7b0e4",
   "metadata": {},
   "source": [
    "If all is well, there is nothing stopping us from generating compounds already:"
   ]
  },
  {
   "cell_type": "code",
   "execution_count": 6,
   "id": "b0cb5bfb-3266-42ce-9d38-710cdd45b41f",
   "metadata": {},
   "outputs": [
    {
     "name": "stderr",
     "output_type": "stream",
     "text": [
      "/home/sichom/software/micromamba/envs/8add-chemspace-denovo/lib/python3.12/site-packages/drugex/training/interfaces.py:322: FutureWarning: You are using `torch.load` with `weights_only=False` (the current default value), which uses the default pickle module implicitly. It is possible to construct malicious pickle data which will execute arbitrary code during unpickling (See https://github.com/pytorch/pytorch/blob/main/SECURITY.md#untrusted-models for more details). In a future release, the default value for `weights_only` will be flipped to `True`. This limits the functions that could be executed during unpickling. Arbitrary objects will no longer be allowed to be loaded via this mode unless they are explicitly allowlisted by the user via `torch.serialization.add_safe_globals`. We recommend you start setting `weights_only=True` for any use case where you don't have full control of the loaded file. Please open an issue on GitHub for any issues related to this experimental feature.\n",
      "  self.loadStates(torch.load(path, map_location=self.device))\n"
     ]
    }
   ],
   "source": [
    "import os\n",
    "from drugex.training.generators import SequenceRNN\n",
    "from drugex.data.corpus.vocabulary import VocSmiles\n",
    "\n",
    "MODELS_PR_PATH = \"data/models/pretrained/smiles-rnn/Papyrus05.5_smiles_rnn_PT/\" # path to the previously downloaded RNN model folder\n",
    "\n",
    "voc = VocSmiles.fromFile(os.path.join(MODELS_PR_PATH, \"Papyrus05.5_smiles_rnn_PT.vocab\"), encode_frags=False) # loading vocabulary of tokens\n",
    "pretrained = SequenceRNN(voc, is_lstm=True) # random model initialization\n",
    "pretrained.loadStatesFromFile(os.path.join(MODELS_PR_PATH, \"Papyrus05.5_smiles_rnn_PT.pkg\")) # pretrained weight initialization"
   ]
  },
  {
   "cell_type": "markdown",
   "id": "f7b778de-d0ad-47fb-9e09-13c66363b329",
   "metadata": {},
   "source": [
    "The RNN model requires a vocabulary of tokens to be provided. You can open this file and see the tokens defined in it. These are the words of the SMILES language that we use to define structures of molecules. What the model learned is how to combine these words into viable sentences (chemical structures) in the SMILES language. The data saved in the .pkg file are the weights (learned states) of the model that define the learned parameters and tell the model how to combine the tokens in the vocabulary in the correct way to generate a random compound that resembles known chemistry.\n",
    "\n",
    "## Generating a Random Set of Compounds\n",
    "\n",
    "Using the model to generate compounds is very easy:"
   ]
  },
  {
   "cell_type": "code",
   "execution_count": 7,
   "id": "5ccfb200-4b58-4c0a-812e-721b09dad84e",
   "metadata": {},
   "outputs": [
    {
     "data": {
      "application/vnd.jupyter.widget-view+json": {
       "model_id": "dc4f7c3d18ef46eca79195cfa946f7f8",
       "version_major": 2,
       "version_minor": 0
      },
      "text/plain": [
       "Generating molecules:   0%|          | 0/1000 [00:00<?, ?it/s]"
      ]
     },
     "metadata": {},
     "output_type": "display_data"
    },
    {
     "data": {
      "text/html": [
       "<div>\n",
       "<style scoped>\n",
       "    .dataframe tbody tr th:only-of-type {\n",
       "        vertical-align: middle;\n",
       "    }\n",
       "\n",
       "    .dataframe tbody tr th {\n",
       "        vertical-align: top;\n",
       "    }\n",
       "\n",
       "    .dataframe thead th {\n",
       "        text-align: right;\n",
       "    }\n",
       "</style>\n",
       "<table border=\"1\" class=\"dataframe\">\n",
       "  <thead>\n",
       "    <tr style=\"text-align: right;\">\n",
       "      <th></th>\n",
       "      <th>SMILES</th>\n",
       "      <th>Valid</th>\n",
       "    </tr>\n",
       "  </thead>\n",
       "  <tbody>\n",
       "    <tr>\n",
       "      <th>0</th>\n",
       "      <td>O=C(c1ccco1)N(c1ccccc1)C1CCN(Cc2ccccc2)CC1</td>\n",
       "      <td>1.0</td>\n",
       "    </tr>\n",
       "    <tr>\n",
       "      <th>1</th>\n",
       "      <td>OCCN(CCO)c1ccc(Cc2ccccc2)cc1</td>\n",
       "      <td>1.0</td>\n",
       "    </tr>\n",
       "    <tr>\n",
       "      <th>2</th>\n",
       "      <td>CCCCCCCC(NC(=O)C1CC2(C)CCC1C2(C)C)c1ccc(OCc2cc...</td>\n",
       "      <td>1.0</td>\n",
       "    </tr>\n",
       "    <tr>\n",
       "      <th>3</th>\n",
       "      <td>O=C1Nc2ccc(Cl)cc2C(c2ccccc2)=NC1CCCCO</td>\n",
       "      <td>1.0</td>\n",
       "    </tr>\n",
       "    <tr>\n",
       "      <th>4</th>\n",
       "      <td>COc1cnc(CNC(N)=S)cn1</td>\n",
       "      <td>1.0</td>\n",
       "    </tr>\n",
       "    <tr>\n",
       "      <th>...</th>\n",
       "      <td>...</td>\n",
       "      <td>...</td>\n",
       "    </tr>\n",
       "    <tr>\n",
       "      <th>995</th>\n",
       "      <td>NC(=O)c1cccc2c1C(=O)N(C1CCN(Cc3ccccc3)CC1)C2</td>\n",
       "      <td>1.0</td>\n",
       "    </tr>\n",
       "    <tr>\n",
       "      <th>996</th>\n",
       "      <td>CCn1cc(C(=O)OCC(=O)Nc2ccc(OC)c(Cl)c2)c(=O)c2cc...</td>\n",
       "      <td>1.0</td>\n",
       "    </tr>\n",
       "    <tr>\n",
       "      <th>997</th>\n",
       "      <td>NS(=O)(=O)c1ccc(N2C(=O)c3cc4c5cc3N=C(C=C(Cl)C=...</td>\n",
       "      <td>1.0</td>\n",
       "    </tr>\n",
       "    <tr>\n",
       "      <th>998</th>\n",
       "      <td>CCCn1c(=O)c2nc(-c3ccc(OCC(=O)O)cc3)[nH]c2n(CCC...</td>\n",
       "      <td>1.0</td>\n",
       "    </tr>\n",
       "    <tr>\n",
       "      <th>999</th>\n",
       "      <td>FC1(C(c2ccc(Br)cc2)(c2ccccc2Br)c2c[nH]c3nccnc2...</td>\n",
       "      <td>1.0</td>\n",
       "    </tr>\n",
       "  </tbody>\n",
       "</table>\n",
       "<p>1000 rows × 2 columns</p>\n",
       "</div>"
      ],
      "text/plain": [
       "                                                SMILES  Valid\n",
       "0           O=C(c1ccco1)N(c1ccccc1)C1CCN(Cc2ccccc2)CC1    1.0\n",
       "1                         OCCN(CCO)c1ccc(Cc2ccccc2)cc1    1.0\n",
       "2    CCCCCCCC(NC(=O)C1CC2(C)CCC1C2(C)C)c1ccc(OCc2cc...    1.0\n",
       "3                O=C1Nc2ccc(Cl)cc2C(c2ccccc2)=NC1CCCCO    1.0\n",
       "4                                 COc1cnc(CNC(N)=S)cn1    1.0\n",
       "..                                                 ...    ...\n",
       "995       NC(=O)c1cccc2c1C(=O)N(C1CCN(Cc3ccccc3)CC1)C2    1.0\n",
       "996  CCn1cc(C(=O)OCC(=O)Nc2ccc(OC)c(Cl)c2)c(=O)c2cc...    1.0\n",
       "997  NS(=O)(=O)c1ccc(N2C(=O)c3cc4c5cc3N=C(C=C(Cl)C=...    1.0\n",
       "998  CCCn1c(=O)c2nc(-c3ccc(OCC(=O)O)cc3)[nH]c2n(CCC...    1.0\n",
       "999  FC1(C(c2ccc(Br)cc2)(c2ccccc2Br)c2c[nH]c3nccnc2...    1.0\n",
       "\n",
       "[1000 rows x 2 columns]"
      ]
     },
     "execution_count": 7,
     "metadata": {},
     "output_type": "execute_result"
    }
   ],
   "source": [
    "generated_pretrained = pretrained.generate(num_samples=1000)\n",
    "generated_pretrained"
   ]
  },
  {
   "cell_type": "markdown",
   "id": "beccd15d-fe50-4bc8-a1fd-aee1b7ed3a16",
   "metadata": {},
   "source": [
    "### Comparison with a Set of Known 5-HT1A Ligands\n",
    "\n",
    "We will now merge the generated structures with the data set of experimental values that we used previously to train our QSAR model:"
   ]
  },
  {
   "cell_type": "code",
   "execution_count": 8,
   "id": "90965abf-5715-456d-800d-c31edb071022",
   "metadata": {},
   "outputs": [
    {
     "data": {
      "text/plain": [
       "array(['Generated (pretrained)', 'P08908'], dtype=object)"
      ]
     },
     "execution_count": 8,
     "metadata": {},
     "output_type": "execute_result"
    }
   ],
   "source": [
    "import pandas as pd\n",
    "\n",
    "# read the previous data and label it\n",
    "df_P08908 = pd.read_table(\"./data/data/P08908_LIGANDS_nostereo.tsv\")\n",
    "df_P08908[\"Set\"] = \"P08908\"\n",
    "\n",
    "# label the generated data\n",
    "generated_pretrained[\"Set\"] = \"Generated (pretrained)\"\n",
    "\n",
    "# merge the two data sets\n",
    "df_all_sets = pd.concat([generated_pretrained, df_P08908])\n",
    "df_all_sets.Set.unique()"
   ]
  },
  {
   "cell_type": "markdown",
   "id": "d89ecece-a9ad-4d90-82e2-f5487b62f7f0",
   "metadata": {},
   "source": [
    "We will use the UMAP algorithm to compare these two chemical spaces. You should already know [how to create chemical space visualizations](../chemspace/tutorial.ipynb) so the following code should not surprise you. We only wrap the code into a function because we will use it at a few more places in this tutorial:"
   ]
  },
  {
   "cell_type": "code",
   "execution_count": 9,
   "id": "1b108a3b-6270-4443-810f-7334d5b1c3f6",
   "metadata": {},
   "outputs": [],
   "source": [
    "from qsprpred.data import MoleculeTable\n",
    "from qsprpred.data.descriptors.fingerprints import MorganFP\n",
    "from scaffviz.clustering.manifold import UMAP\n",
    "from scaffviz.depiction.plot import Plot\n",
    "\n",
    "def plot_spaces(df, name, port, color_by=\"Set\", card_data=[\"Set\", \"pchembl_value_Median\"]):\n",
    "    mt = MoleculeTable(\n",
    "        name=name, \n",
    "        df=df.copy()\n",
    "    )\n",
    "    morgan_fp = MorganFP(3, 2048)\n",
    "    mt.addDescriptors([morgan_fp])\n",
    "    plt = Plot(UMAP(n_neighbors=30, min_dist=0.4, metric=\"jaccard\", random_state=42))\n",
    "    return mt, plt.plot(\n",
    "        mt,\n",
    "        color_by=color_by,\n",
    "        recalculate=True,\n",
    "        card_data=card_data,\n",
    "        port=port,\n",
    "        viewport_height=800\n",
    "    )"
   ]
  },
  {
   "cell_type": "markdown",
   "id": "98b32319-ba01-458d-b112-c4fdbb61f0c3",
   "metadata": {},
   "source": [
    "Plotting itself is then a breeze:"
   ]
  },
  {
   "cell_type": "code",
   "execution_count": 10,
   "id": "d5d39b55-fc4c-4f13-a7e3-6f0ae608c64b",
   "metadata": {},
   "outputs": [
    {
     "name": "stderr",
     "output_type": "stream",
     "text": [
      "/home/sichom/software/micromamba/envs/8add-chemspace-denovo/lib/python3.12/site-packages/umap/umap_.py:1887: UserWarning: gradient function is not yet implemented for jaccard distance metric; inverse_transform will be unavailable\n",
      "  warn(\n",
      "/home/sichom/software/micromamba/envs/8add-chemspace-denovo/lib/python3.12/site-packages/umap/umap_.py:1952: UserWarning: n_jobs value 1 overridden to 1 by setting random_state. Use no seed for parallelism.\n",
      "  warn(\n"
     ]
    },
    {
     "name": "stdout",
     "output_type": "stream",
     "text": [
      "Dash is running on http://127.0.0.1:9000/\n",
      "\n"
     ]
    },
    {
     "data": {
      "text/html": [
       "\n",
       "        <iframe\n",
       "            width=\"100%\"\n",
       "            height=\"800\"\n",
       "            src=\"http://127.0.0.1:9000/\"\n",
       "            frameborder=\"0\"\n",
       "            allowfullscreen\n",
       "            \n",
       "        ></iframe>\n",
       "        "
      ],
      "text/plain": [
       "<IPython.lib.display.IFrame at 0x7f5b4c89eb40>"
      ]
     },
     "metadata": {},
     "output_type": "display_data"
    }
   ],
   "source": [
    "mt, plt = plot_spaces(df_all_sets, \"Pretrained+P08908\", 9000)"
   ]
  },
  {
   "cell_type": "code",
   "execution_count": 11,
   "id": "5de9925d-eb77-4869-9b04-62d8a4fef350",
   "metadata": {},
   "outputs": [],
   "source": [
    "PLOT_DATA_DIR = \".\" # replace '.' with '/mnt/c/Users/student/Documents' on WSL\n",
    "mt.getDF().to_csv(f\"{PLOT_DATA_DIR}/{mt.name}.csv\")"
   ]
  },
  {
   "cell_type": "markdown",
   "id": "eac47ce2-7982-488d-9e98-b47441f5c7c5",
   "metadata": {},
   "source": [
    "We can see that the general pretrained model generated a chemical space that does not really have a clear structure, at least not in comparison to our set of 5-HT1A-specific compounds, for which bioactivity data is available. Since we already have the data set loaded, it might be interesting to actually look at the compounds containing the dopamine structure. By doing that, we can also discover a few more popular patterns in these kinds of ligands (note the locations of piperidine and piperazine rings in these ligands):"
   ]
  },
  {
   "cell_type": "code",
   "execution_count": 12,
   "id": "13abb549-150b-4f4c-aaa0-ddd43f378f1e",
   "metadata": {},
   "outputs": [
    {
     "data": {
      "application/vnd.jupyter.widget-view+json": {
       "model_id": "978bad4ea4bc4a92bab3b15b37c71db8",
       "version_major": 2,
       "version_minor": 0
      },
      "text/plain": [
       "MolGridWidget()"
      ]
     },
     "metadata": {},
     "output_type": "display_data"
    },
    {
     "data": {
      "text/html": [
       "<style>\n",
       "    /* Some CSS to integrate with Jupyter more cleanly */\n",
       "    div.output_subarea {\n",
       "        /* Undo an unfortunate max-width parameter\n",
       "        that causes the output area to be too narrow\n",
       "        on smaller screens. */\n",
       "        max-width: none;\n",
       "\n",
       "        /* Align the table with the content */\n",
       "        padding: 0;\n",
       "\n",
       "        /* Let it breathe */\n",
       "        margin-top: 20px;\n",
       "    }\n",
       "</style>\n",
       "\n",
       "<iframe class=\"mols2grid-iframe\" frameborder=\"0\" width=\"100%\"\n",
       "    \n",
       "    \n",
       "    allow=\"clipboard-write\"\n",
       "    \n",
       "    \n",
       "    sandbox=\"allow-scripts allow-same-origin allow-downloads allow-popups allow-modals\"\n",
       "    \n",
       "    srcdoc=\"\n",
       "\n",
       "\n",
       "\n",
       "&lt;html lang=&quot;en&quot;&gt;\n",
       "    &lt;head&gt;\n",
       "        &lt;meta charset=&quot;UTF-8&quot; /&gt;\n",
       "        &lt;meta http-equiv=&quot;X-UA-Compatible&quot; content=&quot;IE=edge&quot; /&gt;\n",
       "        &lt;meta name=&quot;viewport&quot; content=&quot;width=device-width, initial-scale=1.0&quot; /&gt;\n",
       "        &lt;title&gt;Document!&lt;/title&gt;\n",
       "\n",
       "\n",
       "\n",
       "        &lt;style&gt;\n",
       "            /**\n",
       " * General styling\n",
       " */\n",
       "body {\n",
       "    font-family: &#x27;DejaVu&#x27;, sans-serif;\n",
       "}\n",
       "h1,h2,h3,h4 {\n",
       "    margin: 0 0 10px 0;\n",
       "}\n",
       "h1 {\n",
       "    font-size: 26px;\n",
       "}\n",
       "h2 {\n",
       "    font-size: 20px;\n",
       "    font-weight: 400;\n",
       "}\n",
       "h3 {\n",
       "\tfont-size: 16px;\n",
       "}\n",
       "p {\n",
       "    margin: 0 0 10px 0;\n",
       "}\n",
       "\n",
       "\n",
       "/* Remove body margin inside iframe */\n",
       "body.m2g-inside-iframe {\n",
       "    margin: 0;\n",
       "}\n",
       "\n",
       "/* In-cell text */\n",
       "#mols2grid .data:not(.data-img) {\n",
       "    height: 16px;\n",
       "    line-height: 16px;\n",
       "}\n",
       "/* Text truncation */\n",
       "#mols2grid .data {\n",
       "    /* Break text into multiple lines (default for static)... */\n",
       "    word-wrap: normal;\n",
       "\n",
       "    /* ...or truncate it (default for interactive). */\n",
       "    overflow: hidden;\n",
       "    white-space: nowrap;\n",
       "    text-overflow: ellipsis;\n",
       "}\n",
       "\n",
       "\n",
       "/**\n",
       " * Popover\n",
       " * - - -\n",
       " * Note: this is a bootstrap variable which is not namespaced.\n",
       " * To avoid any contamination, we only style it when the\n",
       " * x-placement parameter is set.\n",
       " */\n",
       ".popover[x-placement] {\n",
       "    font-family: &#x27;DejaVu&#x27;, sans-serif;\n",
       "    background: white;\n",
       "    border: solid 1px rgba(0,0,0,.2);\n",
       "    font-size: 12px;\n",
       "    padding: 10px;\n",
       "    border-radius: 5px;\n",
       "    box-shadow: 0 0 20px rgba(0,0,0,.15);\n",
       "    user-select: none;\n",
       "}\n",
       ".popover[x-placement] h3 {\n",
       "    margin: 0;\n",
       "}\n",
       ".popover[x-placement] .arrow {\n",
       "    width: 10px;\n",
       "    height: 10px;\n",
       "    background: #fff;\n",
       "    border: solid 1px rgba(0,0,0,.2);\n",
       "    box-sizing: border-box;\n",
       "    position: absolute;\n",
       "    transform-origin: 5px 5px;\n",
       "    clip-path: polygon(0 0, 100% 0, 100% 100%);\n",
       "}\n",
       ".popover[x-placement=&#x27;left&#x27;] .arrow {\n",
       "    transform: rotate(45deg);\n",
       "    top: 50%;\n",
       "    right: -5px;\n",
       "}\n",
       ".popover[x-placement=&#x27;right&#x27;] .arrow {\n",
       "    transform: rotate(-135deg);\n",
       "    top: 50%;\n",
       "    left: -5px;\n",
       "}\n",
       ".popover[x-placement=&#x27;top&#x27;] .arrow {\n",
       "    transform: rotate(135deg);\n",
       "    left: 50%;\n",
       "    bottom: -5px;\n",
       "}\n",
       ".popover[x-placement=&#x27;bottom&#x27;] .arrow {\n",
       "    transform: rotate(-45deg);\n",
       "    left: 50%;\n",
       "    top: -5px;\n",
       "}\n",
       "            body {\n",
       "    /* Colors */\n",
       "    --m2g-black: rgba(0,0,0,.75);\n",
       "    --m2g-black-soft: rgba(0,0,0,.35);\n",
       "    --m2g-black-10: rgba(0,0,0,.1);\n",
       "    --m2g-bg: #f6f6f6;\n",
       "    --m2g-border: solid 1px rgba(0,0,0,0.2);\n",
       "    --m2g-hl: #555; /* Highlight color */\n",
       "    --m2g-hl-shadow: inset 0 0 0 1px var(--m2g-hl); /* Inset 1px shadow to make border thicker */\n",
       "    --m2g-blue: #0f62fe;\n",
       "    --m2g-blue-soft: rgba(15,98,254,.2);\n",
       "\n",
       "    /* Icons */\n",
       "    --m2g-icn-triangle: url(&#x27;data:image/svg+xml;utf8,&lt;svg width=&quot;20&quot; fill=&quot;rgba(0,0,0,.75)&quot; height=&quot;20&quot; viewBox=&quot;0 0 20 20&quot; xmlns=&quot;http://www.w3.org/2000/svg&quot;&gt;&lt;path d=&quot;M9.5713 13.285L6.2543 7.757C6.0543 7.424 6.2953 7 6.6823 7L13.3173 7C13.7053 7 13.9463 7.424 13.7453 7.757L10.4283 13.285C10.2343 13.609 9.7653 13.609 9.5713 13.285Z&quot;/&gt;&lt;/svg&gt;&#x27;);\n",
       "    --m2g-icn-triangle-white: url(&#x27;data:image/svg+xml;utf8,&lt;svg width=&quot;20&quot; fill=&quot;white&quot; height=&quot;20&quot; viewBox=&quot;0 0 20 20&quot; xmlns=&quot;http://www.w3.org/2000/svg&quot;&gt;&lt;path d=&quot;M9.5713 13.285L6.2543 7.757C6.0543 7.424 6.2953 7 6.6823 7L13.3173 7C13.7053 7 13.9463 7.424 13.7453 7.757L10.4283 13.285C10.2343 13.609 9.7653 13.609 9.5713 13.285Z&quot;/&gt;&lt;/svg&gt;&#x27;);\n",
       "    --m2g-icn-cb-white: url(&#x27;data:image/svg+xml;utf8,&lt;svg width=&quot;16&quot; height=&quot;16&quot; viewBox=&quot;0 0 16 16&quot; fill=&quot;none&quot; stroke=&quot;white&quot; stroke-width=&quot;2.5&quot; stroke-linecap=&quot;round&quot; xmlns=&quot;http://www.w3.org/2000/svg&quot;&gt;&lt;path d=&quot;M4 7.65686L7 10.6569L12.6569 5.00001&quot;/&gt;&lt;/svg&gt;&#x27;);\n",
       "    \n",
       "    /* Border radius */\n",
       "    --m2g-br: 3px;\n",
       "    --m2g-br-l: var(--m2g-br) 0 0 var(--m2g-br); /* Left-only */\n",
       "    --m2g-br-r: 0 var(--m2g-br) var(--m2g-br) 0; /* Right-only */\n",
       "\n",
       "    /* Text */\n",
       "    --m2g-fs: 14px; /* UI font-size */\n",
       "    --m2g-fs-cell: 12px; /* Cell font-size */\n",
       "\n",
       "    /* Transition speeds */\n",
       "    --m2g-trans: 150ms;\n",
       "\n",
       "    /* Layout */\n",
       "    --m2g-h: 40px; /* Form element height */\n",
       "}\n",
       "\n",
       "/* Styling */\n",
       "#mols2grid {\n",
       "    font-family: &#x27;DejaVu&#x27;, sans-serif;\n",
       "    font-size: var(--m2g-fs);\n",
       "}\n",
       "\n",
       "/* Fixes */\n",
       "#mols2grid *,\n",
       "#mols2grid *::before,\n",
       "#mols2grid *::after {\n",
       "    box-sizing: border-box;\n",
       "    outline: none;\n",
       "}\n",
       "\n",
       "\n",
       "\n",
       "/**\n",
       " * Functions section\n",
       " */\n",
       "\n",
       "#mols2grid .m2g-functions {\n",
       "    display: flex;\n",
       "}\n",
       "#mols2grid .m2g-functions .m2g-row {\n",
       "    flex: 0;\n",
       "    display: flex;\n",
       "}\n",
       "\n",
       "/* Individual elements don&#x27;t scale */\n",
       "#mols2grid .m2g-functions .m2g-row &gt; * {\n",
       "    flex: 0 0;\n",
       "    margin-right: 10px;\n",
       "}\n",
       "#mols2grid .m2g-functions .m2g-row:last-child &gt; *:last-child {\n",
       "    margin-right: 0;\n",
       "}\n",
       "\n",
       "/* Row 1: pagination + gap + sort */\n",
       "#mols2grid .m2g-functions .m2g-row:first-child {\n",
       "    flex: 1; /* Scale */\n",
       "}\n",
       "#mols2grid .m2g-functions .m2g-gap {\n",
       "    /* The gap in between will scale, so the pagination\n",
       "    stays on the left, while the rest moves to the right */\n",
       "    flex: 1;\n",
       "    margin-right: 0;\n",
       "}\n",
       "\n",
       "\n",
       "\n",
       "/*\n",
       " * Pagination\n",
       " */\n",
       "\n",
       "#mols2grid ul.m2g-pagination {\n",
       "    /* Unset defaults */\n",
       "    list-style-type: none;\n",
       "    margin-block-start: 0;\n",
       "    margin-block-end: 0;\n",
       "    margin-inline-start: 0;\n",
       "    margin-inline-end: 0;\n",
       "    padding-inline-start: 0;\n",
       "\n",
       "    /* Custom */\n",
       "    display: flex;\n",
       "}\n",
       "#mols2grid ul.m2g-pagination li {\n",
       "    background: var(--m2g-bg) ;\n",
       "    border: var(--m2g-border);\n",
       "    height: var(--m2g-h);\n",
       "    min-width: calc(var(--m2g-h) + 1px);\n",
       "    position: relative;\n",
       "    user-select: none;\n",
       "    \n",
       "    /* Compensate for double border */\n",
       "    margin-right: -1px;\n",
       "    \n",
       "    /* Center text */\n",
       "    display: flex;\n",
       "    align-items: center;\n",
       "    justify-content: center;\n",
       "}\n",
       "#mols2grid ul.m2g-pagination li:last-child {\n",
       "    min-width: var(--m2g-h);\n",
       "}\n",
       "#mols2grid ul.m2g-pagination li a {\n",
       "    text-decoration: none;\n",
       "    color: var(--m2g-black);\n",
       "    padding: 0 10px;\n",
       "    width: 100%;\n",
       "    height: var(--m2g-h);\n",
       "    line-height: var(--m2g-h);\n",
       "    text-align: center;\n",
       "    /* Compensate for border so there&#x27;s no gap between click areas  */\n",
       "    margin: 0 -1px;\n",
       "}\n",
       "\n",
       "/* Corner shape */\n",
       "#mols2grid ul.m2g-pagination li:first-child {\n",
       "    border-radius: var(--m2g-br-l);\n",
       "}\n",
       "#mols2grid ul.m2g-pagination li:last-child {\n",
       "    border-radius: var(--m2g-br-r);\n",
       "    margin-right: 0;\n",
       "}\n",
       "\n",
       "/* Focus state */\n",
       "#mols2grid ul.m2g-pagination li:focus-within {\n",
       "    border-color: var(--m2g-hl);\n",
       "    box-shadow: var(--m2g-hl-shadow);\n",
       "    z-index: 1;\n",
       "}\n",
       "\n",
       "/* Active state */\n",
       "#mols2grid ul.m2g-pagination li.active {\n",
       "    background: var(--m2g-hl);\n",
       "    z-index: 1;\n",
       "}\n",
       "#mols2grid ul.m2g-pagination li.active a {\n",
       "    cursor: default;\n",
       "    color: #fff;\n",
       "}\n",
       "\n",
       "/* Disabled sate */\n",
       "#mols2grid ul.m2g-pagination li.disabled a {\n",
       "    cursor: default;\n",
       "    color: rgba(0,0,0,.25);\n",
       "    pointer-events: none;\n",
       "}\n",
       "\n",
       "\n",
       "\n",
       "/*\n",
       " * Dropdowns\n",
       " */\n",
       "\n",
       "#mols2grid ::placeholder {\n",
       "    color: var(--m2g-black-soft);\n",
       "}\n",
       "#mols2grid .m2g-dropdown {\n",
       "    height: var(--m2g-h);\n",
       "    background: var(--m2g-bg);\n",
       "    border: var(--m2g-border);\n",
       "    border-radius: var(--m2g-br);\n",
       "    position: relative;\n",
       "}\n",
       "#mols2grid .m2g-dropdown select {\n",
       "    -webkit-appearance: none;\n",
       "    -moz-appearance: none;\n",
       "    -ms-appearance: none;\n",
       "    appearance: none;\n",
       "    background: transparent;\n",
       "    border: none;\n",
       "    height: 100%;\n",
       "    padding: 0 13px;\n",
       "    min-width: 0;\n",
       "    max-width: 250px;\n",
       "    color: var(--m2g-black);\n",
       "    cursor: pointer;\n",
       "}\n",
       "\n",
       "/* Icon */\n",
       "#mols2grid .m2g-dropdown .m2g-icon {\n",
       "    width: 30px;\n",
       "    height: var(--m2g-h);\n",
       "    display: flex;\n",
       "    align-items: center;\n",
       "    justify-content: center;\n",
       "    position: absolute;\n",
       "    top: 0;\n",
       "    right: 0;\n",
       "    pointer-events: none;\n",
       "}\n",
       "#mols2grid .m2g-dropdown .m2g-icon svg:not(.m2g-stroke) {\n",
       "    fill: var(--m2g-black);\n",
       "}\n",
       "#mols2grid .m2g-dropdown .m2g-icon svg.m2g-stroke {\n",
       "    stroke: var(--m2g-black);\n",
       "}\n",
       "\n",
       "/* Display */\n",
       "/* We hide the native select element because\n",
       " * it is limited in styling. Instead, we display\n",
       " * the selected value in a div. */\n",
       "#mols2grid .m2g-dropdown .m2g-display {\n",
       "    position: absolute;\n",
       "    left: 0;\n",
       "    right: 0;\n",
       "    top: 0;\n",
       "    bottom: 0;\n",
       "    pointer-events: none;\n",
       "    color: var(--m2g-black);\n",
       "    line-height: var(--m2g-h);\n",
       "    padding: 0 25px 0 13px;\n",
       "\n",
       "    /* Truncate dropdown text */\n",
       "    white-space: nowrap;\n",
       "\ttext-overflow: ellipsis;\n",
       "\toverflow: hidden;\n",
       "}\n",
       "\n",
       "/* Focus state */\n",
       "#mols2grid .m2g-dropdown:focus-within {\n",
       "    border-color: var(--m2g-hl);\n",
       "    box-shadow: var(--m2g-hl-shadow);\n",
       "}\n",
       "\n",
       "\n",
       "\n",
       "/**\n",
       " * Action dropdown\n",
       " */\n",
       "\n",
       "#mols2grid .m2g-dropdown.m2g-actions {\n",
       "    width: var(--m2g-h);\n",
       "    padding: 0;\n",
       "}\n",
       "#mols2grid .m2g-dropdown.m2g-actions select {\n",
       "    opacity: 0;\n",
       "    width: var(--m2g-h);\n",
       "}\n",
       "#mols2grid .m2g-dropdown.m2g-actions .m2g-icon {\n",
       "    width: var(--m2g-h);\n",
       "}\n",
       "\n",
       "\n",
       "\n",
       "/*\n",
       " * Sort dropdown\n",
       " */\n",
       "\n",
       "#mols2grid .m2g-dropdown.m2g-sort {\n",
       "    flex: 0 0 200px;\n",
       "    width: 200px; /* Needed in addition to flex-basis for small sizes! */\n",
       "    border-radius: var(--m2g-br);\n",
       "    background: var(--m2g-bg);\n",
       "    display: flex;\n",
       "}\n",
       "\n",
       "/* Dropdown */\n",
       "#mols2grid .m2g-dropdown.m2g-sort select {\n",
       "    flex: 1 1;\n",
       "    opacity: 0;\n",
       "    /* padding-right: 70px; Space for &quot;Sort:&quot; */\n",
       "    box-sizing: border-box;\n",
       "}\n",
       "\n",
       "/* Sort order */\n",
       "#mols2grid .m2g-dropdown.m2g-sort .m2g-order {\n",
       "    background: var(--m2g-bg) var(--m2g-icn-triangle) no-repeat center;\n",
       "    flex: 0 0 30px;\n",
       "    height: 100%;\n",
       "    border-left: var(--m2g-border);\n",
       "    cursor: pointer;\n",
       "}\n",
       "#mols2grid .m2g-dropdown.m2g-sort.m2d-arrow-desc .m2g-order {\n",
       "    transform: rotate(180deg);\n",
       "    border-left: none;\n",
       "    border-right: var(--m2g-border);\n",
       "}\n",
       "\n",
       "/* Display */\n",
       "#mols2grid .m2g-dropdown.m2g-sort .m2g-display {\n",
       "    right: 31px;\n",
       "    padding-right: 13px;\n",
       "}\n",
       "#mols2grid .m2g-dropdown.m2g-sort .m2g-display::before {\n",
       "    content: &#x27;Sort: &#x27;;\n",
       "}\n",
       "\n",
       "/* Focus state */\n",
       "#mols2grid .m2g-dropdown.m2g-sort:focus-within .m2g-display,\n",
       "#mols2grid .m2g-dropdown.m2g-sort:focus-within .m2g-order {\n",
       "    background-color: transparent;\n",
       "}\n",
       "\n",
       "\n",
       "\n",
       "/*\n",
       " * Search bar\n",
       " */\n",
       "\n",
       "#mols2grid .m2g-search-wrap {\n",
       "    height: var(--m2g-h);\n",
       "    display: flex;\n",
       "    align-items: center;\n",
       "    justify-content: flex-end;\n",
       "    background: var(--m2g-bg);\n",
       "    border: var(--m2g-border);\n",
       "    border-radius: var(--m2g-br);\n",
       "}\n",
       "#mols2grid .m2g-searchbar {\n",
       "    width: 170px;\n",
       "    height: var(--m2g-h);\n",
       "    padding: 0 13px;\n",
       "    border: none;\n",
       "    color: var(--m2g-black);\n",
       "    cursor: text;\n",
       "    background: transparent;\n",
       "}\n",
       "\n",
       "/* Focus state */\n",
       "#mols2grid .m2g-search-wrap:focus-within {\n",
       "    border-color: var(--m2g-hl);\n",
       "    box-shadow: var(--m2g-hl-shadow);\n",
       "}\n",
       "\n",
       "/* Option buttons */\n",
       "#mols2grid .m2g-search-options {\n",
       "    font-size: 12px;\n",
       "    display: flex;\n",
       "    height: calc(1.5em + .75rem);\n",
       "    line-height: calc(1.5em + .75rem);\n",
       "    margin-right: 5px;\n",
       "    border-radius: var(--m2g-br);\n",
       "    color: var(--m2g-black);\n",
       "}\n",
       "#mols2grid .m2g-search-options .m2g-option {\n",
       "    background: var(--m2g-black-10);\n",
       "    padding: 0 13px;\n",
       "    cursor: default;\n",
       "    user-select: none;\n",
       "}\n",
       "#mols2grid .m2g-search-options .m2g-option:not(.sel) {\n",
       "    cursor: pointer;\n",
       "}\n",
       "#mols2grid .m2g-search-options .m2g-option:first-child {\n",
       "    border-radius: 2px 0 0 2px;\n",
       "}\n",
       "#mols2grid .m2g-search-options .m2g-option:last-child {\n",
       "    border-radius: 0 2px 2px 0;\n",
       "}\n",
       "#mols2grid .m2g-search-options .m2g-option.sel {\n",
       "    background: var(--m2g-hl);\n",
       "    color: #fff;\n",
       "}\n",
       "\n",
       "\n",
       "\n",
       "/**\n",
       " * Grid\n",
       " */\n",
       "\n",
       "/* Container */\n",
       "#mols2grid .m2g-list {\n",
       "    display: flex;\n",
       "    flex-wrap: wrap;\n",
       "    align-items: flex-start;\n",
       "    justify-content: flex-start;\n",
       "    padding: 1px; /* Compensate for negative padding on cell */\n",
       "    user-select: none;\n",
       "    margin: 0px;\n",
       "    margin-top: 20px;\n",
       "    font-family: &#x27;DejaVu&#x27;, sans-serif;\n",
       "    \n",
       "}\n",
       "\n",
       "/* Cell */\n",
       "#mols2grid .m2g-cell {\n",
       "    border: 1px solid #cccccc;\n",
       "    text-align: center;\n",
       "    vertical-align: top;\n",
       "    font-family: var(--font-family);\n",
       "    padding: 10px;\n",
       "    padding-top: max(10px, 20px);\n",
       "    margin: -1px -1px 0 0;\n",
       "    flex: 1 0 130px;\n",
       "    position: relative;\n",
       "    font-size: var(--m2g-fs-cell);\n",
       "    cursor: pointer;\n",
       "    color: var(--m2g-black);\n",
       "    overflow: hidden;\n",
       "    box-sizing: border-box;\n",
       "    background-color: white;\n",
       "}\n",
       "#mols2grid .m2g-cell:focus {\n",
       "    z-index: 1;\n",
       "    border-color: var(--m2g-hl);\n",
       "    box-shadow: var(--m2g-hl-shadow);\n",
       "}\n",
       "\n",
       "/* Phantom cells to maintain grid structure with less results */\n",
       "#mols2grid .m2g-cell.m2g-phantom {\n",
       "    border: none;\n",
       "    pointer-events: none;\n",
       "    height: 0;\n",
       "    padding: 0;\n",
       "}\n",
       "\n",
       "/* Checkbox &amp; ID */\n",
       "#mols2grid .m2g-cb-wrap {\n",
       "    position: absolute;\n",
       "    top: 3px;\n",
       "    left: 3px;\n",
       "    display: flex;\n",
       "    border-radius: 2px;\n",
       "    font-size: 0;\n",
       "    line-height: 0;\n",
       "    padding: 3px;\n",
       "    padding-right: 0;\n",
       "}\n",
       "#mols2grid .m2g-cb-wrap input[type=checkbox] {\n",
       "    display: none;\n",
       "}\n",
       "#mols2grid .m2g-cb-wrap input[type=checkbox] + .m2g-cb {\n",
       "\twidth: 16px;\n",
       "\theight: 16px;\n",
       "\tbox-sizing: border-box;\n",
       "\tbackground: #fff;\n",
       "\tborder: var(--m2g-border);\n",
       "\tborder-radius: 2px;\n",
       "    margin-right: 5px;\n",
       "}\n",
       "#mols2grid .m2g-cb-wrap input[type=checkbox]:checked + .m2g-cb {\n",
       "    border: none;\n",
       "    background-color: var(--m2g-blue);\n",
       "    background-image: var(--m2g-icn-cb-white);\n",
       "}\n",
       "#mols2grid .m2g-tooltip {\n",
       "    /* This is a div spanning full cell size where the\n",
       "    tooltip is rendered around, because you can&#x27;t attach\n",
       "    it to the parent due to list.js limitation. */\n",
       "    width: 100%;\n",
       "    height: 100%;\n",
       "    position: absolute;\n",
       "    left: 0;\n",
       "    top: 0;\n",
       "    z-index: -1;\n",
       "    pointer-events: none;\n",
       "    opacity: 0;\n",
       "}\n",
       "#mols2grid .m2g-cell:has(:checked) {\n",
       "    background: #ffd !important; /* Overrides user-set background color */\n",
       "}\n",
       "#mols2grid .data-mols2grid-id-display {\n",
       "    font-size: var(--m2g-fs-cell);\n",
       "    line-height: 16px;\n",
       "}\n",
       "#mols2grid .m2g-cb-wrap input[type=checkbox] + .data-mols2grid-id-display {\n",
       "    padding: 0 5px 0 5px;\n",
       "}\n",
       "#mols2grid .m2g-cb-wrap .data-name-display {\n",
       "    font-size: var(--m2g-fs);\n",
       "    line-height: 16px;\n",
       "}\n",
       "\n",
       "/* Info + callback button wrap (28px high) */\n",
       "#mols2grid .m2g-cell-actions {\n",
       "    position: absolute;\n",
       "    top: 0;\n",
       "    right: 0;\n",
       "    display: flex;\n",
       "    flex-direction: row;\n",
       "    font-size: 0;\n",
       "    line-height: 0;\n",
       "    \n",
       "    /* background: yellow; */\n",
       "}\n",
       "\n",
       "/* Info button */\n",
       "#mols2grid .m2g-info {\n",
       "    width: 28px;\n",
       "    height: 28px;\n",
       "    border-radius: 2px;\n",
       "    line-height: 28px;\n",
       "    font-size: min(14px, 12px);\n",
       "    font-family: Georgia, serif;\n",
       "    font-style: italic;\n",
       "    padding: 0;\n",
       "    text-align: center;\n",
       "}\n",
       "#mols2grid .m2g-keep-tooltip .m2g-info {\n",
       "    color: #fff;\n",
       "}\n",
       "#mols2grid .m2g-keep-tooltip .m2g-info::before {\n",
       "    content: &#x27;i&#x27;;\n",
       "    width: 18px;\n",
       "    height: 18px;\n",
       "    line-height: 18px;\n",
       "    background: var(--m2g-hl);\n",
       "    position: absolute;\n",
       "    left: 5px;\n",
       "    top: 5px;\n",
       "    border-radius: 9px;\n",
       "}\n",
       "\n",
       "/* Callback button */\n",
       "#mols2grid .m2g-callback {\n",
       "    width: 28px;\n",
       "    height: 28px;\n",
       "    cursor: pointer;\n",
       "}\n",
       "#mols2grid .m2g-callback::after {\n",
       "    content: &#x27;&#x27;;\n",
       "    display: block;\n",
       "    width: 16px;\n",
       "    height: 16px;\n",
       "    margin: 6px;\n",
       "    border: var(--m2g-border);\n",
       "    border-radius: 2px;\n",
       "    background: var(--m2g-bg) var(--m2g-icn-triangle) no-repeat center;\n",
       "    transform: rotate(-90deg);\n",
       "}\n",
       "\n",
       "/* Image */\n",
       "#mols2grid .m2g-cell .data-img {\n",
       "    padding: 0;\n",
       "}\n",
       "#mols2grid .m2g-cell img,\n",
       "#mols2grid .m2g-cell svg {\n",
       "    max-width: 100%;\n",
       "    height: auto;\n",
       "    padding: 0;\n",
       "}\n",
       "#mols2grid .m2g-cell svg &gt; rect:first-child {\n",
       "    /* Remove the SVG background */\n",
       "    fill: transparent !important;\n",
       "}\n",
       "\n",
       "/* Text below image */\n",
       ".m2g-copy-blink {\n",
       "    animation: m2g-blink var(--m2g-trans) 3;\n",
       "}\n",
       "@keyframes m2g-blink {\n",
       "    0% {\n",
       "        opacity: 1;\n",
       "    }\n",
       "    49% {\n",
       "        opacity: 1;\n",
       "    }\n",
       "    50% {\n",
       "        opacity: 0;\n",
       "    }\n",
       "    100% {\n",
       "        opacity: 0;\n",
       "    }\n",
       "}\n",
       "\n",
       "/* Copyable text */\n",
       ".copy-me {\n",
       "    position: relative;\n",
       "    cursor: pointer;\n",
       "}\n",
       "\n",
       "\n",
       "\n",
       "/**\n",
       " * Modal popup\n",
       " * - - -\n",
       " * Triggered by make_popup_callback()\n",
       " * See https://mols2grid.readthedocs.io/en/latest/notebooks/callbacks.html#Display-a-popup-containing-descriptors\n",
       " */\n",
       "\n",
       "/* Container */\n",
       "#m2g-modal-container {\n",
       "    display: flex;\n",
       "    align-items: center;\n",
       "    justify-content: center;\n",
       "    background: var(--m2g-black-10);\n",
       "    position: fixed;\n",
       "    top: 0;\n",
       "    left: 0;\n",
       "    z-index: 1;\n",
       "    width: 100%;\n",
       "    height: 100%;\n",
       "    \n",
       "    /* Transition */\n",
       "    opacity: 0;\n",
       "    transition: opacity var(--m2g-trans) linear;\n",
       "}\n",
       "\n",
       "/* Modal */\n",
       "#m2g-modal {\n",
       "    background: #fff;\n",
       "    border-radius: var(--m2g-br);\n",
       "    box-shadow: 0 0 30px var(--m2g-black-10);\n",
       "    padding: 20px;\n",
       "    position: relative;\n",
       "    max-width: calc(100% - 80px);\n",
       "    max-height: calc(100% - 80px);\n",
       "    display: flex;\n",
       "    flex-direction: column;\n",
       "    min-width: 26px;\n",
       "\n",
       "    /* Transition */\n",
       "    opacity: 0;\n",
       "    transform: translate(0, 5px);\n",
       "    transition: transform var(--m2g-trans) ease-in-out, opacity var(--m2g-trans) linear;\n",
       "}\n",
       "#m2g-modal .m2g-modal-header {\n",
       "    flex: 0 0 26px;\n",
       "    margin-bottom: 10px;\n",
       "}\n",
       "#m2g-modal .m2g-modal-header h2 {\n",
       "    margin-bottom: 0;\n",
       "}\n",
       "#m2g-modal .m2g-modal-header h2 + p {\n",
       "    font-size: 15px;\n",
       "}\n",
       "#m2g-modal .m2g-modal-body {\n",
       "    flex: 1;\n",
       "    position: relative;\n",
       "}\n",
       "\n",
       "/* Transition */\n",
       "#m2g-modal-container.show {\n",
       "    opacity: 1;\n",
       "}\n",
       "#m2g-modal-container.show #m2g-modal {\n",
       "    opacity: 1;\n",
       "    transform: translate(0, 0);\n",
       "}\n",
       "\n",
       "/* Header + close btn */\n",
       "#m2g-modal h2 {\n",
       "    line-height: 26px;\n",
       "    padding-right: 40px;\n",
       "    text-transform: capitalize;\n",
       "}\n",
       "#m2g-modal h3 {\n",
       "    \n",
       "}\n",
       "#m2g-modal button.close {\n",
       "    background: transparent;\n",
       "    padding: 0;\n",
       "    color: var(--m2g-black);\n",
       "    font-size: 1.5rem;\n",
       "    width: 40px;\n",
       "    height: 40px;\n",
       "    position: absolute;\n",
       "    top: 13px;\n",
       "    right: 13px;\n",
       "    border: none;\n",
       "}\n",
       "\n",
       "/* Image */\n",
       "#m2g-modal .svg-wrap svg {\n",
       "    max-width: 100%;\n",
       "    margin-bottom: 20px;\n",
       "}\n",
       "\n",
       "/* Separator */\n",
       "hr {\n",
       "    width: 100%;\n",
       "    height: 1px;\n",
       "    background: #ddd;\n",
       "    margin: 15px 0;\n",
       "    border: none;\n",
       "}\n",
       "\n",
       "\n",
       "\n",
       "/**\n",
       " * Hover states\n",
       " */\n",
       "@media (hover:hover) {\n",
       "    /* Pagination */\n",
       "    #mols2grid ul.m2g-pagination li:not(.active):not(.disabled):hover {\n",
       "        background: #f0f0f0;\n",
       "        z-index: 1;\n",
       "    }\n",
       "    #mols2grid ul.m2g-pagination li.active + li:hover {\n",
       "        /* Keeping the hover border consiistent */\n",
       "        margin-left: 1px;\n",
       "        border-left: none;\n",
       "        min-width: 40px;\n",
       "    }\n",
       "\n",
       "    /* Dropdowns &amp; search */\n",
       "    #mols2grid .m2g-dropdown:not(:focus-within):hover,\n",
       "    #mols2grid .m2g-search-wrap:not(:focus-within):hover,\n",
       "    #mols2grid .m2g-sort:not(:focus-within) .m2g-order:hover {\n",
       "        background-color: #f0f0f0;\n",
       "    }\n",
       "    #mols2grid .m2g-search-wrap:not(:focus-within):hover {\n",
       "        background: #fff;\n",
       "        border-color: rgba(0,0,0,.3);\n",
       "    }\n",
       "    /* Hocus pocus to have separate hover states for dropdown and arrow */\n",
       "    #mols2grid .m2g-dropdown.m2g-sort:not(:focus-within):hover .m2g-order:not(:hover) + .m2g-display {\n",
       "        background-color: transparent;\n",
       "    }\n",
       "\n",
       "    /* Search options */\n",
       "    #mols2grid .m2g-search-options .m2g-option:not(.sel):hover {\n",
       "        background: rgba(0,0,0,.15);\n",
       "    }\n",
       "\n",
       "    /* Grid */\n",
       "    /* Note: this is in an ::after pseudo element, so the transparent\n",
       "    hover color plays nice with the cell background color. */\n",
       "    #mols2grid .m2g-cell:hover::after {\n",
       "        content: &#x27;&#x27;;\n",
       "        width: 100%;\n",
       "        height: 100%;\n",
       "        position: absolute;\n",
       "        top: 0;\n",
       "        left: 0;\n",
       "        background-color: rgba(0,0,0,0.05);\n",
       "        pointer-events: none;\n",
       "    }\n",
       "\n",
       "    /* info button */\n",
       "    #mols2grid .m2g-info:hover::before {\n",
       "        content: &#x27;i&#x27;;\n",
       "        color: #fff;\n",
       "        width: 18px;\n",
       "        height: 18px;\n",
       "        line-height: 18px;\n",
       "        background: var(--m2g-hl);\n",
       "        position: absolute;\n",
       "        left: 5px;\n",
       "        top: 5px;\n",
       "        border-radius: 9px;\n",
       "    }\n",
       "    \n",
       "    /* Callback button */\n",
       "    #mols2grid .m2g-callback:hover::after {\n",
       "        background-color: var(--m2g-black);\n",
       "        background-image: var(--m2g-icn-triangle-white);\n",
       "        border-color: transparent;\n",
       "    }\n",
       "\n",
       "    /* Copyable text */\n",
       "    .copy-me:hover {\n",
       "        text-decoration: underline;\n",
       "        text-decoration-color: var(--m2g-blue);\n",
       "    }\n",
       "}\n",
       "\n",
       "\n",
       "\n",
       "/**\n",
       " * Responsive behavior.\n",
       " * - - -\n",
       " * Note: container queries won&#x27;t work in older browsers,\n",
       " * but this is purely aesthetical behavior so that&#x27;s ok.\n",
       " * https://caniuse.com/css-container-queries\n",
       " */\n",
       "\n",
       "/* This sets the msg-list div as reference container */\n",
       "#mols2grid {\n",
       "    container-type: inline-size;\n",
       "}\n",
       "\n",
       "\n",
       "\n",
       "/**\n",
       " * Functions section\n",
       " */\n",
       "\n",
       "/* When there&#x27;s not enough space to put everything in one row, we break it into two.\n",
       " * - - -\n",
       " * 870px = pagination 280 + sort 200 + search 300 + menu 40 + (3*10 gap) = 850 + 20 buffer.\n",
       " * Buffer required because the button width inside the search depends on the font.\n",
       " */\n",
       "@container (max-width: 870px) {\n",
       "    #mols2grid .m2g-functions {\n",
       "        flex-direction: column-reverse;\n",
       "        gap: 10px;\n",
       "    }\n",
       "    #mols2grid .m2g-functions .m2g-row:last-child {\n",
       "        justify-content: flex-end;\n",
       "    }\n",
       "    #mols2grid .m2g-functions .m2g-row:first-child *:last-child {\n",
       "        margin-right: 0;\n",
       "    }\n",
       "}\n",
       "\n",
       "/* When there&#x27;s not enough room for pagination + sort on one row,\n",
       " * we reduce the sort drodpwon width.\n",
       " */\n",
       "@container (max-width: 500px) {\n",
       "    #mols2grid .m2g-functions .m2g-sort {\n",
       "        width: 80px;\n",
       "        flex-basis: 80px;\n",
       "    }\n",
       "    #mols2grid .m2g-functions .m2g-sort .m2g-display {\n",
       "        font-size: 0;\n",
       "        line-height: 0;\n",
       "        padding-right: 0;\n",
       "    }\n",
       "    #mols2grid .m2g-functions .m2g-sort .m2g-display::before {\n",
       "        content: &#x27;Sort&#x27;;\n",
       "        font-size: var(--m2g-fs);\n",
       "        line-height: var(--m2g-h);\n",
       "    }\n",
       "}\n",
       "\n",
       "/* When there&#x27;s not enough room for pagination + reduced sort on one row,\n",
       " * we reduce the pagination width.\n",
       " */\n",
       "@container (max-width: 500px) {\n",
       "    /* We&#x27;re overriding min-width from different\n",
       "    locations, including responsive rules */\n",
       "    #mols2grid ul.m2g-pagination li,\n",
       "    #mols2grid ul.m2g-pagination li:last-child,\n",
       "    #mols2grid ul.m2g-pagination li.active + li:hover {\n",
       "        min-width: 0;\n",
       "    }\n",
       "}\n",
       "\n",
       "/* When there&#x27;s not enough room for searchbar + menu\n",
       " * we scale down the searchbar to fit the container.\n",
       " */\n",
       "@container (max-width: 370px) {\n",
       "    #mols2grid .m2g-functions .m2g-row .m2g-search-wrap {\n",
       "        flex: 1;\n",
       "    }\n",
       "    #mols2grid .m2g-searchbar {\n",
       "        width: calc(100% - 50px);\n",
       "    }\n",
       "    #mols2grid .m2g-search-options {\n",
       "        width: 50px;\n",
       "    }\n",
       "\n",
       "    /* Collapse options in T/M buttons */\n",
       "    #mols2grid .m2g-search-options .m2g-option {\n",
       "        width: 25px;\n",
       "        text-align: center;\n",
       "        padding: 0;\n",
       "        overflow: hidden;\n",
       "    }\n",
       "    #mols2grid .m2g-search-options .m2g-option:first-child::before {\n",
       "        content: &#x27;T\\A&#x27;\n",
       "    }\n",
       "    #mols2grid .m2g-search-options .m2g-option:last-child::before {\n",
       "        content: &#x27;S\\A&#x27;\n",
       "    }\n",
       "}\n",
       "\n",
       "\n",
       "\n",
       "/**\n",
       " * Grid\n",
       " */\n",
       "\n",
       "/* When there&#x27;s room for 5 columns, fall back to 4 */\n",
       "@container (min-width: 519px) and (max-width: 779px) {\n",
       "    #mols2grid .m2g-cell {\n",
       "        flex-basis: calc(100% / 4);\n",
       "    }\n",
       "}\n",
       "\n",
       "/* When there&#x27;s room for 7-11 columns, fall back to 6 */\n",
       "@container (min-width: 779px) and (max-width: 1559px) {\n",
       "    #mols2grid .m2g-cell {\n",
       "        flex-basis: calc(100% / 6);\n",
       "    }\n",
       "}\n",
       "\n",
       "/* When there&#x27;s room for 13+ columns, fall back to 12 */\n",
       "@container (min-width: 1559px) {\n",
       "    #mols2grid .m2g-cell {\n",
       "        flex-basis: calc(100% / 12);\n",
       "    }\n",
       "}\n",
       "\n",
       "            /* Custom CSS */\n",
       "            \n",
       "        &lt;/style&gt;\n",
       "        &lt;script src=&quot;https://cdnjs.cloudflare.com/ajax/libs/list.js/2.3.1/list.min.js&quot;&gt;&lt;/script&gt;\n",
       "&lt;script src=&quot;https://code.jquery.com/jquery-3.6.0.min.js&quot; integrity=&quot;sha256-/xUj+3OJU5yExlq6GSYGSHk7tPXikynS7ogEvDej/m4=&quot; crossorigin=&quot;anonymous&quot;&gt;&lt;/script&gt;\n",
       "&lt;script src=&quot;https://unpkg.com/@rdkit/rdkit@2022.3.1/Code/MinimalLib/dist/RDKit_minimal.js&quot;&gt;&lt;/script&gt;\n",
       "        &lt;script&gt;\n",
       "    // Set iframe height to fit content.\n",
       "    function fitIframe(iframe) {\n",
       "        // Ignore when there&#x27;s no iframe\n",
       "        if (!iframe) return\n",
       "\n",
       "        // Only fit height when no specific height was given.\n",
       "        if (iframe.getAttribute(&#x27;height&#x27;)) return;\n",
       "\n",
       "        // Initial fit + refit whenever the window width changes.\n",
       "        _fit()\n",
       "        $(window).on(&#x27;resize&#x27;, function() {\n",
       "            if (window.innerWidth != window.prevInnerWidth) {\n",
       "                window.prevInnerWidth = window.innerWidth\n",
       "                _fit();\n",
       "            }\n",
       "        })\n",
       "\n",
       "        // Fit iframe height to content height.\n",
       "        function _fit() {\n",
       "            var height = iframe.contentDocument.body.scrollHeight + 18 + &#x27;px&#x27;;\n",
       "            iframe.style.height = height;\n",
       "        }\n",
       "    }\n",
       "&lt;/script&gt;\n",
       "\n",
       "&lt;!-- prettier-ignore --&gt;\n",
       "&lt;script src=&quot;https://cdn.jsdelivr.net/npm/bootstrap@4.6.0/dist/js/bootstrap.bundle.min.js&quot; integrity=&quot;sha384-Piv4xVNRyMGpqkS2by6br4gNJ7DXjqk09RmUpJ8jgGtD7zP9yug3goQfGII0yAns&quot; crossorigin=&quot;anonymous&quot;&gt;&lt;/script&gt;\n",
       "        \n",
       "        &lt;!-- Custom header --&gt;\n",
       "        \n",
       "\n",
       "\n",
       "\n",
       "\n",
       "    &lt;/head&gt;\n",
       "    &lt;body class=&quot;m2g-inside-iframe&quot;&gt;\n",
       "\n",
       "\n",
       "\n",
       "        &lt;div id=&quot;mols2grid&quot; class=&quot;grid-default&quot;&gt;\n",
       "            &lt;!-- Pagination &amp; search --&gt;\n",
       "            &lt;div class=&quot;m2g-functions&quot;&gt;\n",
       "                \n",
       "                &lt;div class=&quot;m2g-row&quot;&gt;\n",
       "                    &lt;!-- Pagination --&gt;\n",
       "                    &lt;ul class=&quot;m2g-pagination&quot; class=&quot;d-flex&quot;&gt;&lt;/ul&gt;\n",
       "                    &lt;div class=&quot;m2g-gap&quot;&gt;&lt;/div&gt;\n",
       "\n",
       "                    &lt;!-- Sort dropdown --&gt;\n",
       "                    &lt;div class=&quot;m2g-dropdown m2g-sort&quot;&gt;\n",
       "                        &lt;select&gt;\n",
       "                            \n",
       "                            \n",
       "                                \n",
       "                                \n",
       "                                \n",
       "                            &lt;option value=&quot;mols2grid-id&quot; selected&gt;Index&lt;/option&gt;\n",
       "                                \n",
       "                            \n",
       "                                \n",
       "                                \n",
       "                                \n",
       "                            &lt;option value=&quot;data-SMILES&quot;&gt;SMILES&lt;/option&gt;\n",
       "                                \n",
       "                            \n",
       "                            \n",
       "                            &lt;option value=&quot;checkbox&quot;&gt;Selected&lt;/option&gt;\n",
       "                            \n",
       "                        &lt;/select&gt;\n",
       "                        &lt;div class=&quot;m2g-order&quot;&gt;&lt;/div&gt;\n",
       "                        &lt;div class=&quot;m2g-display&quot;&gt;\n",
       "                            Index\n",
       "                        &lt;/div&gt;\n",
       "                    &lt;/div&gt;\n",
       "                &lt;/div&gt;\n",
       "                &lt;div class=&quot;m2g-row&quot;&gt;\n",
       "                    &lt;!-- Search bar --&gt;\n",
       "                    &lt;div class=&quot;m2g-search-wrap&quot;&gt;\n",
       "                        &lt;input\n",
       "                            type=&quot;text&quot;\n",
       "                            class=&quot;m2g-searchbar form-control&quot;\n",
       "                            placeholder=&quot;Search&quot;\n",
       "                            aria-label=&quot;Search&quot;\n",
       "                            aria-describedby=&quot;basic-addon1&quot;\n",
       "                        /&gt;\n",
       "                        &lt;div class=&quot;m2g-search-options&quot;&gt;\n",
       "                            &lt;div class=&quot;m2g-option m2g-search-text sel&quot;&gt;Text&lt;/div&gt;\n",
       "                            &lt;div class=&quot;m2g-option m2g-search-smarts&quot;&gt;SMARTS&lt;/div&gt;\n",
       "                        &lt;/div&gt;\n",
       "                    &lt;/div&gt;\n",
       "\n",
       "                    &lt;!-- Action dropdown --&gt;\n",
       "                    &lt;div class=&quot;m2g-dropdown m2g-actions&quot;&gt;\n",
       "                        &lt;select&gt;\n",
       "                            &lt;option hidden&gt;-&lt;/option&gt;\n",
       "                            &lt;option value=&quot;select-all&quot;&gt;Select all&lt;/option&gt;\n",
       "                            &lt;option value=&quot;select-matching&quot;&gt;Select matching&lt;/option&gt;\n",
       "                            &lt;option value=&quot;unselect-all&quot;&gt;Unselect all&lt;/option&gt;\n",
       "                            &lt;option value=&quot;invert&quot;&gt;Invert&lt;/option&gt;\n",
       "                            &lt;option value=&quot;copy&quot;&gt;Copy to clipboard&lt;/option&gt;\n",
       "                            &lt;option value=&quot;save-smiles&quot;&gt;Save SMILES&lt;/option&gt;\n",
       "                            &lt;option value=&quot;save-csv&quot;&gt;Save CSV&lt;/option&gt;\n",
       "                        &lt;/select&gt;\n",
       "                        &lt;div class=&quot;m2g-icon&quot;&gt;\n",
       "                            &lt;svg width=&quot;20&quot; height=&quot;20&quot; viewBox=&quot;0 0 20 20&quot; xmlns=&quot;http://www.w3.org/2000/svg&quot;&gt;\n",
       "                                &lt;path d=&quot;M11.5 4C11.5 4.82843 10.8284 5.5 10 5.5C9.17157 5.5 8.5 4.82843 8.5 4C8.5 3.17157 9.17157 2.5 10 2.5C10.8284 2.5 11.5 3.17157 11.5 4ZM11.5 10C11.5 10.8284 10.8284 11.5 10 11.5C9.17157 11.5 8.5 10.8284 8.5 10C8.5 9.17157 9.17157 8.5 10 8.5C10.8284 8.5 11.5 9.17157 11.5 10ZM10 17.5C10.8284 17.5 11.5 16.8284 11.5 16C11.5 15.1716 10.8284 14.5 10 14.5C9.17157 14.5 8.5 15.1716 8.5 16C8.5 16.8284 9.17157 17.5 10 17.5Z&quot;/&gt;\n",
       "                            &lt;/svg&gt;\n",
       "                        &lt;/div&gt;\n",
       "                    &lt;/div&gt;\n",
       "                &lt;/div&gt;\n",
       "            &lt;/div&gt;\n",
       "\n",
       "            &lt;!-- Grid --&gt;\n",
       "            \n",
       "            &lt;div class=&quot;m2g-list&quot;&gt;&lt;div class=&quot;m2g-cell&quot; data-mols2grid-id=&quot;0&quot; tabindex=&quot;0&quot;&gt;&lt;div class=&quot;m2g-cb-wrap&quot;&gt;&lt;input type=&quot;checkbox&quot; tabindex=&quot;-1&quot; class=&quot;position-relative float-left cached_checkbox&quot;&gt;&lt;div class=&quot;m2g-cb&quot;&gt;&lt;/div&gt;&lt;div class=&quot;data-mols2grid-id-display&quot;&gt;&lt;/div&gt;&lt;/div&gt;&lt;div class=&quot;m2g-cell-actions&quot;&gt;&lt;div class=&quot;m2g-info&quot;&gt;i&lt;/div&gt;&lt;/div&gt;&lt;a class=&quot;data data-img&quot;&gt;&lt;/a&gt;&lt;div class=&quot;data data-SMILES&quot; style=&quot;display: none;&quot;&gt;&lt;/div&gt;&lt;div class=&quot;m2g-tooltip&quot; data-toggle=&quot;popover&quot; data-content=&quot;.&quot;&gt;&lt;/div&gt;&lt;/div&gt;&lt;/div&gt;\n",
       "        &lt;/div&gt;\n",
       "        &lt;script&gt;\n",
       "            // list.js\n",
       "var listObj = new List(&#x27;mols2grid&#x27;, {\n",
       "    listClass: &#x27;m2g-list&#x27;,\n",
       "    valueNames: [{data: [&#x27;mols2grid-id&#x27;]}, &#x27;data-SMILES&#x27;, &#x27;data-img&#x27;, &#x27;data-mols2grid-id&#x27;, &#x27;data-mols2grid-id-display&#x27;, {attr: &#x27;data-content&#x27;, name: &#x27;m2g-tooltip&#x27;}],\n",
       "    item: &#x27;&lt;div class=&quot;m2g-cell&quot; data-mols2grid-id=&quot;0&quot; tabindex=&quot;0&quot;&gt;&lt;div class=&quot;m2g-cb-wrap&quot;&gt;&lt;input type=&quot;checkbox&quot; tabindex=&quot;-1&quot; class=&quot;position-relative float-left cached_checkbox&quot;&gt;&lt;div class=&quot;m2g-cb&quot;&gt;&lt;/div&gt;&lt;div class=&quot;data-mols2grid-id-display&quot;&gt;&lt;/div&gt;&lt;/div&gt;&lt;div class=&quot;m2g-cell-actions&quot;&gt;&lt;div class=&quot;m2g-info&quot;&gt;i&lt;/div&gt;&lt;/div&gt;&lt;a class=&quot;data data-img&quot;&gt;&lt;/a&gt;&lt;div class=&quot;data data-SMILES&quot; style=&quot;display: none;&quot;&gt;&lt;/div&gt;&lt;div class=&quot;m2g-tooltip&quot; data-toggle=&quot;popover&quot; data-content=&quot;.&quot;&gt;&lt;/div&gt;&lt;/div&gt;&#x27;,\n",
       "    page: 24,\n",
       "    pagination: {\n",
       "        paginationClass: &quot;m2g-pagination&quot;,\n",
       "        item: &#x27;&lt;li class=&quot;page-item&quot;&gt;&lt;a class=&quot;page page-link&quot; href=&quot;#&quot; onclick=&quot;event.preventDefault()&quot;&gt;&lt;/a&gt;&lt;/li&gt;&#x27;,\n",
       "        innerWindow: 1,\n",
       "        outerWindow: 1,\n",
       "    },\n",
       "});\n",
       "listObj.remove(&quot;mols2grid-id&quot;, &quot;0&quot;);\n",
       "listObj.add([{&quot;data-SMILES&quot;: &quot;CS(=O)(=O)Nc1ccc(N2CCN(C(=O)CCCCCOc3ccc4[nH]cc(CCN)c4c3)CC2)cc1&quot;, &quot;data-img&quot;: null, &quot;mols2grid-id&quot;: 0, &quot;data-mols2grid-id-display&quot;: 0, &quot;m2g-tooltip&quot;: &quot;&lt;strong&gt;SMILES&lt;/strong&gt;: &lt;span class=\\&quot;copy-me\\&quot;&gt;CS(=O)(=O)Nc1ccc(N2CCN(C(=O)CCCCCOc3ccc4[nH]cc(CCN)c4c3)CC2)cc1&lt;/span&gt;&quot;}, {&quot;data-SMILES&quot;: &quot;COc1ccc2[nH]cc(C3CCCN(CCCCn4c(=O)c(-c5ccccc5Cl)c5n(c4=O)CCCC5)C3)c2c1&quot;, &quot;data-img&quot;: null, &quot;mols2grid-id&quot;: 1, &quot;data-mols2grid-id-display&quot;: 1, &quot;m2g-tooltip&quot;: &quot;&lt;strong&gt;SMILES&lt;/strong&gt;: &lt;span class=\\&quot;copy-me\\&quot;&gt;COc1ccc2[nH]cc(C3CCCN(CCCCn4c(=O)c(-c5ccccc5Cl)c5n(c4=O)CCCC5)C3)c2c1&lt;/span&gt;&quot;}, {&quot;data-SMILES&quot;: &quot;COc1ccc2[nH]cc(C3CCCN(CCCCn4c(=O)c(-c5ccccc5C)c5n(c4=O)CCCC5)C3)c2c1&quot;, &quot;data-img&quot;: null, &quot;mols2grid-id&quot;: 2, &quot;data-mols2grid-id-display&quot;: 2, &quot;m2g-tooltip&quot;: &quot;&lt;strong&gt;SMILES&lt;/strong&gt;: &lt;span class=\\&quot;copy-me\\&quot;&gt;COc1ccc2[nH]cc(C3CCCN(CCCCn4c(=O)c(-c5ccccc5C)c5n(c4=O)CCCC5)C3)c2c1&lt;/span&gt;&quot;}, {&quot;data-SMILES&quot;: &quot;COc1ccc2[nH]cc(C3CCCN(CCCCn4c(=O)c(-c5ccccc5OC)c5ccccn5c4=O)C3)c2c1&quot;, &quot;data-img&quot;: null, &quot;mols2grid-id&quot;: 3, &quot;data-mols2grid-id-display&quot;: 3, &quot;m2g-tooltip&quot;: &quot;&lt;strong&gt;SMILES&lt;/strong&gt;: &lt;span class=\\&quot;copy-me\\&quot;&gt;COc1ccc2[nH]cc(C3CCCN(CCCCn4c(=O)c(-c5ccccc5OC)c5ccccn5c4=O)C3)c2c1&lt;/span&gt;&quot;}, {&quot;data-SMILES&quot;: &quot;NCCc1c[nH]c2ccc(OCCCC(=O)N3CCN(c4ccc([N+](=O)[O-])cc4)CC3)cc12&quot;, &quot;data-img&quot;: null, &quot;mols2grid-id&quot;: 4, &quot;data-mols2grid-id-display&quot;: 4, &quot;m2g-tooltip&quot;: &quot;&lt;strong&gt;SMILES&lt;/strong&gt;: &lt;span class=\\&quot;copy-me\\&quot;&gt;NCCc1c[nH]c2ccc(OCCCC(=O)N3CCN(c4ccc([N+](=O)[O-])cc4)CC3)cc12&lt;/span&gt;&quot;}, {&quot;data-SMILES&quot;: &quot;COc1ccc2[nH]cc(C3CCCN(CCCCn4c(=O)c(-c5ccccc5)c5n(c4=O)CCCC5)C3)c2c1&quot;, &quot;data-img&quot;: null, &quot;mols2grid-id&quot;: 5, &quot;data-mols2grid-id-display&quot;: 5, &quot;m2g-tooltip&quot;: &quot;&lt;strong&gt;SMILES&lt;/strong&gt;: &lt;span class=\\&quot;copy-me\\&quot;&gt;COc1ccc2[nH]cc(C3CCCN(CCCCn4c(=O)c(-c5ccccc5)c5n(c4=O)CCCC5)C3)c2c1&lt;/span&gt;&quot;}, {&quot;data-SMILES&quot;: &quot;COc1ccc2[nH]cc(C3CCCN(CCCCn4c(=O)c(-c5ccc(F)cc5)c5n(c4=O)CCCC5)C3)c2c1&quot;, &quot;data-img&quot;: null, &quot;mols2grid-id&quot;: 6, &quot;data-mols2grid-id-display&quot;: 6, &quot;m2g-tooltip&quot;: &quot;&lt;strong&gt;SMILES&lt;/strong&gt;: &lt;span class=\\&quot;copy-me\\&quot;&gt;COc1ccc2[nH]cc(C3CCCN(CCCCn4c(=O)c(-c5ccc(F)cc5)c5n(c4=O)CCCC5)C3)c2c1&lt;/span&gt;&quot;}, {&quot;data-SMILES&quot;: &quot;COc1ccc2[nH]cc(C3CCCN(CCCCn4c(=O)c(-c5ccccc5F)c5n(c4=O)CCCC5)C3)c2c1&quot;, &quot;data-img&quot;: null, &quot;mols2grid-id&quot;: 7, &quot;data-mols2grid-id-display&quot;: 7, &quot;m2g-tooltip&quot;: &quot;&lt;strong&gt;SMILES&lt;/strong&gt;: &lt;span class=\\&quot;copy-me\\&quot;&gt;COc1ccc2[nH]cc(C3CCCN(CCCCn4c(=O)c(-c5ccccc5F)c5n(c4=O)CCCC5)C3)c2c1&lt;/span&gt;&quot;}, {&quot;data-SMILES&quot;: &quot;COc1ccc2[nH]cc(C3CCCN(CCCCn4c(=O)c(-c5ccccc5F)c5ccccn5c4=O)C3)c2c1&quot;, &quot;data-img&quot;: null, &quot;mols2grid-id&quot;: 8, &quot;data-mols2grid-id-display&quot;: 8, &quot;m2g-tooltip&quot;: &quot;&lt;strong&gt;SMILES&lt;/strong&gt;: &lt;span class=\\&quot;copy-me\\&quot;&gt;COc1ccc2[nH]cc(C3CCCN(CCCCn4c(=O)c(-c5ccccc5F)c5ccccn5c4=O)C3)c2c1&lt;/span&gt;&quot;}, {&quot;data-SMILES&quot;: &quot;CS(=O)(=O)NCc1ccc(N2CCN(C(=O)COc3ccc4[nH]cc(CCN)c4c3)CC2)cc1&quot;, &quot;data-img&quot;: null, &quot;mols2grid-id&quot;: 9, &quot;data-mols2grid-id-display&quot;: 9, &quot;m2g-tooltip&quot;: &quot;&lt;strong&gt;SMILES&lt;/strong&gt;: &lt;span class=\\&quot;copy-me\\&quot;&gt;CS(=O)(=O)NCc1ccc(N2CCN(C(=O)COc3ccc4[nH]cc(CCN)c4c3)CC2)cc1&lt;/span&gt;&quot;}, {&quot;data-SMILES&quot;: &quot;Cc1ccccc1N1CCN(C(=O)COc2ccc3[nH]cc(CCN)c3c2)CC1&quot;, &quot;data-img&quot;: null, &quot;mols2grid-id&quot;: 10, &quot;data-mols2grid-id-display&quot;: 10, &quot;m2g-tooltip&quot;: &quot;&lt;strong&gt;SMILES&lt;/strong&gt;: &lt;span class=\\&quot;copy-me\\&quot;&gt;Cc1ccccc1N1CCN(C(=O)COc2ccc3[nH]cc(CCN)c3c2)CC1&lt;/span&gt;&quot;}, {&quot;data-SMILES&quot;: &quot;COc1ccc2[nH]cc(C3CCCN(CCCCn4c(=O)c(-c5ccccc5OC)c5n(c4=O)CCCC5)C3)c2c1&quot;, &quot;data-img&quot;: null, &quot;mols2grid-id&quot;: 11, &quot;data-mols2grid-id-display&quot;: 11, &quot;m2g-tooltip&quot;: &quot;&lt;strong&gt;SMILES&lt;/strong&gt;: &lt;span class=\\&quot;copy-me\\&quot;&gt;COc1ccc2[nH]cc(C3CCCN(CCCCn4c(=O)c(-c5ccccc5OC)c5n(c4=O)CCCC5)C3)c2c1&lt;/span&gt;&quot;}, {&quot;data-SMILES&quot;: &quot;COc1ccc(-c2c3n(c(=O)n(CCCCN4CCCC(c5c[nH]c6ccc(OC)cc56)C4)c2=O)CCCC3)cc1&quot;, &quot;data-img&quot;: null, &quot;mols2grid-id&quot;: 12, &quot;data-mols2grid-id-display&quot;: 12, &quot;m2g-tooltip&quot;: &quot;&lt;strong&gt;SMILES&lt;/strong&gt;: &lt;span class=\\&quot;copy-me\\&quot;&gt;COc1ccc(-c2c3n(c(=O)n(CCCCN4CCCC(c5c[nH]c6ccc(OC)cc56)C4)c2=O)CCCC3)cc1&lt;/span&gt;&quot;}, {&quot;data-SMILES&quot;: &quot;N#Cc1ccccc1N1CCN(C(=O)COc2ccc3[nH]cc(CCN)c3c2)CC1&quot;, &quot;data-img&quot;: null, &quot;mols2grid-id&quot;: 13, &quot;data-mols2grid-id-display&quot;: 13, &quot;m2g-tooltip&quot;: &quot;&lt;strong&gt;SMILES&lt;/strong&gt;: &lt;span class=\\&quot;copy-me\\&quot;&gt;N#Cc1ccccc1N1CCN(C(=O)COc2ccc3[nH]cc(CCN)c3c2)CC1&lt;/span&gt;&quot;}, {&quot;data-SMILES&quot;: &quot;CS(=O)(=O)Nc1ccc(N2CCN(C(=O)COc3ccc4[nH]cc(CCN)c4c3)CC2)cc1&quot;, &quot;data-img&quot;: null, &quot;mols2grid-id&quot;: 14, &quot;data-mols2grid-id-display&quot;: 14, &quot;m2g-tooltip&quot;: &quot;&lt;strong&gt;SMILES&lt;/strong&gt;: &lt;span class=\\&quot;copy-me\\&quot;&gt;CS(=O)(=O)Nc1ccc(N2CCN(C(=O)COc3ccc4[nH]cc(CCN)c4c3)CC2)cc1&lt;/span&gt;&quot;}, {&quot;data-SMILES&quot;: &quot;COc1ccc2[nH]cc(C3CCCN(CCCCn4c(=O)c(-c5ccccc5Cl)c5ccccn5c4=O)C3)c2c1&quot;, &quot;data-img&quot;: null, &quot;mols2grid-id&quot;: 15, &quot;data-mols2grid-id-display&quot;: 15, &quot;m2g-tooltip&quot;: &quot;&lt;strong&gt;SMILES&lt;/strong&gt;: &lt;span class=\\&quot;copy-me\\&quot;&gt;COc1ccc2[nH]cc(C3CCCN(CCCCn4c(=O)c(-c5ccccc5Cl)c5ccccn5c4=O)C3)c2c1&lt;/span&gt;&quot;}, {&quot;data-SMILES&quot;: &quot;NCCc1c[nH]c2ccc(OCCCCCC(=O)N3CCN(c4ccc(N)cc4)CC3)cc12&quot;, &quot;data-img&quot;: null, &quot;mols2grid-id&quot;: 16, &quot;data-mols2grid-id-display&quot;: 16, &quot;m2g-tooltip&quot;: &quot;&lt;strong&gt;SMILES&lt;/strong&gt;: &lt;span class=\\&quot;copy-me\\&quot;&gt;NCCc1c[nH]c2ccc(OCCCCCC(=O)N3CCN(c4ccc(N)cc4)CC3)cc12&lt;/span&gt;&quot;}, {&quot;data-SMILES&quot;: &quot;C=CCN(CC=C)CCc1c[nH]c2ccc(OC)cc12&quot;, &quot;data-img&quot;: null, &quot;mols2grid-id&quot;: 17, &quot;data-mols2grid-id-display&quot;: 17, &quot;m2g-tooltip&quot;: &quot;&lt;strong&gt;SMILES&lt;/strong&gt;: &lt;span class=\\&quot;copy-me\\&quot;&gt;C=CCN(CC=C)CCc1c[nH]c2ccc(OC)cc12&lt;/span&gt;&quot;}, {&quot;data-SMILES&quot;: &quot;NCCc1c[nH]c2ccc(OCC(=O)N3CCN(c4ccc([N+](=O)[O-])cc4)CC3)cc12&quot;, &quot;data-img&quot;: null, &quot;mols2grid-id&quot;: 18, &quot;data-mols2grid-id-display&quot;: 18, &quot;m2g-tooltip&quot;: &quot;&lt;strong&gt;SMILES&lt;/strong&gt;: &lt;span class=\\&quot;copy-me\\&quot;&gt;NCCc1c[nH]c2ccc(OCC(=O)N3CCN(c4ccc([N+](=O)[O-])cc4)CC3)cc12&lt;/span&gt;&quot;}, {&quot;data-SMILES&quot;: &quot;NCCc1c[nH]c2ccc(OCC(=O)N3CCN(c4ccccc4)CC3)cc12&quot;, &quot;data-img&quot;: null, &quot;mols2grid-id&quot;: 19, &quot;data-mols2grid-id-display&quot;: 19, &quot;m2g-tooltip&quot;: &quot;&lt;strong&gt;SMILES&lt;/strong&gt;: &lt;span class=\\&quot;copy-me\\&quot;&gt;NCCc1c[nH]c2ccc(OCC(=O)N3CCN(c4ccccc4)CC3)cc12&lt;/span&gt;&quot;}, {&quot;data-SMILES&quot;: &quot;COc1ccc2[nH]cc(C3CCCN(CCCCn4c(=O)c(-c5ccc(Cl)cc5)c5ccccn5c4=O)C3)c2c1&quot;, &quot;data-img&quot;: null, &quot;mols2grid-id&quot;: 20, &quot;data-mols2grid-id-display&quot;: 20, &quot;m2g-tooltip&quot;: &quot;&lt;strong&gt;SMILES&lt;/strong&gt;: &lt;span class=\\&quot;copy-me\\&quot;&gt;COc1ccc2[nH]cc(C3CCCN(CCCCn4c(=O)c(-c5ccc(Cl)cc5)c5ccccn5c4=O)C3)c2c1&lt;/span&gt;&quot;}, {&quot;data-SMILES&quot;: &quot;NCCc1c[nH]c2ccc(OCC(=O)N3CCN(c4ccccc4[N+](=O)[O-])CC3)cc12&quot;, &quot;data-img&quot;: null, &quot;mols2grid-id&quot;: 21, &quot;data-mols2grid-id-display&quot;: 21, &quot;m2g-tooltip&quot;: &quot;&lt;strong&gt;SMILES&lt;/strong&gt;: &lt;span class=\\&quot;copy-me\\&quot;&gt;NCCc1c[nH]c2ccc(OCC(=O)N3CCN(c4ccccc4[N+](=O)[O-])CC3)cc12&lt;/span&gt;&quot;}, {&quot;data-SMILES&quot;: &quot;CC(=O)Nc1ccc(N2CCN(C(=O)COc3ccc4[nH]cc(CCN)c4c3)CC2)cc1&quot;, &quot;data-img&quot;: null, &quot;mols2grid-id&quot;: 22, &quot;data-mols2grid-id-display&quot;: 22, &quot;m2g-tooltip&quot;: &quot;&lt;strong&gt;SMILES&lt;/strong&gt;: &lt;span class=\\&quot;copy-me\\&quot;&gt;CC(=O)Nc1ccc(N2CCN(C(=O)COc3ccc4[nH]cc(CCN)c4c3)CC2)cc1&lt;/span&gt;&quot;}, {&quot;data-SMILES&quot;: &quot;NC(Cc1c[nH]c2ccc(O)cc12)C(=O)O&quot;, &quot;data-img&quot;: null, &quot;mols2grid-id&quot;: 23, &quot;data-mols2grid-id-display&quot;: 23, &quot;m2g-tooltip&quot;: &quot;&lt;strong&gt;SMILES&lt;/strong&gt;: &lt;span class=\\&quot;copy-me\\&quot;&gt;NC(Cc1c[nH]c2ccc(O)cc12)C(=O)O&lt;/span&gt;&quot;}, {&quot;data-SMILES&quot;: &quot;COc1ccc2[nH]cc(CCNCc3ccc(-c4cnc5ccccc5c4)o3)c2c1&quot;, &quot;data-img&quot;: null, &quot;mols2grid-id&quot;: 24, &quot;data-mols2grid-id-display&quot;: 24, &quot;m2g-tooltip&quot;: &quot;&lt;strong&gt;SMILES&lt;/strong&gt;: &lt;span class=\\&quot;copy-me\\&quot;&gt;COc1ccc2[nH]cc(CCNCc3ccc(-c4cnc5ccccc5c4)o3)c2c1&lt;/span&gt;&quot;}, {&quot;data-SMILES&quot;: &quot;COc1ccc2[nH]cc(C3CCCN(CCCCn4c(=O)c(-c5ccc(C)cc5)c5ccccn5c4=O)C3)c2c1&quot;, &quot;data-img&quot;: null, &quot;mols2grid-id&quot;: 25, &quot;data-mols2grid-id-display&quot;: 25, &quot;m2g-tooltip&quot;: &quot;&lt;strong&gt;SMILES&lt;/strong&gt;: &lt;span class=\\&quot;copy-me\\&quot;&gt;COc1ccc2[nH]cc(C3CCCN(CCCCn4c(=O)c(-c5ccc(C)cc5)c5ccccn5c4=O)C3)c2c1&lt;/span&gt;&quot;}, {&quot;data-SMILES&quot;: &quot;COc1ccc2[nH]cc(CCNCc3ccc(-c4cccc(O)c4)o3)c2c1&quot;, &quot;data-img&quot;: null, &quot;mols2grid-id&quot;: 26, &quot;data-mols2grid-id-display&quot;: 26, &quot;m2g-tooltip&quot;: &quot;&lt;strong&gt;SMILES&lt;/strong&gt;: &lt;span class=\\&quot;copy-me\\&quot;&gt;COc1ccc2[nH]cc(CCNCc3ccc(-c4cccc(O)c4)o3)c2c1&lt;/span&gt;&quot;}, {&quot;data-SMILES&quot;: &quot;COc1ccc2[nH]cc(CCNCc3ccc(-c4ccc(O)cc4)o3)c2c1&quot;, &quot;data-img&quot;: null, &quot;mols2grid-id&quot;: 27, &quot;data-mols2grid-id-display&quot;: 27, &quot;m2g-tooltip&quot;: &quot;&lt;strong&gt;SMILES&lt;/strong&gt;: &lt;span class=\\&quot;copy-me\\&quot;&gt;COc1ccc2[nH]cc(CCNCc3ccc(-c4ccc(O)cc4)o3)c2c1&lt;/span&gt;&quot;}, {&quot;data-SMILES&quot;: &quot;COc1ccc2[nH]cc(-c3cc(O)n(CCCCN4CCCC(c5c[nH]c6ccc(OC)cc56)C4)c3O)c2c1&quot;, &quot;data-img&quot;: null, &quot;mols2grid-id&quot;: 28, &quot;data-mols2grid-id-display&quot;: 28, &quot;m2g-tooltip&quot;: &quot;&lt;strong&gt;SMILES&lt;/strong&gt;: &lt;span class=\\&quot;copy-me\\&quot;&gt;COc1ccc2[nH]cc(-c3cc(O)n(CCCCN4CCCC(c5c[nH]c6ccc(OC)cc56)C4)c3O)c2c1&lt;/span&gt;&quot;}, {&quot;data-SMILES&quot;: &quot;COc1cccc(-c2ccc(CNCCc3c[nH]c4ccc(OC)cc34)o2)c1&quot;, &quot;data-img&quot;: null, &quot;mols2grid-id&quot;: 29, &quot;data-mols2grid-id-display&quot;: 29, &quot;m2g-tooltip&quot;: &quot;&lt;strong&gt;SMILES&lt;/strong&gt;: &lt;span class=\\&quot;copy-me\\&quot;&gt;COc1cccc(-c2ccc(CNCCc3c[nH]c4ccc(OC)cc34)o2)c1&lt;/span&gt;&quot;}, {&quot;data-SMILES&quot;: &quot;COc1ccc2[nH]cc(C3CCCN(CCCCn4c(=O)c(-c5ccc(F)cc5)c5ccccn5c4=O)C3)c2c1&quot;, &quot;data-img&quot;: null, &quot;mols2grid-id&quot;: 30, &quot;data-mols2grid-id-display&quot;: 30, &quot;m2g-tooltip&quot;: &quot;&lt;strong&gt;SMILES&lt;/strong&gt;: &lt;span class=\\&quot;copy-me\\&quot;&gt;COc1ccc2[nH]cc(C3CCCN(CCCCn4c(=O)c(-c5ccc(F)cc5)c5ccccn5c4=O)C3)c2c1&lt;/span&gt;&quot;}, {&quot;data-SMILES&quot;: &quot;COc1ccc2[nH]cc(C3CCCN(CCCCn4c(O)cc(-c5c[nH]c6ccccc56)c4O)C3)c2c1&quot;, &quot;data-img&quot;: null, &quot;mols2grid-id&quot;: 31, &quot;data-mols2grid-id-display&quot;: 31, &quot;m2g-tooltip&quot;: &quot;&lt;strong&gt;SMILES&lt;/strong&gt;: &lt;span class=\\&quot;copy-me\\&quot;&gt;COc1ccc2[nH]cc(C3CCCN(CCCCn4c(O)cc(-c5c[nH]c6ccccc56)c4O)C3)c2c1&lt;/span&gt;&quot;}, {&quot;data-SMILES&quot;: &quot;NCCc1c[nH]c2ccc(OCCCCC(=O)N3CCN(c4ccc([N+](=O)[O-])cc4)CC3)cc12&quot;, &quot;data-img&quot;: null, &quot;mols2grid-id&quot;: 32, &quot;data-mols2grid-id-display&quot;: 32, &quot;m2g-tooltip&quot;: &quot;&lt;strong&gt;SMILES&lt;/strong&gt;: &lt;span class=\\&quot;copy-me\\&quot;&gt;NCCc1c[nH]c2ccc(OCCCCC(=O)N3CCN(c4ccc([N+](=O)[O-])cc4)CC3)cc12&lt;/span&gt;&quot;}, {&quot;data-SMILES&quot;: &quot;NCCc1c[nH]c2ccc(OCCCCCC(=O)N3CCN(c4ccc([N+](=O)[O-])cc4)CC3)cc12&quot;, &quot;data-img&quot;: null, &quot;mols2grid-id&quot;: 33, &quot;data-mols2grid-id-display&quot;: 33, &quot;m2g-tooltip&quot;: &quot;&lt;strong&gt;SMILES&lt;/strong&gt;: &lt;span class=\\&quot;copy-me\\&quot;&gt;NCCc1c[nH]c2ccc(OCCCCCC(=O)N3CCN(c4ccc([N+](=O)[O-])cc4)CC3)cc12&lt;/span&gt;&quot;}, {&quot;data-SMILES&quot;: &quot;CN(C)S(=O)(=O)Nc1ccc(N2CCN(C(=O)COc3ccc4[nH]cc(CCN)c4c3)CC2)cc1&quot;, &quot;data-img&quot;: null, &quot;mols2grid-id&quot;: 34, &quot;data-mols2grid-id-display&quot;: 34, &quot;m2g-tooltip&quot;: &quot;&lt;strong&gt;SMILES&lt;/strong&gt;: &lt;span class=\\&quot;copy-me\\&quot;&gt;CN(C)S(=O)(=O)Nc1ccc(N2CCN(C(=O)COc3ccc4[nH]cc(CCN)c4c3)CC2)cc1&lt;/span&gt;&quot;}, {&quot;data-SMILES&quot;: &quot;COc1ccc(-c2c(=O)n(CCCCN3CCCC(c4c[nH]c5ccc(OC)cc45)C3)c(=O)n3ccccc23)cc1&quot;, &quot;data-img&quot;: null, &quot;mols2grid-id&quot;: 35, &quot;data-mols2grid-id-display&quot;: 35, &quot;m2g-tooltip&quot;: &quot;&lt;strong&gt;SMILES&lt;/strong&gt;: &lt;span class=\\&quot;copy-me\\&quot;&gt;COc1ccc(-c2c(=O)n(CCCCN3CCCC(c4c[nH]c5ccc(OC)cc45)C3)c(=O)n3ccccc23)cc1&lt;/span&gt;&quot;}, {&quot;data-SMILES&quot;: &quot;COc1ccc2[nH]cc(C3CCCN(CCCCn4c(=O)c(-c5ccccc5)c5ccccn5c4=O)C3)c2c1&quot;, &quot;data-img&quot;: null, &quot;mols2grid-id&quot;: 36, &quot;data-mols2grid-id-display&quot;: 36, &quot;m2g-tooltip&quot;: &quot;&lt;strong&gt;SMILES&lt;/strong&gt;: &lt;span class=\\&quot;copy-me\\&quot;&gt;COc1ccc2[nH]cc(C3CCCN(CCCCn4c(=O)c(-c5ccccc5)c5ccccn5c4=O)C3)c2c1&lt;/span&gt;&quot;}, {&quot;data-SMILES&quot;: &quot;COc1ccc2[nH]cc(C3CCCN(CCCCn4c(=O)c(-c5ccc(C)cc5)c5n(c4=O)CCCC5)C3)c2c1&quot;, &quot;data-img&quot;: null, &quot;mols2grid-id&quot;: 37, &quot;data-mols2grid-id-display&quot;: 37, &quot;m2g-tooltip&quot;: &quot;&lt;strong&gt;SMILES&lt;/strong&gt;: &lt;span class=\\&quot;copy-me\\&quot;&gt;COc1ccc2[nH]cc(C3CCCN(CCCCn4c(=O)c(-c5ccc(C)cc5)c5n(c4=O)CCCC5)C3)c2c1&lt;/span&gt;&quot;}, {&quot;data-SMILES&quot;: &quot;COc1ccc2[nH]cc(C3CCCN(CCCCn4c(=O)c(-c5ccc(Cl)cc5)c5n(c4=O)CCCC5)C3)c2c1&quot;, &quot;data-img&quot;: null, &quot;mols2grid-id&quot;: 38, &quot;data-mols2grid-id-display&quot;: 38, &quot;m2g-tooltip&quot;: &quot;&lt;strong&gt;SMILES&lt;/strong&gt;: &lt;span class=\\&quot;copy-me\\&quot;&gt;COc1ccc2[nH]cc(C3CCCN(CCCCn4c(=O)c(-c5ccc(Cl)cc5)c5n(c4=O)CCCC5)C3)c2c1&lt;/span&gt;&quot;}, {&quot;data-SMILES&quot;: &quot;NCCc1c[nH]c2ccc(OCC(=O)N3CCN(c4ccccc4CN)CC3)cc12&quot;, &quot;data-img&quot;: null, &quot;mols2grid-id&quot;: 39, &quot;data-mols2grid-id-display&quot;: 39, &quot;m2g-tooltip&quot;: &quot;&lt;strong&gt;SMILES&lt;/strong&gt;: &lt;span class=\\&quot;copy-me\\&quot;&gt;NCCc1c[nH]c2ccc(OCC(=O)N3CCN(c4ccccc4CN)CC3)cc12&lt;/span&gt;&quot;}, {&quot;data-SMILES&quot;: &quot;COc1ccc2[nH]cc(CCNCc3ccc(-c4ccc(Cl)cc4)o3)c2c1&quot;, &quot;data-img&quot;: null, &quot;mols2grid-id&quot;: 40, &quot;data-mols2grid-id-display&quot;: 40, &quot;m2g-tooltip&quot;: &quot;&lt;strong&gt;SMILES&lt;/strong&gt;: &lt;span class=\\&quot;copy-me\\&quot;&gt;COc1ccc2[nH]cc(CCNCc3ccc(-c4ccc(Cl)cc4)o3)c2c1&lt;/span&gt;&quot;}, {&quot;data-SMILES&quot;: &quot;COc1ccc(-c2ccc(CNCCc3c[nH]c4ccc(OC)cc34)o2)cc1&quot;, &quot;data-img&quot;: null, &quot;mols2grid-id&quot;: 41, &quot;data-mols2grid-id-display&quot;: 41, &quot;m2g-tooltip&quot;: &quot;&lt;strong&gt;SMILES&lt;/strong&gt;: &lt;span class=\\&quot;copy-me\\&quot;&gt;COc1ccc(-c2ccc(CNCCc3c[nH]c4ccc(OC)cc34)o2)cc1&lt;/span&gt;&quot;}, {&quot;data-SMILES&quot;: &quot;COc1ccc2[nH]cc(C3CCCN(CCCCn4c(=O)c(-c5ccccc5C)c5ccccn5c4=O)C3)c2c1&quot;, &quot;data-img&quot;: null, &quot;mols2grid-id&quot;: 42, &quot;data-mols2grid-id-display&quot;: 42, &quot;m2g-tooltip&quot;: &quot;&lt;strong&gt;SMILES&lt;/strong&gt;: &lt;span class=\\&quot;copy-me\\&quot;&gt;COc1ccc2[nH]cc(C3CCCN(CCCCn4c(=O)c(-c5ccccc5C)c5ccccn5c4=O)C3)c2c1&lt;/span&gt;&quot;}, {&quot;data-SMILES&quot;: &quot;CS(=O)(=O)NCc1ccccc1N1CCN(C(=O)COc2ccc3[nH]cc(CCN)c3c2)CC1&quot;, &quot;data-img&quot;: null, &quot;mols2grid-id&quot;: 43, &quot;data-mols2grid-id-display&quot;: 43, &quot;m2g-tooltip&quot;: &quot;&lt;strong&gt;SMILES&lt;/strong&gt;: &lt;span class=\\&quot;copy-me\\&quot;&gt;CS(=O)(=O)NCc1ccccc1N1CCN(C(=O)COc2ccc3[nH]cc(CCN)c3c2)CC1&lt;/span&gt;&quot;}, {&quot;data-SMILES&quot;: &quot;NCCc1c[nH]c2ccc(OCC(=O)N3CCN(c4ccc(NC(=O)c5ccccc5)cc4)CC3)cc12&quot;, &quot;data-img&quot;: null, &quot;mols2grid-id&quot;: 44, &quot;data-mols2grid-id-display&quot;: 44, &quot;m2g-tooltip&quot;: &quot;&lt;strong&gt;SMILES&lt;/strong&gt;: &lt;span class=\\&quot;copy-me\\&quot;&gt;NCCc1c[nH]c2ccc(OCC(=O)N3CCN(c4ccc(NC(=O)c5ccccc5)cc4)CC3)cc12&lt;/span&gt;&quot;}, {&quot;data-SMILES&quot;: &quot;COc1ccc2[nH]cc(CCNCc3ccc(-c4cn[nH]c4)o3)c2c1&quot;, &quot;data-img&quot;: null, &quot;mols2grid-id&quot;: 45, &quot;data-mols2grid-id-display&quot;: 45, &quot;m2g-tooltip&quot;: &quot;&lt;strong&gt;SMILES&lt;/strong&gt;: &lt;span class=\\&quot;copy-me\\&quot;&gt;COc1ccc2[nH]cc(CCNCc3ccc(-c4cn[nH]c4)o3)c2c1&lt;/span&gt;&quot;}, {&quot;data-SMILES&quot;: &quot;NCCc1c[nH]c2ccc(OCC(=O)N3CCN(c4ccc(CN)cc4)CC3)cc12&quot;, &quot;data-img&quot;: null, &quot;mols2grid-id&quot;: 46, &quot;data-mols2grid-id-display&quot;: 46, &quot;m2g-tooltip&quot;: &quot;&lt;strong&gt;SMILES&lt;/strong&gt;: &lt;span class=\\&quot;copy-me\\&quot;&gt;NCCc1c[nH]c2ccc(OCC(=O)N3CCN(c4ccc(CN)cc4)CC3)cc12&lt;/span&gt;&quot;}, {&quot;data-SMILES&quot;: &quot;NCCc1c[nH]c2ccc(OCCCCC(=O)N3CCN(c4ccc(N)cc4)CC3)cc12&quot;, &quot;data-img&quot;: null, &quot;mols2grid-id&quot;: 47, &quot;data-mols2grid-id-display&quot;: 47, &quot;m2g-tooltip&quot;: &quot;&lt;strong&gt;SMILES&lt;/strong&gt;: &lt;span class=\\&quot;copy-me\\&quot;&gt;NCCc1c[nH]c2ccc(OCCCCC(=O)N3CCN(c4ccc(N)cc4)CC3)cc12&lt;/span&gt;&quot;}, {&quot;data-SMILES&quot;: &quot;NCCc1c[nH]c2ccc(OCC(=O)N3CCN(c4ccc(N)cc4)CC3)cc12&quot;, &quot;data-img&quot;: null, &quot;mols2grid-id&quot;: 48, &quot;data-mols2grid-id-display&quot;: 48, &quot;m2g-tooltip&quot;: &quot;&lt;strong&gt;SMILES&lt;/strong&gt;: &lt;span class=\\&quot;copy-me\\&quot;&gt;NCCc1c[nH]c2ccc(OCC(=O)N3CCN(c4ccc(N)cc4)CC3)cc12&lt;/span&gt;&quot;}]);\n",
       "\n",
       "\n",
       "// filter\n",
       "if (window.parent.mols2grid_lists === undefined) {\n",
       "    window.parent.mols2grid_lists = {};\n",
       "}\n",
       "window.parent.mols2grid_lists[&quot;default&quot;] = listObj;\n",
       "\n",
       "\n",
       "// selection\n",
       "class MolStorage extends Map {\n",
       "    multi_set(_id, _smiles) {\n",
       "        for (let i = 0; i &lt; _id.length; i++) {\n",
       "            this.set(_id[i], _smiles[i])\n",
       "        }\n",
       "    }\n",
       "    multi_del(_id) {\n",
       "        for (let i = 0; i &lt; _id.length; i++) {\n",
       "            this.delete(_id[i])\n",
       "        }\n",
       "    }\n",
       "    to_dict() {\n",
       "        var content = &#x27;{&#x27;\n",
       "        for (let [key, value] of this) {\n",
       "            content += key + &#x27;:&#x27; + JSON.stringify(value) + &#x27;,&#x27;\n",
       "        }\n",
       "        content = content.length &gt; 1 ? content.slice(0, -1) : content\n",
       "        content += &#x27;}&#x27;\n",
       "        return content\n",
       "    }\n",
       "    to_keys() {\n",
       "        var content = []\n",
       "        for (let [key] of this) {\n",
       "            content.push(key)\n",
       "        }\n",
       "        return content\n",
       "    }\n",
       "    download_smi(fileName, allItems) {\n",
       "        var content = &#x27;&#x27;\n",
       "\n",
       "        if (allItems) {\n",
       "            // Gather all smiles\n",
       "            for (var item of allItems) {\n",
       "                var smiles = item.values()[&#x27;data-SMILES&#x27;]\n",
       "                var id = item.values()[&#x27;mols2grid-id&#x27;]\n",
       "                content += smiles + &#x27; &#x27; + id + &#x27;\\n&#x27;\n",
       "            }\n",
       "        } else {\n",
       "            // Gather selected smiles\n",
       "            for (let [key, value] of this) {\n",
       "                content += value + &#x27; &#x27; + key + &#x27;\\n&#x27;\n",
       "            }\n",
       "        }\n",
       "\n",
       "        var a = document.createElement(&#x27;a&#x27;)\n",
       "        var file = new Blob([content], { type: &#x27;text/plain&#x27; })\n",
       "        a.href = URL.createObjectURL(file)\n",
       "        a.download = fileName\n",
       "        a.click()\n",
       "        a.remove()\n",
       "    }\n",
       "}\n",
       "var SELECTION = new MolStorage();\n",
       "\n",
       "\n",
       "\n",
       "// kernel\n",
       "function add_selection(grid_id, _id, smiles) {\n",
       "    SELECTION.multi_set(_id, smiles);\n",
       "    let model = window.parent[&quot;_MOLS2GRID_&quot; + grid_id];\n",
       "    if (model) {\n",
       "        model.set(&quot;selection&quot;, SELECTION.to_dict());\n",
       "        model.save_changes();\n",
       "    }\n",
       "}\n",
       "function del_selection(grid_id, _id) {\n",
       "    SELECTION.multi_del(_id);\n",
       "    let model = window.parent[&quot;_MOLS2GRID_&quot; + grid_id];\n",
       "    if (model) {\n",
       "        model.set(&quot;selection&quot;, SELECTION.to_dict());\n",
       "        model.save_changes();\n",
       "    }\n",
       "}\n",
       "if (window.parent.IPython !== undefined) {\n",
       "    // Jupyter notebook\n",
       "    var kernel_env = &quot;jupyter&quot;;\n",
       "} else if (window.parent.google !== undefined) {\n",
       "    // Google colab\n",
       "    var kernel_env = &quot;colab&quot;;\n",
       "} else {\n",
       "    var kernel_env = null;\n",
       "}\n",
       "\n",
       "\n",
       "\n",
       "\n",
       "// sort\n",
       "var sortField = &#x27;mols2grid-id&#x27;\n",
       "var sortOrder = &#x27;asc&#x27;\n",
       "\n",
       "// Sort dropdown\n",
       "$(&#x27;#mols2grid .m2g-sort select&#x27;).change(sort)\n",
       "\n",
       "// Sort order\n",
       "$(&#x27;#mols2grid .m2g-order&#x27;).click(flipSort)\n",
       "\n",
       "function sort(e) {\n",
       "    if (e) {\n",
       "        sortField = e.target.value\n",
       "        var selectedOption = e.target.options[e.target.selectedIndex]\n",
       "        var sortFieldDisplay = selectedOption.text\n",
       "    }\n",
       "\n",
       "    // Sort\n",
       "    if (sortField == &#x27;checkbox&#x27;) {\n",
       "        listObj.sort(&#x27;mols2grid-id&#x27;, {order: sortOrder, sortFunction: checkboxSort})\n",
       "    } else {\n",
       "        listObj.sort(sortField, {order: sortOrder, sortFunction: mols2gridSortFunction})\n",
       "    }\n",
       "\n",
       "    // Update UI.\n",
       "    $(this).parent().find(&#x27;.m2g-display&#x27;).text(sortFieldDisplay)\n",
       "}\n",
       "\n",
       "// prettier-ignore\n",
       "function flipSort() {\n",
       "    $(this).parent().removeClass(&#x27;m2d-arrow-&#x27; + sortOrder)\n",
       "    sortOrder = sortOrder === &#x27;desc&#x27; ? &#x27;asc&#x27; : &#x27;desc&#x27;\n",
       "    $(this).parent().addClass(&#x27;m2d-arrow-&#x27; + sortOrder)\n",
       "    sort()\n",
       "}\n",
       "\n",
       "function mols2gridSortFunction(itemA, itemB, options) {\n",
       "    var x = itemA.values()[options.valueName]\n",
       "    var y = itemB.values()[options.valueName]\n",
       "    if (typeof x === &#x27;number&#x27;) {\n",
       "        if (isFinite(x - y)) {\n",
       "            return x - y\n",
       "        } else {\n",
       "            return isFinite(x) ? -1 : 1\n",
       "        }\n",
       "    } else {\n",
       "        x = x ? x.toLowerCase() : x\n",
       "        y = y ? y.toLowerCase() : y\n",
       "        return x &lt; y ? -1 : x &gt; y ? 1 : 0\n",
       "    }\n",
       "}\n",
       "function checkboxSort(itemA, itemB, options) {\n",
       "    if (itemA.elm !== undefined) {\n",
       "        var checkedA = itemA.elm.querySelector(&#x27;input[type=checkbox]&#x27;).checked\n",
       "        if (itemB.elm !== undefined) {\n",
       "            var checkedB = itemB.elm.querySelector(&#x27;input[type=checkbox]&#x27;).checked\n",
       "            if (checkedA &amp;&amp; !checkedB) {\n",
       "                return -1\n",
       "            } else if (!checkedA &amp;&amp; checkedB) {\n",
       "                return 1\n",
       "            } else {\n",
       "                return 0\n",
       "            }\n",
       "        } else {\n",
       "            return -1\n",
       "        }\n",
       "    } else if (itemB.elm !== undefined) {\n",
       "        return 1\n",
       "    } else {\n",
       "        return 0\n",
       "    }\n",
       "}\n",
       "\n",
       "\n",
       "\n",
       "\n",
       "// tooltips\n",
       "$.fn.tooltip.Constructor.Default.whiteList.span = [&#x27;style&#x27;]\n",
       "listObj.on(&quot;updated&quot;, function (list) {\n",
       "    $(function () {\n",
       "        // Hide previous popovers.\n",
       "        $(&#x27;#mols2grid a.page-link&#x27;).click(function(e) {\n",
       "            $(&#x27;.m2g-tooltip[data-toggle=&quot;popover&quot;]&#x27;).popover(&#x27;hide&#x27;)\n",
       "        });\n",
       "        // Create new popover.\n",
       "        $(&#x27;.m2g-tooltip[data-toggle=&quot;popover&quot;]&#x27;).popover({\n",
       "            placement: &#x27;auto&#x27;,\n",
       "            trigger: &#x27;manual&#x27;,\n",
       "            html: true,\n",
       "            sanitize: false,\n",
       "        });\n",
       "    })\n",
       "});\n",
       "\n",
       "\n",
       "// grid interactions (select, click, tooltip, key events)\n",
       "// Check if selection UI is supported.\n",
       "var supportSelection = eval(&#x27;True&#x27;.toLowerCase());\n",
       "\n",
       "listObj.on(&quot;updated&quot;, initInteraction);\n",
       "\n",
       "// (Re)initialiuze all grid interaction every time the grid changes.\n",
       "function initInteraction(list) {\n",
       "    initCellClick()\n",
       "    initToolTip()\n",
       "    initKeyboard()\n",
       "    if (supportSelection) initCheckbox()\n",
       "\n",
       "\n",
       "    // Hide pagination if there is only one page.\n",
       "    if (listObj.matchingItems.length &lt;= listObj.page) {\n",
       "        $(&#x27;#mols2grid .m2g-pagination&#x27;).hide()\n",
       "    } else {\n",
       "        $(&#x27;#mols2grid .m2g-pagination&#x27;).show()\n",
       "    }\n",
       "\n",
       "    // Add a bunch of phantom cells.\n",
       "    // These are used as filler to make sure that\n",
       "    // no grid cells need to be resized when there&#x27;s\n",
       "    // not enough results to fill the row.\n",
       "    $(&#x27;#mols2grid .m2g-list&#x27;).append(&#x27;&lt;div class=&quot;m2g-cell m2g-phantom&quot;&gt;&lt;/div&gt;&#x27;.repeat(11));\n",
       "}\n",
       "\n",
       "// Cell click handler.\n",
       "function initCellClick() {\n",
       "    $(&#x27;#mols2grid .m2g-cell&#x27;).off(&#x27;click&#x27;).click(function(e) {\n",
       "        if ($(e.target).hasClass(&#x27;m2g-info&#x27;) || $(e.target).is(&#x27;:checkbox&#x27;)) {\n",
       "            // Info button / Checkbox --&gt; do nothing.\n",
       "        } else if ($(e.target).is(&#x27;div&#x27;) &amp;&amp; $(e.target).hasClass(&#x27;data&#x27;)) {\n",
       "            // Data string --&gt; copy text.\n",
       "            copyOnClick(e.target)\n",
       "        } else if ($(e.target).hasClass(&#x27;m2g-callback&#x27;)) {\n",
       "            // Callback button.\n",
       "            onCallbackButtonClick(e.target)\n",
       "        } else {\n",
       "            // Outside checkbox --&gt; toggle the checkbox.\n",
       "            if (supportSelection) {\n",
       "                var chkbox = $(this).find(&#x27;input:checkbox&#x27;)[0]\n",
       "                chkbox.checked = !chkbox.checked\n",
       "                $(chkbox).trigger(&#x27;change&#x27;)\n",
       "            }\n",
       "        }\n",
       "    })\n",
       "}\n",
       "\n",
       "// Store an element&#x27;s text content in the clipboard.\n",
       "function copyOnClick(target) {\n",
       "    var text = $(target).text()\n",
       "    navigator.clipboard.writeText(text)\n",
       "\n",
       "    // Blink the cell to indicate that the text was copied.\n",
       "    $(target).addClass(&#x27;m2g-copy-blink&#x27;)\n",
       "    setTimeout(function() {\n",
       "        $(target).removeClass(&#x27;m2g-copy-blink&#x27;)\n",
       "    }, 450)\n",
       "}\n",
       "\n",
       "// Keyboard actions.\n",
       "function initKeyboard() {\n",
       "    // Disable scroll when pressing UP/DOWN arrows\n",
       "    $(&#x27;#mols2grid .m2g-cell&#x27;).off(&#x27;keydown&#x27;).keydown(function(e) {\n",
       "        if (e.which == 38 || e.which == 40) {\n",
       "            e.preventDefault()\n",
       "        }\n",
       "    })\n",
       "\n",
       "    $(&#x27;#mols2grid .m2g-cell&#x27;).off(&#x27;keyup&#x27;).keyup(function(e) {\n",
       "        var chkbox = $(this).find(&#x27;input:checkbox&#x27;)[0]\n",
       "        if (e.which == 13) {\n",
       "            // ENTER: toggle\n",
       "            chkbox.checked = !chkbox.checked\n",
       "            $(chkbox).trigger(&#x27;change&#x27;)\n",
       "        } else if (e.which == 27 || e.which == 8) {\n",
       "            // ESC/BACKSPACE: unselect\n",
       "            chkbox.checked = false\n",
       "            $(chkbox).trigger(&#x27;change&#x27;)\n",
       "        } else if (e.which == 37) {\n",
       "            // LEFT\n",
       "            $(this).prev().focus()\n",
       "        } else if (e.which == 39) {\n",
       "            // RIGHT\n",
       "            $(this).next().focus()\n",
       "        } else if (e.which == 38 || e.which == 40) {\n",
       "            var containerWidth = $(this).parent().outerWidth()\n",
       "            var cellWidth = $(this).outerWidth() + parseInt($(this).css(&#x27;marginLeft&#x27;)) * 2\n",
       "            var columns = Math.round(containerWidth / cellWidth)\n",
       "            var index = $(this).index()\n",
       "            if (e.which == 38) {\n",
       "                // UP\n",
       "                var indexAbove = Math.max(index - columns, 0)\n",
       "                $(this).parent().children().eq(indexAbove).focus()\n",
       "            } else if (e.which == 40) {\n",
       "                // DOWN    \n",
       "                var total = $(this).parent().children().length\n",
       "                var indexBelow = Math.min(index + columns, total)\n",
       "                $(this).parent().children().eq(indexBelow).focus()\n",
       "            }\n",
       "        }\n",
       "    })\n",
       "}\n",
       "\n",
       "// Show tooltip when hovering the info icon.\n",
       "function initToolTip() {\n",
       "    $(&#x27;#mols2grid .m2g-info&#x27;).off(&#x27;mouseenter&#x27;).off(&#x27;mouseleave&#x27;).off(&#x27;click&#x27;).mouseenter(function() {\n",
       "        // Show on enter\n",
       "        $(this).closest(&#x27;.m2g-cell&#x27;).find(&#x27;.m2g-tooltip[data-toggle=&quot;popover&quot;]&#x27;).popover(&#x27;show&#x27;)\n",
       "        $(&#x27;body &gt; .popover&#x27;).click(function(e) {\n",
       "            if ($(e.target).hasClass(&#x27;copy-me&#x27;)) {\n",
       "                copyOnClick(e.target)\n",
       "            } else if ($(e.target).is(&#x27;button&#x27;)) {\n",
       "                \n",
       "            }\n",
       "        })\n",
       "    }).mouseleave(function() {\n",
       "        // Hide on leave, unless sticky.\n",
       "        if (!$(this).closest(&#x27;.m2g-cell&#x27;).hasClass(&#x27;m2g-keep-tooltip&#x27;)) {\n",
       "            $(this).closest(&#x27;.m2g-cell&#x27;).find(&#x27;.m2g-tooltip[data-toggle=&quot;popover&quot;]&#x27;).popover(&#x27;hide&#x27;)\n",
       "        }\n",
       "    }).click(function() {\n",
       "        // Toggle sticky on click.\n",
       "        $(this).closest(&#x27;.m2g-cell&#x27;).toggleClass(&#x27;m2g-keep-tooltip&#x27;)\n",
       "\n",
       "        // Hide tooltip when sticky was turned off.\n",
       "        if ($(this).closest(&#x27;.m2g-cell&#x27;).hasClass(&#x27;m2g-keep-tooltip&#x27;)) {\n",
       "            $(this).closest(&#x27;.m2g-cell&#x27;).find(&#x27;.m2g-tooltip[data-toggle=&quot;popover&quot;]&#x27;).popover(&#x27;show&#x27;)\n",
       "        } else if (!$(this).closest(&#x27;.m2g-cell&#x27;).hasClass(&#x27;m2g-keep-tooltip&#x27;)) {\n",
       "            $(this).closest(&#x27;.m2g-cell&#x27;).find(&#x27;.m2g-tooltip[data-toggle=&quot;popover&quot;]&#x27;).popover(&#x27;hide&#x27;)\n",
       "        }\n",
       "    })\n",
       "}\n",
       "\n",
       "// Update selection on checkbox click.\n",
       "function initCheckbox() {\n",
       "    $(&quot;input:checkbox&quot;).off(&#x27;change&#x27;).change(function() {\n",
       "        var _id = parseInt($(this).closest(&quot;.m2g-cell&quot;).attr(&quot;data-mols2grid-id&quot;));\n",
       "        if (this.checked) {\n",
       "            var _smiles = $($(this).closest(&quot;.m2g-cell&quot;).children(&quot;.data-SMILES&quot;)[0]).text();\n",
       "            add_selection(&quot;default&quot;, [_id], [_smiles]);\n",
       "        } else {\n",
       "            del_selection(&quot;default&quot;, [_id]);\n",
       "        }\n",
       "    });\n",
       "}\n",
       "\n",
       "// Callback button\n",
       "function onCallbackButtonClick(target) {\n",
       "    var data = {}\n",
       "    data[&quot;mols2grid-id&quot;] = parseInt($(target).closest(&quot;.m2g-cell&quot;)\n",
       "                                            .attr(&quot;data-mols2grid-id&quot;));\n",
       "    data[&quot;img&quot;] = $(target).parent().siblings(&quot;.data-img&quot;).eq(0).get(0).innerHTML;\n",
       "    $(target).parent().siblings(&quot;.data&quot;).not(&quot;.data-img&quot;).each(function() {\n",
       "        let name = this.className.split(&quot; &quot;)\n",
       "            .filter(cls =&gt; cls.startsWith(&quot;data-&quot;))[0]\n",
       "            .substring(5);\n",
       "        data[name] = this.innerHTML;\n",
       "    });\n",
       "\n",
       "    \n",
       "    // Call custom js callback.\n",
       "    None\n",
       "    \n",
       "}\n",
       "\n",
       "\n",
       "\n",
       "/**\n",
       " * Actions\n",
       " */\n",
       "\n",
       "// Listen to action dropdown.\n",
       "$(&#x27;#mols2grid .m2g-actions select&#x27;).change(function(e) {\n",
       "    var val = e.target.value\n",
       "    switch(val) {\n",
       "        case &#x27;select-all&#x27;:\n",
       "            selectAll()\n",
       "            break\n",
       "        case &#x27;select-matching&#x27;:\n",
       "            selectMatching()\n",
       "            break\n",
       "        case &#x27;unselect-all&#x27;:\n",
       "            unselectAll()\n",
       "            break\n",
       "        case &#x27;invert&#x27;:\n",
       "            invertSelection()\n",
       "            break\n",
       "        case &#x27;copy&#x27;:\n",
       "            copy()\n",
       "            break\n",
       "        case &#x27;save-smiles&#x27;:\n",
       "            saveSmiles()\n",
       "            break\n",
       "        case &#x27;save-csv&#x27;:\n",
       "            saveCSV()\n",
       "            break\n",
       "    }\n",
       "    $(this).val(&#x27;&#x27;) // Reset dropdown\n",
       "})\n",
       "\n",
       "// Check all.\n",
       "function selectAll(e) {\n",
       "    var _id = [];\n",
       "    var _smiles = [];\n",
       "    listObj.items.forEach(function (item) {\n",
       "        if (item.elm) {\n",
       "            item.elm.getElementsByTagName(&quot;input&quot;)[0].checked = true;\n",
       "        } else {\n",
       "            item.show()\n",
       "            item.elm.getElementsByTagName(&quot;input&quot;)[0].checked = true;\n",
       "            item.hide()\n",
       "        }\n",
       "        _id.push(item.values()[&quot;mols2grid-id&quot;]);\n",
       "        _smiles.push(item.values()[&quot;data-SMILES&quot;]);\n",
       "    });\n",
       "    add_selection(&quot;default&quot;, _id, _smiles);\n",
       "};\n",
       "\n",
       "\n",
       "// Check matching.\n",
       "function selectMatching(e) {\n",
       "    var _id = [];\n",
       "    var _smiles = [];\n",
       "    listObj.matchingItems.forEach(function (item) {\n",
       "        if (item.elm) {\n",
       "            item.elm.getElementsByTagName(&quot;input&quot;)[0].checked = true;\n",
       "        } else {\n",
       "            item.show()\n",
       "            item.elm.getElementsByTagName(&quot;input&quot;)[0].checked = true;\n",
       "            item.hide()\n",
       "        }\n",
       "        _id.push(item.values()[&quot;mols2grid-id&quot;]);\n",
       "        _smiles.push(item.values()[&quot;data-SMILES&quot;]);\n",
       "    });\n",
       "    add_selection(&quot;default&quot;, _id, _smiles);\n",
       "};\n",
       "\n",
       "// Uncheck all.\n",
       "function unselectAll(e) {\n",
       "    var _id = [];\n",
       "    listObj.items.forEach(function (item) {\n",
       "        if (item.elm) {\n",
       "            item.elm.getElementsByTagName(&quot;input&quot;)[0].checked = false;\n",
       "        } else {\n",
       "            item.show()\n",
       "            item.elm.getElementsByTagName(&quot;input&quot;)[0].checked = false;\n",
       "            item.hide()\n",
       "        }\n",
       "        _id.push(item.values()[&quot;mols2grid-id&quot;]);\n",
       "    });\n",
       "    del_selection(&quot;default&quot;, _id);\n",
       "};\n",
       "\n",
       "// Invert selection.\n",
       "function invertSelection(e) {\n",
       "    var _id_add = [];\n",
       "    var _id_del = [];\n",
       "    var _smiles = [];\n",
       "    listObj.items.forEach(function (item) {\n",
       "        if (item.elm) {\n",
       "            var chkbox = item.elm.getElementsByTagName(&quot;input&quot;)[0]\n",
       "            chkbox.checked = !chkbox.checked;\n",
       "        } else {\n",
       "            item.show()\n",
       "            var chkbox = item.elm.getElementsByTagName(&quot;input&quot;)[0]\n",
       "            chkbox.checked = !chkbox.checked;\n",
       "            item.hide()\n",
       "        }\n",
       "        if (chkbox.checked) {\n",
       "            _id_add.push(item.values()[&quot;mols2grid-id&quot;]);\n",
       "            _smiles.push(item.values()[&quot;data-SMILES&quot;]);\n",
       "        } else {\n",
       "            _id_del.push(item.values()[&quot;mols2grid-id&quot;]);\n",
       "        }\n",
       "    });\n",
       "    del_selection(&quot;default&quot;, _id_del);\n",
       "    add_selection(&quot;default&quot;, _id_add, _smiles);\n",
       "};\n",
       "\n",
       "// Copy to clipboard.\n",
       "function copy(e) {\n",
       "    // navigator.clipboard.writeText(SELECTION.to_dict());\n",
       "    content = _renderCSV(&#x27;\\t&#x27;)\n",
       "    navigator.clipboard.writeText(content)\n",
       "};\n",
       "\n",
       "// Export smiles.\n",
       "function saveSmiles(e) {\n",
       "    var fileName = &quot;selection.smi&quot;\n",
       "    if (SELECTION.size) {\n",
       "        // Download selected smiles\n",
       "        SELECTION.download_smi(fileName);\n",
       "    } else {\n",
       "        // Download all smiles\n",
       "        SELECTION.download_smi(fileName, listObj.items);\n",
       "    }\n",
       "};\n",
       "\n",
       "// Export CSV.\n",
       "function saveCSV(e) {\n",
       "    content = _renderCSV(&#x27;;&#x27;)\n",
       "    var a = document.createElement(&quot;a&quot;);\n",
       "    var file = new Blob([content], {type: &quot;text/csv&quot;});\n",
       "    a.href = URL.createObjectURL(file);\n",
       "    a.download = &quot;selection.csv&quot;;\n",
       "    a.click();\n",
       "    a.remove();\n",
       "};\n",
       "\n",
       "// Render CSV for export of clipboard.\n",
       "function _renderCSV(sep) {\n",
       "    // Same order as subset + tooltip\n",
       "    var columns = Array.from(listObj.items[0].elm.querySelectorAll(&quot;div.data&quot;))\n",
       "        .map(elm =&gt; elm.classList[1])\n",
       "        .filter(name =&gt; name !== &quot;data-img&quot;);\n",
       "    // Remove &#x27;data-&#x27; and img\n",
       "    var header = columns.map(name =&gt; name.slice(5));\n",
       "    // CSV content\n",
       "    header = [&quot;index&quot;].concat(header).join(sep);\n",
       "    var content = header + &quot;\\n&quot;;\n",
       "    listObj.items.forEach(function (item) {\n",
       "        let data = item.values();\n",
       "        let index = data[&quot;mols2grid-id&quot;];\n",
       "        if (SELECTION.has(index) || SELECTION.size === 0) {\n",
       "            content += index;\n",
       "            columns.forEach((key) =&gt; {\n",
       "                content += sep + data[key];\n",
       "            })\n",
       "            content += &quot;\\n&quot;;\n",
       "        }\n",
       "    });\n",
       "    return content\n",
       "}\n",
       "\n",
       "\n",
       "// generate images for the currently displayed molecules\n",
       "var draw_opts = {&quot;n_cols&quot;: 5, &quot;width&quot;: 130, &quot;height&quot;: 90};\n",
       "var json_draw_opts = JSON.stringify(draw_opts);\n",
       "\n",
       "var smarts_matches = {};\n",
       "\n",
       "// Load RDKit\n",
       "window\n",
       ".initRDKitModule()\n",
       ".then(function(RDKit) {\n",
       "    console.log(&#x27;RDKit version: &#x27;, RDKit.version());\n",
       "    window.RDKit = RDKit;\n",
       "    window.RDKitModule = RDKit;\n",
       "\n",
       "    // Searchbar\n",
       "    function SmartsSearch(query, columns) {\n",
       "    var smiles_col = columns[0];\n",
       "    smarts_matches = {};\n",
       "    var query = $(&#x27;#mols2grid .m2g-searchbar&#x27;).val();\n",
       "    var qmol = RDKit.get_qmol(query);\n",
       "    if (qmol.is_valid()) {\n",
       "        listObj.items.forEach(function (item) {\n",
       "            var smiles = item.values()[smiles_col]\n",
       "            var mol = RDKit.get_mol(smiles, &#x27;{&quot;removeHs&quot;: false }&#x27;);\n",
       "            if (mol.is_valid()) {\n",
       "                var results = mol.get_substruct_matches(qmol);\n",
       "                if (results === &quot;\\{\\}&quot;) {\n",
       "                    item.found = false;\n",
       "                } else {\n",
       "                    item.found = true;\n",
       "                    \n",
       "                    results = JSON.parse(results);\n",
       "                    \n",
       "                    var highlights = {&quot;atoms&quot;: [], &quot;bonds&quot;: []};\n",
       "                    results.forEach(function (match) {\n",
       "                        highlights[&quot;atoms&quot;].push(...match.atoms)\n",
       "                        highlights[&quot;bonds&quot;].push(...match.bonds)\n",
       "                    });\n",
       "                    \n",
       "                    var index = item.values()[&quot;mols2grid-id&quot;];\n",
       "                    smarts_matches[index] = highlights;\n",
       "                    \n",
       "                }\n",
       "            } else {\n",
       "                item.found = false;\n",
       "            }\n",
       "            mol.delete();\n",
       "        });\n",
       "    }\n",
       "    qmol.delete();\n",
       "}\n",
       "var search_type = &quot;Text&quot;;\n",
       "// Temporary fix for regex characters being escaped by list.js\n",
       "// This extends String.replace to ignore the regex pattern used by list.js and returns\n",
       "// the string unmodified. Other calls should not be affected, unless they use the exact\n",
       "// same pattern and replacement value.\n",
       "// TODO: remove once the issue is fixed in list.js and released\n",
       "String.prototype.replace = (function(_super) {\n",
       "    return function() {\n",
       "        if (\n",
       "            (arguments[0].toString() === &#x27;/[-[\\\\]{}()*+?.,\\\\\\\\^$|#]/g&#x27;)\n",
       "            &amp;&amp; (arguments[1] === &#x27;\\\\$&amp;&#x27;)\n",
       "        ) {\n",
       "            if (this.length === 0) {\n",
       "                return &#x27;&#x27;\n",
       "            }\n",
       "            return this\n",
       "        }\n",
       "        return _super.apply(this, arguments);\n",
       "    };         \n",
       "})(String.prototype.replace);\n",
       "\n",
       "// Switch search type (Text or SMARTS)\n",
       "$(&#x27;#mols2grid .m2g-search-options .m2g-option&#x27;).click(function() {\n",
       "    search_type = $(this).text();\n",
       "    $(&#x27;#mols2grid .m2g-search-options .m2g-option.sel&#x27;).removeClass(&quot;sel&quot;);\n",
       "    $(this).addClass(&quot;sel&quot;);\n",
       "});\n",
       "\n",
       "// Searchbar update event handler\n",
       "$(&#x27;#mols2grid .m2g-searchbar&#x27;).on(&quot;keyup&quot;, function(e) {\n",
       "    var query = e.target.value;\n",
       "    if (search_type === &quot;Text&quot;) {\n",
       "        smarts_matches = {};\n",
       "        listObj.search(query, [&#x27;data-mols2grid-id&#x27;, &#x27;data-SMILES&#x27;]);\n",
       "    } else {\n",
       "        listObj.search(query, [&quot;data-SMILES&quot;], SmartsSearch);\n",
       "    }\n",
       "});\n",
       "\n",
       "    \n",
       "    // Generate images for the currently displayed molecules.\n",
       "RDKit.prefer_coordgen(true);\n",
       "function draw_mol(smiles, index, template_mol) {\n",
       "    var mol = RDKit.get_mol(smiles, &#x27;{&quot;removeHs&quot;: false }&#x27;);\n",
       "    var svg = &quot;&quot;;\n",
       "    if (mol.is_valid()) {\n",
       "        var highlights = smarts_matches[index];\n",
       "        if (highlights) {\n",
       "            var details = Object.assign({}, draw_opts, highlights);\n",
       "            details = JSON.stringify(details);\n",
       "            mol.generate_aligned_coords(template_mol, true);\n",
       "        } else {\n",
       "            var details = json_draw_opts;\n",
       "        }\n",
       "        svg = mol.get_svg_with_highlights(details);\n",
       "    }\n",
       "    mol.delete();\n",
       "    if (svg == &quot;&quot;) {\n",
       "        return &#x27;&lt;svg width=&quot;130&quot; height=&quot;90&quot; xmlns=&quot;http://www.w3.org/2000/svg&quot; version=&quot;1.1&quot; viewBox=&quot;0 0 130 90&quot;&gt;&lt;/svg&gt;&#x27;;\n",
       "    }\n",
       "    return svg;\n",
       "}\n",
       "\n",
       "// Update images when the list is updated.\n",
       "listObj.on(&quot;updated&quot;, function (list) {\n",
       "    var query = $(&#x27;#mols2grid .m2g-searchbar&#x27;).val();\n",
       "    var template_mol;\n",
       "    if (query === &quot;&quot;) {\n",
       "        smarts_matches = {};\n",
       "        template_mol = null;\n",
       "    } else {\n",
       "        template_mol = RDKit.get_qmol(query);\n",
       "        template_mol.set_new_coords(true);\n",
       "    }\n",
       "    $(&#x27;#mols2grid .m2g-cell&#x27;).each(function() {\n",
       "        var $t = $(this);\n",
       "        var smiles = $t.children(&quot;.data-SMILES&quot;).first().text();\n",
       "        var index = parseInt(this.getAttribute(&quot;data-mols2grid-id&quot;));\n",
       "        var svg = draw_mol(smiles, index, template_mol);\n",
       "        $t.children(&quot;.data-img&quot;).html(svg);\n",
       "    });\n",
       "    if (template_mol) {\n",
       "        template_mol.delete();\n",
       "    }\n",
       "});\n",
       "    \n",
       "\n",
       "    // Trigger update to activate tooltips, draw images, setup callbacks...\n",
       "    listObj.update();\n",
       "    \n",
       "    // Set iframe height to fit content.\n",
       "    fitIframe(window.frameElement);\n",
       "});\n",
       "        &lt;/script&gt;\n",
       "\n",
       "\n",
       "\n",
       "\n",
       "    &lt;/body&gt;\n",
       "&lt;/html&gt;\n",
       "\">\n",
       "</iframe>"
      ],
      "text/plain": [
       "<IPython.core.display.HTML object>"
      ]
     },
     "execution_count": 12,
     "metadata": {},
     "output_type": "execute_result"
    }
   ],
   "source": [
    "from qsprpred.plotting.grid_visualizers import smiles_to_grid, interactive_grid\n",
    "\n",
    "# seeking the serotonin scaffold\n",
    "smiles_to_grid(MoleculeTable(df=df_P08908, name=\"P08908\").searchWithSMARTS([\"c1c(O)ccc2c1c(CCN)cn2\"]).smiles, impl=interactive_grid)"
   ]
  },
  {
   "attachments": {},
   "cell_type": "markdown",
   "id": "dff0a96d-ade5-4543-9a87-379dc7ed50bb",
   "metadata": {},
   "source": [
    "## Fine-Tuning with Transfer Learning\n",
    "\n",
    "![image.png](https://raw.githubusercontent.com/CDDLeiden/DrugEx/bf61ce71db96bdfe25cc2832ec0d4cf0b1142db4/tutorial/images/TL.drawio.svg)\n",
    "\n",
    "In transfer learning, we use a pretrained model on one task and then fine-tune it for another task with different data. In the context of our project it means fine-tuning the general pretrained Papyrus model woth our target-specific 5-HT1A data. In order to do that, we first need to use the DrugEx standardizer to make the data consistent with the way it was prepared for the pretrained model as well:"
   ]
  },
  {
   "cell_type": "code",
   "execution_count": 13,
   "id": "34173c91-cb7b-48da-832f-009c83dec9f4",
   "metadata": {},
   "outputs": [
    {
     "data": {
      "application/vnd.jupyter.widget-view+json": {
       "model_id": "d7a2912636f54cc9980e80ed07ec2a9a",
       "version_major": 2,
       "version_minor": 0
      },
      "text/plain": [
       "Standardizing molecules (batch processing):   0%|          | 0/1 [00:00<?, ?it/s]"
      ]
     },
     "metadata": {},
     "output_type": "display_data"
    },
    {
     "data": {
      "text/plain": [
       "['O=C(NC1CCC(CCN2CCN(c3nsc4ccccc34)CC2)CC1)c1ccco1',\n",
       " 'COc1ccc(CN2CC=C(c3c[nH]c4ccc(OC(C)C)cc34)CC2)cc1',\n",
       " 'COc1ccccc1N1CCN(CCCCCN2C(=O)c3ccccc3S2(=O)=O)CC1',\n",
       " 'Fc1ccc2c(C3CCC(N4CCN(c5cccc6[nH]ccc56)CC4)CC3)c[nH]c2c1',\n",
       " 'O=S(=O)(c1cccc2ncccc12)N1CCCC1CCN1CCC(c2noc3cc(F)ccc23)CC1',\n",
       " 'c1ccc(OCCNCC2CCOC(c3ccccc3)(c3ccccc3)O2)cc1',\n",
       " 'COc1cccc(Sc2ccccc2N2CCNCC2)c1',\n",
       " 'CC(C)Oc1ccccc1OCCNCc1cccc(C2CCCC2)c1',\n",
       " 'O=C(NCCCCN1CCN(c2cccc(Cl)c2Cl)CC1)c1cc2ccc1CCc1ccc(cc1)CC2',\n",
       " 'Cc1ccc2c(N3CCN(CCCc4cccc5c4OCC(=O)N5)CC3)cccc2n1']"
      ]
     },
     "execution_count": 13,
     "metadata": {},
     "output_type": "execute_result"
    }
   ],
   "source": [
    "from drugex.data.processing import Standardization\n",
    "\n",
    "N_PROCESSES = 8 # number of CPU cores to use\n",
    "CHUNK_SIZE = 1000 # largest chunk per CPU core (regulates RAM usage)\n",
    "\n",
    "standardizer = Standardization(n_proc=N_PROCESSES, chunk_size=CHUNK_SIZE)\n",
    "smiles_ft = standardizer.apply(df_P08908.SMILES)\n",
    "smiles_ft[0:10]"
   ]
  },
  {
   "cell_type": "markdown",
   "id": "28e2529d-9c33-4910-a7bc-48747f53bad9",
   "metadata": {},
   "source": [
    "Then this data needs to be encoded for the DrugEx RNN model:"
   ]
  },
  {
   "cell_type": "code",
   "execution_count": 14,
   "id": "701340e7-23ba-4f8e-8e83-d3e95f877224",
   "metadata": {},
   "outputs": [
    {
     "data": {
      "application/vnd.jupyter.widget-view+json": {
       "model_id": "e79bf40c9785462b9ff84304b266367f",
       "version_major": 2,
       "version_minor": 0
      },
      "text/plain": [
       "SequenceCorpus (batch processing):   0%|          | 0/1 [00:00<?, ?it/s]"
      ]
     },
     "metadata": {},
     "output_type": "display_data"
    },
    {
     "data": {
      "text/plain": [
       "<drugex.data.datasets.SmilesDataSet at 0x7f5b1c7b7e00>"
      ]
     },
     "execution_count": 14,
     "metadata": {},
     "output_type": "execute_result"
    }
   ],
   "source": [
    "from drugex.data.processing import CorpusEncoder, RandomTrainTestSplitter\n",
    "from drugex.data.corpus.corpus import SequenceCorpus\n",
    "from drugex.data.datasets import SmilesDataSet\n",
    "from drugex.logs import logger\n",
    "logger.setLevel('ERROR')\n",
    "\n",
    "DATA_DIR = \"data/datasets/encoded/rnn/\"\n",
    "os.makedirs(DATA_DIR, exist_ok=True)\n",
    "\n",
    "voc = VocSmiles.fromFile(f\"{MODELS_PR_PATH}/Papyrus05.5_smiles_rnn_PT.vocab\", encode_frags=False)\n",
    "encoder = CorpusEncoder( # CorpusEcoder uses the supplied corpus class to encode tokens for the new data set\n",
    "    SequenceCorpus, # The corpus class implements how each SMILES string is divided into words by the vocabulary\n",
    "    {\n",
    "        # arguments of the SequenceCorpus\n",
    "        'vocabulary': voc, # used vocabulary\n",
    "        'update_voc': False, # if False, the vocabulary stays fixed (no new tokens are added to it)\n",
    "        'throw': True # compounds containing unknown tokens are thrown out of the resulting data set\n",
    "\n",
    "    },\n",
    "    n_proc=N_PROCESSES,\n",
    "    chunk_size=CHUNK_SIZE\n",
    ")\n",
    "\n",
    "data_collector = SmilesDataSet(os.path.join(DATA_DIR, 'ligand_corpus.tsv'), rewrite=True)\n",
    "encoder.apply(smiles_ft, collector=data_collector)\n",
    "data_collector"
   ]
  },
  {
   "cell_type": "markdown",
   "id": "e1393c60-313e-4cb3-b9dc-c684e6f820a4",
   "metadata": {},
   "source": [
    "DrugEx fitting also requires a validation set, but since we are not tuning hyperparameters of the model, we will simply use a sample of the training data here:"
   ]
  },
  {
   "cell_type": "code",
   "execution_count": 15,
   "id": "810eb51c-8e9f-4395-92a2-d3f37f2a41d3",
   "metadata": {},
   "outputs": [
    {
     "data": {
      "text/plain": [
       "<drugex.data.datasets.SmilesDataSet at 0x7f5b4c7ffb90>"
      ]
     },
     "execution_count": 15,
     "metadata": {},
     "output_type": "execute_result"
    }
   ],
   "source": [
    "pd.DataFrame(data_collector.getData()).sample(1000).to_csv(f\"{DATA_DIR}_test_dummy.tsv\", header=True, index=False, sep='\\t')\n",
    "data_set_test = SmilesDataSet(f\"{DATA_DIR}_test_dummy.tsv\", voc=voc)\n",
    "data_set_test"
   ]
  },
  {
   "cell_type": "markdown",
   "id": "02587997-2243-4ce6-a173-08195cc5610f",
   "metadata": {},
   "source": [
    "Then we can simply start training on the pretrained model with this data:"
   ]
  },
  {
   "cell_type": "code",
   "execution_count": 16,
   "id": "f5ab4ff4-81ab-47f4-9d43-d0e437076005",
   "metadata": {},
   "outputs": [
    {
     "name": "stderr",
     "output_type": "stream",
     "text": [
      "/home/sichom/software/micromamba/envs/8add-chemspace-denovo/lib/python3.12/site-packages/drugex/training/interfaces.py:322: FutureWarning:\n",
      "\n",
      "You are using `torch.load` with `weights_only=False` (the current default value), which uses the default pickle module implicitly. It is possible to construct malicious pickle data which will execute arbitrary code during unpickling (See https://github.com/pytorch/pytorch/blob/main/SECURITY.md#untrusted-models for more details). In a future release, the default value for `weights_only` will be flipped to `True`. This limits the functions that could be executed during unpickling. Arbitrary objects will no longer be allowed to be loaded via this mode unless they are explicitly allowlisted by the user via `torch.serialization.add_safe_globals`. We recommend you start setting `weights_only=True` for any use case where you don't have full control of the loaded file. Please open an issue on GitHub for any issues related to this experimental feature.\n",
      "\n"
     ]
    },
    {
     "data": {
      "application/vnd.jupyter.widget-view+json": {
       "model_id": "c52fda462de24a99837b03b6f3b6cf9f",
       "version_major": 2,
       "version_minor": 0
      },
      "text/plain": [
       "Fitting model:   0%|          | 0/10 [00:00<?, ?it/s]"
      ]
     },
     "metadata": {},
     "output_type": "display_data"
    }
   ],
   "source": [
    "from drugex.training.monitors import FileMonitor\n",
    "\n",
    "MODEL_DIR = \"data/models/finetuned/rnn\"\n",
    "BATCH_SIZE = 256\n",
    "\n",
    "loader_train = data_collector.asDataLoader(batch_size=BATCH_SIZE) # training data\n",
    "loader_test = data_set_test.asDataLoader(batch_size=BATCH_SIZE) # validation data (just a sample of training in our case)\n",
    "ft_path = os.path.join(MODEL_DIR, 'P08908_finetuned')\n",
    "finetuned = SequenceRNN(voc, is_lstm=True)\n",
    "finetuned.loadStatesFromFile(os.path.join(MODELS_PR_PATH, 'Papyrus05.5_smiles_rnn_PT.pkg')) # starting from pretrained model\n",
    "monitor = FileMonitor(ft_path, save_smiles=True, reset_directory=True) # monitors training and generates output files\n",
    "finetuned.fit(loader_train, loader_test, epochs=10, monitor=monitor, patience=30) # runs training, only 10 epochs for speed\n",
    "voc.toFile(os.path.join(MODEL_DIR, 'P08908_finetuned.vocab'))"
   ]
  },
  {
   "cell_type": "markdown",
   "id": "c4614ff7-7820-4b8a-8cb3-e536ab960010",
   "metadata": {},
   "source": [
    "Exploring training output:"
   ]
  },
  {
   "cell_type": "code",
   "execution_count": 17,
   "id": "af1c55d6-a8fc-48c9-b46b-14b712f4fa9f",
   "metadata": {},
   "outputs": [
    {
     "data": {
      "text/html": [
       "<div>\n",
       "<style scoped>\n",
       "    .dataframe tbody tr th:only-of-type {\n",
       "        vertical-align: middle;\n",
       "    }\n",
       "\n",
       "    .dataframe tbody tr th {\n",
       "        vertical-align: top;\n",
       "    }\n",
       "\n",
       "    .dataframe thead th {\n",
       "        text-align: right;\n",
       "    }\n",
       "</style>\n",
       "<table border=\"1\" class=\"dataframe\">\n",
       "  <thead>\n",
       "    <tr style=\"text-align: right;\">\n",
       "      <th></th>\n",
       "      <th>Epoch</th>\n",
       "      <th>loss_train</th>\n",
       "      <th>loss_valid</th>\n",
       "      <th>valid_ratio</th>\n",
       "      <th>best_epoch</th>\n",
       "    </tr>\n",
       "  </thead>\n",
       "  <tbody>\n",
       "    <tr>\n",
       "      <th>0</th>\n",
       "      <td>1</td>\n",
       "      <td>1.061</td>\n",
       "      <td>0.892</td>\n",
       "      <td>0.592</td>\n",
       "      <td>1</td>\n",
       "    </tr>\n",
       "    <tr>\n",
       "      <th>1</th>\n",
       "      <td>2</td>\n",
       "      <td>0.252</td>\n",
       "      <td>0.229</td>\n",
       "      <td>0.381</td>\n",
       "      <td>2</td>\n",
       "    </tr>\n",
       "    <tr>\n",
       "      <th>2</th>\n",
       "      <td>3</td>\n",
       "      <td>0.186</td>\n",
       "      <td>0.169</td>\n",
       "      <td>0.578</td>\n",
       "      <td>3</td>\n",
       "    </tr>\n",
       "    <tr>\n",
       "      <th>3</th>\n",
       "      <td>4</td>\n",
       "      <td>0.162</td>\n",
       "      <td>0.144</td>\n",
       "      <td>0.717</td>\n",
       "      <td>4</td>\n",
       "    </tr>\n",
       "    <tr>\n",
       "      <th>4</th>\n",
       "      <td>5</td>\n",
       "      <td>0.131</td>\n",
       "      <td>0.130</td>\n",
       "      <td>0.705</td>\n",
       "      <td>5</td>\n",
       "    </tr>\n",
       "  </tbody>\n",
       "</table>\n",
       "</div>"
      ],
      "text/plain": [
       "   Epoch  loss_train  loss_valid  valid_ratio  best_epoch\n",
       "0      1       1.061       0.892        0.592           1\n",
       "1      2       0.252       0.229        0.381           2\n",
       "2      3       0.186       0.169        0.578           3\n",
       "3      4       0.162       0.144        0.717           4\n",
       "4      5       0.131       0.130        0.705           5"
      ]
     },
     "execution_count": 17,
     "metadata": {},
     "output_type": "execute_result"
    }
   ],
   "source": [
    "df_info = pd.read_csv(f'{MODEL_DIR}/P08908_finetuned_fit.tsv', sep='\\t')\n",
    "df_info.head()"
   ]
  },
  {
   "cell_type": "markdown",
   "id": "e43bf595-4543-42b6-bfd0-40ad4a4eb887",
   "metadata": {},
   "source": [
    "Decreasing loss indicates good training progress (generated structures become more similar to the training data):"
   ]
  },
  {
   "cell_type": "code",
   "execution_count": 18,
   "id": "4d73778d-cd87-4c53-beda-6708c50a1297",
   "metadata": {},
   "outputs": [
    {
     "data": {
      "text/plain": [
       "<Axes: >"
      ]
     },
     "execution_count": 18,
     "metadata": {},
     "output_type": "execute_result"
    },
    {
     "data": {
      "image/png": "[encoded data removed]",
      "text/plain": [
       "<Figure size 640x480 with 1 Axes>"
      ]
     },
     "metadata": {},
     "output_type": "display_data"
    }
   ],
   "source": [
    "df_info[['loss_train', 'loss_valid']].plot.line()"
   ]
  },
  {
   "cell_type": "markdown",
   "id": "5c5e2860-f96d-47e7-964a-0db023a61398",
   "metadata": {},
   "source": [
    "## Generating Structures with the Fine-Tuned Model\n",
    "\n",
    "It seems that the model quickly converged (courtesy of transfer learning) so we can generate a sample of 1000 molecules to compare with our training set distribution:"
   ]
  },
  {
   "cell_type": "code",
   "execution_count": 19,
   "id": "d4553b98-5ee1-498f-8d55-061406ee7499",
   "metadata": {},
   "outputs": [
    {
     "data": {
      "application/vnd.jupyter.widget-view+json": {
       "model_id": "549840d8c3cf4557a4a8a8b4c31dc9af",
       "version_major": 2,
       "version_minor": 0
      },
      "text/plain": [
       "Generating molecules:   0%|          | 0/1000 [00:00<?, ?it/s]"
      ]
     },
     "metadata": {},
     "output_type": "display_data"
    },
    {
     "data": {
      "text/plain": [
       "array(['Generated (pretrained)', 'P08908', 'Fine-tuned'], dtype=object)"
      ]
     },
     "execution_count": 19,
     "metadata": {},
     "output_type": "execute_result"
    }
   ],
   "source": [
    "df_finetuned = finetuned.generate(num_samples=1000)\n",
    "df_finetuned[\"Set\"] = \"Fine-tuned\"\n",
    "df_all_sets = pd.concat([df_all_sets, df_finetuned])\n",
    "df_all_sets.Set.unique()"
   ]
  },
  {
   "cell_type": "markdown",
   "id": "88005ea0-8878-4493-a82a-a2e0a0d546c6",
   "metadata": {},
   "source": [
    "Let's compare with a plot again:"
   ]
  },
  {
   "cell_type": "code",
   "execution_count": 20,
   "id": "e2b1c8d3-babb-4927-81ae-d7fb4e89be67",
   "metadata": {},
   "outputs": [
    {
     "name": "stderr",
     "output_type": "stream",
     "text": [
      "/home/sichom/software/micromamba/envs/8add-chemspace-denovo/lib/python3.12/site-packages/umap/umap_.py:1887: UserWarning:\n",
      "\n",
      "gradient function is not yet implemented for jaccard distance metric; inverse_transform will be unavailable\n",
      "\n",
      "/home/sichom/software/micromamba/envs/8add-chemspace-denovo/lib/python3.12/site-packages/umap/umap_.py:1952: UserWarning:\n",
      "\n",
      "n_jobs value 1 overridden to 1 by setting random_state. Use no seed for parallelism.\n",
      "\n"
     ]
    },
    {
     "name": "stdout",
     "output_type": "stream",
     "text": [
      "Dash is running on http://127.0.0.1:9001/\n",
      "\n"
     ]
    },
    {
     "data": {
      "text/html": [
       "\n",
       "        <iframe\n",
       "            width=\"100%\"\n",
       "            height=\"800\"\n",
       "            src=\"http://127.0.0.1:9001/\"\n",
       "            frameborder=\"0\"\n",
       "            allowfullscreen\n",
       "            \n",
       "        ></iframe>\n",
       "        "
      ],
      "text/plain": [
       "<IPython.lib.display.IFrame at 0x7f5b4c6a8f20>"
      ]
     },
     "metadata": {},
     "output_type": "display_data"
    }
   ],
   "source": [
    "mt, plt = plot_spaces(df_all_sets, \"Pretrained+P08908+FT\", 9001)"
   ]
  },
  {
   "cell_type": "code",
   "execution_count": 21,
   "id": "624f063e-0f27-485e-bc41-615635996300",
   "metadata": {},
   "outputs": [],
   "source": [
    "mt.getDF().to_csv(f\"{PLOT_DATA_DIR}/{mt.name}.csv\")"
   ]
  },
  {
   "cell_type": "markdown",
   "id": "d834c5da-5195-49f4-83f3-ad8d8ec4d6a6",
   "metadata": {},
   "source": [
    "It looks like the model indeed converged on the chemical space more likely occupied by 5-HT1A ligands. In addition, using a QSAR model developed previously:"
   ]
  },
  {
   "cell_type": "code",
   "execution_count": 22,
   "id": "d25f1600-b4d7-41e1-b837-450892f093d1",
   "metadata": {},
   "outputs": [
    {
     "data": {
      "text/plain": [
       "<qsprpred.models.scikit_learn.SklearnModel at 0x7f5b45b8ff80>"
      ]
     },
     "execution_count": 22,
     "metadata": {},
     "output_type": "execute_result"
    }
   ],
   "source": [
    "from qsprpred.models import QSPRModel\n",
    "\n",
    "qsar_model = QSPRModel.fromFile(\"./data/models/qsar/P08908_LIGANDS_nostereo_XGBRegressor/P08908_LIGANDS_nostereo_XGBRegressor_meta.json\")\n",
    "qsar_model"
   ]
  },
  {
   "cell_type": "markdown",
   "id": "6167e96d-0bc2-47d2-8cad-e22f6010bca2",
   "metadata": {},
   "source": [
    "we can observe that our generated set also has a similar distribution of predicted $pKi$ values:"
   ]
  },
  {
   "cell_type": "code",
   "execution_count": 23,
   "id": "2af2acf5-30ec-46f1-903d-b9b1e5cc0697",
   "metadata": {},
   "outputs": [],
   "source": [
    "df_all_sets[\"PKi_predicted\"] = qsar_model.predictMols(df_all_sets.SMILES)"
   ]
  },
  {
   "cell_type": "code",
   "execution_count": 24,
   "id": "4e677f58-d919-43e6-af65-9a05bf616650",
   "metadata": {},
   "outputs": [
    {
     "data": {
      "text/plain": [
       "<Axes: >"
      ]
     },
     "execution_count": 24,
     "metadata": {},
     "output_type": "execute_result"
    },
    {
     "data": {
      "image/png": "[encoded data removed]",
      "text/plain": [
       "<Figure size 640x480 with 1 Axes>"
      ]
     },
     "metadata": {},
     "output_type": "display_data"
    }
   ],
   "source": [
    "df_all_sets[df_all_sets.Set == \"P08908\"].PKi_predicted.hist()"
   ]
  },
  {
   "cell_type": "code",
   "execution_count": 25,
   "id": "9fce2ad5-3570-4f7d-beb9-dfabfdc0337c",
   "metadata": {},
   "outputs": [
    {
     "data": {
      "text/plain": [
       "<Axes: >"
      ]
     },
     "execution_count": 25,
     "metadata": {},
     "output_type": "execute_result"
    },
    {
     "data": {
      "image/png": "[encoded data removed]",
      "text/plain": [
       "<Figure size 640x480 with 1 Axes>"
      ]
     },
     "metadata": {},
     "output_type": "display_data"
    }
   ],
   "source": [
    "df_all_sets[df_all_sets.Set == \"Fine-tuned\"].PKi_predicted.hist()"
   ]
  },
  {
   "cell_type": "markdown",
   "id": "643794c0-63e2-46a0-9aeb-6cd6a9f87608",
   "metadata": {},
   "source": [
    "However, upon a closer look, the fine-tuned set seems to have a slightly lower mean predicted activity than the original experimental data set:"
   ]
  },
  {
   "cell_type": "code",
   "execution_count": 26,
   "id": "f6a5c337-863b-4a01-aae3-7bfd7d55a484",
   "metadata": {},
   "outputs": [
    {
     "data": {
      "text/plain": [
       "(7.372409, 7.156361)"
      ]
     },
     "execution_count": 26,
     "metadata": {},
     "output_type": "execute_result"
    }
   ],
   "source": [
    "df_all_sets[df_all_sets.Set == \"P08908\"].PKi_predicted.mean(), df_all_sets[df_all_sets.Set == \"Fine-tuned\"].PKi_predicted.mean()"
   ]
  },
  {
   "cell_type": "markdown",
   "id": "12b42b68-7c95-4cfb-8a23-a97bc1a4041a",
   "metadata": {},
   "source": [
    "which we can also confirm with statistical significance:"
   ]
  },
  {
   "cell_type": "code",
   "execution_count": 27,
   "id": "c3d57c3f-3256-48fb-ab0e-ae7a76382d29",
   "metadata": {},
   "outputs": [
    {
     "data": {
      "text/plain": [
       "TtestResult(statistic=5.753442716889062, pvalue=4.667078924781027e-09, df=4426.0)"
      ]
     },
     "execution_count": 27,
     "metadata": {},
     "output_type": "execute_result"
    }
   ],
   "source": [
    "from scipy import stats\n",
    "\n",
    "stats.ttest_ind(df_all_sets[df_all_sets.Set == \"P08908\"].PKi_predicted, df_all_sets[df_all_sets.Set == \"Fine-tuned\"].PKi_predicted, alternative=\"greater\")"
   ]
  },
  {
   "cell_type": "markdown",
   "id": "909956bf-a4d2-4b2c-b44c-a6e8058e1bd5",
   "metadata": {},
   "source": [
    "Therefore, we are generating a lot of compounds that are less active and, thus, not of interest. One way to tackle this would be to filter our fine-tuning data on bilogical activity and only keep the most prospective ligands to train our generator with, but then we are shrinking our training set, which makes our generated set much less diverse and the training could also become more unstable with small training set size. Also, the fact that we have low affinity ligands in our training data does not mean these could not be optimized into high affinity ones. It is possible some possible alterations to the scaffold were missed or there simply were not enough resources. Therefore, it would be highly desirable to also have a method that can optimize the predicted binding affinity and train our generative model to output scaffolds that are active with a higher likelihood. The method we will showcase here is called **reinforcement learning** and is probably one of the most popular methods for this task in the generative models used for de novo drug design. However, as we will see, this methodology still has some caveats and **the main challenge is to configure the optimization process so that the model generates plausible chemical structures of putatively active molecules with a high degree of synthetic accessibilty, but still different enough from the training data to consider them interesting from the current state-of-the-art point of view.**\n",
    "\n",
    "## Generating Activite and Synthetically Accessible Structures with Reinforcement Learning and Pareto Optimization\n",
    "\n",
    "As stated above, our objective is to generate novel structures of potentially active ligands that we can also easily prepare and test. Therefore, we will need two scoring functions that will quantify these two objectives:"
   ]
  },
  {
   "cell_type": "code",
   "execution_count": 28,
   "id": "bd968918-40f5-4f28-aae4-537c9b4c7913",
   "metadata": {},
   "outputs": [],
   "source": [
    "from drugex.training.scorers.qsprpred import QSPRPredScorer\n",
    "from drugex.training.scorers.properties import Property\n",
    "\n",
    "qsprpred_scorer = QSPRPredScorer(qsar_model) # affinity (pKi) to the 5-HT1A receptor\n",
    "sascore_scorer = Property(\"SA\") # synthetic accessibility (molecule complexity) https://jcheminf.biomedcentral.com/articles/10.1186/1758-2946-1-8"
   ]
  },
  {
   "cell_type": "markdown",
   "id": "10912e3f-7715-40b5-92c6-01597a28222d",
   "metadata": {},
   "source": [
    "The scorers generated above do nothing more than return a score for a set of input molecules:"
   ]
  },
  {
   "cell_type": "code",
   "execution_count": 29,
   "id": "2e1a3459-cc07-4d46-bac6-75822858d252",
   "metadata": {},
   "outputs": [
    {
     "data": {
      "application/vnd.jupyter.widget-view+json": {
       "model_id": "4f834d4001b04affad9a2b7d8d4b4a2f",
       "version_major": 2,
       "version_minor": 0
      },
      "text/plain": [
       "Generating molecules:   0%|          | 0/100 [00:00<?, ?it/s]"
      ]
     },
     "metadata": {},
     "output_type": "display_data"
    },
    {
     "data": {
      "text/plain": [
       "array([6.86223269, 8.51451397, 9.50702477, 7.23362923, 7.53001785,\n",
       "       7.30629253, 7.14232779, 6.5812583 , 6.72000504, 7.29274893,\n",
       "       7.34885597, 6.50013924, 8.04381371, 7.40539026, 6.97971106,\n",
       "       8.15385914, 8.85238838, 7.86562824, 6.762784  , 6.73487902,\n",
       "       7.8801589 , 6.62979603, 7.21346378, 7.24374485, 7.18200922,\n",
       "       6.684237  , 6.72112513, 7.64286613, 8.91415882, 7.38451385,\n",
       "       5.697299  , 9.59908772, 7.71606731, 6.9767499 , 6.46856737,\n",
       "       9.06277084, 7.04257345, 9.15676403, 7.3761425 , 7.15447664,\n",
       "       8.03746223, 6.36555815, 6.67368984, 5.45084715, 8.04144955,\n",
       "       9.34611225, 6.64375353, 8.61109734, 6.02392244, 7.64887619,\n",
       "       5.97742653, 9.26729584, 7.83857965, 8.80907536, 6.40105295,\n",
       "       6.80972385, 6.21608114, 6.14002609, 7.22290516, 7.14747906,\n",
       "       7.23464251, 7.62928629, 6.93733692, 8.99460793, 8.91466713,\n",
       "       7.17532015, 6.94122171, 6.97021818, 6.33188534, 7.37787437,\n",
       "       5.25055552, 6.75417137, 5.59507036, 7.87351561, 6.76031017,\n",
       "       6.56550217, 8.84492588, 6.83920765, 6.66143084, 8.52181911,\n",
       "       6.80524302, 7.35206699, 7.37345123, 7.83515215, 6.41175747,\n",
       "       7.96588993, 6.19762278, 6.755795  , 7.16448545, 6.0919776 ,\n",
       "       6.62952137, 6.29974794, 6.17909431, 7.49487734, 6.59430075,\n",
       "       7.16370869, 8.04306221, 9.78980637, 6.4502368 , 6.96656418])"
      ]
     },
     "execution_count": 29,
     "metadata": {},
     "output_type": "execute_result"
    }
   ],
   "source": [
    "sample = finetuned.generate(100).SMILES\n",
    "qsprpred_scorer.getScores(sample)"
   ]
  },
  {
   "cell_type": "code",
   "execution_count": 30,
   "id": "16caef53-e435-4dfc-b2cf-f399eb28f450",
   "metadata": {},
   "outputs": [
    {
     "data": {
      "text/plain": [
       "array([2.84853484, 1.94291649, 2.73894987, 2.54918486, 1.82394038,\n",
       "       3.87370271, 2.53709498, 2.08695331, 3.39232509, 1.8414858 ,\n",
       "       2.98112609, 3.3193223 , 3.26606885, 2.99042002, 2.50804952,\n",
       "       2.47382241, 2.14487054, 2.29849294, 1.77729163, 2.25927121,\n",
       "       2.09975776, 2.60357155, 2.11724435, 3.0178415 , 2.98266682,\n",
       "       2.07058527, 3.69438892, 1.85577548, 2.14048284, 2.16144831,\n",
       "       2.84169953, 2.8968726 , 2.26126556, 3.24909768, 2.31462856,\n",
       "       3.67680221, 1.96364184, 2.38578114, 1.93248618, 3.45843219,\n",
       "       3.25974642, 3.86685126, 2.14663293, 2.09220178, 2.43607656,\n",
       "       2.79735284, 1.98503481, 2.92401364, 2.58359029, 4.20599063,\n",
       "       3.5381042 , 2.48906216, 2.62195241, 2.45766047, 1.64811316,\n",
       "       2.65683325, 2.82321784, 2.02760704, 1.86869714, 2.20101767,\n",
       "       2.64717568, 2.91033596, 2.85304661, 2.07976694, 2.35479952,\n",
       "       2.25992492, 2.39652186, 3.48816463, 3.26536426, 2.73374943,\n",
       "       3.23734545, 1.90091061, 1.99207626, 3.57165638, 2.09054586,\n",
       "       1.78088516, 2.57593597, 3.43469645, 2.64826163, 2.51532948,\n",
       "       1.95201181, 2.83268064, 2.55852733, 2.62906013, 2.65507733,\n",
       "       2.449501  , 2.59961226, 2.92440984, 2.30911276, 3.15726518,\n",
       "       2.29604787, 2.75369919, 2.24116572, 2.50608191, 3.2356162 ,\n",
       "       2.81575592, 2.05346225, 2.88378981, 2.39488131, 1.85032863])"
      ]
     },
     "execution_count": 30,
     "metadata": {},
     "output_type": "execute_result"
    }
   ],
   "source": [
    "from rdkit import Chem\n",
    "\n",
    "sascore_scorer.getScores([Chem.MolFromSmiles(smile) for smile in sample]) # requires RDKit molecule directly due to a bug"
   ]
  },
  {
   "cell_type": "markdown",
   "id": "606ea197-b42c-451e-a829-ef5a6acb1f7f",
   "metadata": {},
   "source": [
    "We will use [Pareto optimization](https://en.wikipedia.org/wiki/Multi-objective_optimization) to balance these two objectives and calculate rewards for the model under the reinforcement learning framework implemented in DrugEx. Based on the rewards, the model adjusts its weights to generate even better compounds in the next iteration. In order for this process to work, we need our objectives to be on the same scale (ideally in the range between 0 and 1). We can easily facilitate this by the use of modifier functions that can also reflect our notion of what is considered a good value for each objective:\n",
    "\n",
    "### QSAR Objective\n",
    "\n",
    "Since we are using a regression QSAR model for the $pKi$, the theoretical values for this objective are continuous values from 0 to infinity. However, only values in a certain range are useful for us and we can reflect this with the `ClippedScore` modifier:"
   ]
  },
  {
   "cell_type": "code",
   "execution_count": 31,
   "id": "35042c8c-1c81-4c3f-9835-4fb58c5dffea",
   "metadata": {},
   "outputs": [],
   "source": [
    "from drugex.training.scorers.modifiers import ClippedScore\n",
    "\n",
    "qsprpred_scorer.setModifier(ClippedScore(lower_x=7.5, upper_x=8.5))\n",
    "raw = qsprpred_scorer.getScores(sample)\n",
    "modified = qsprpred_scorer(sample)"
   ]
  },
  {
   "cell_type": "code",
   "execution_count": 32,
   "id": "b801a511-b10b-4f6e-a156-08e458b672bf",
   "metadata": {},
   "outputs": [
    {
     "data": {
      "text/plain": [
       "<Axes: >"
      ]
     },
     "execution_count": 32,
     "metadata": {},
     "output_type": "execute_result"
    },
    {
     "data": {
      "image/png": "[encoded data removed]",
      "text/plain": [
       "<Figure size 640x480 with 1 Axes>"
      ]
     },
     "metadata": {},
     "output_type": "display_data"
    }
   ],
   "source": [
    "import seaborn as sns\n",
    "\n",
    "sns.scatterplot(x=raw, y=modified)"
   ]
  },
  {
   "cell_type": "markdown",
   "id": "844470ef-1594-4034-acf3-493f87ccba39",
   "metadata": {},
   "source": [
    "Therefore, using this modifier we only give a reward to the model if the predicted value surpasses $pKi = 7.5$ with values surpassing $pKi = 8.5$ giving the maximum reward of 1.\n",
    "\n",
    "### SA Score Objective\n",
    "\n",
    "Following the same logic, we can also define a modifier for the synthetic accessibility objective. Even though SA Score also has expected values from 0 to infinity, the higher this score the more complex the molecule. Therefore, we need to give higher reward to molecules with lower SA score and vice versa. In this scheme, we use the `SmoothClippedScore` method to better reflect our notion of how synthetic accessibility is reflected in this score:"
   ]
  },
  {
   "cell_type": "code",
   "execution_count": 33,
   "id": "0edcdfc0-500d-4cf2-97a1-965a054f4a44",
   "metadata": {},
   "outputs": [],
   "source": [
    "from drugex.training.scorers.modifiers import SmoothClippedScore\n",
    "\n",
    "sascore_scorer.setModifier(SmoothClippedScore(lower_x=4, upper_x=3))\n",
    "raw = sascore_scorer.getScores([Chem.MolFromSmiles(smile) for smile in sample])\n",
    "modified = sascore_scorer([Chem.MolFromSmiles(smile) for smile in sample])"
   ]
  },
  {
   "cell_type": "code",
   "execution_count": 34,
   "id": "0713c62e-25fb-4f28-9389-a0cad948f432",
   "metadata": {},
   "outputs": [
    {
     "data": {
      "text/plain": [
       "<Axes: >"
      ]
     },
     "execution_count": 34,
     "metadata": {},
     "output_type": "execute_result"
    },
    {
     "data": {
      "image/png": "[encoded data removed]",
      "text/plain": [
       "<Figure size 640x480 with 1 Axes>"
      ]
     },
     "metadata": {},
     "output_type": "display_data"
    }
   ],
   "source": [
    "import seaborn as sns\n",
    "\n",
    "sns.scatterplot(x=raw, y=modified)"
   ]
  },
  {
   "cell_type": "markdown",
   "id": "19db06ba-644d-4d92-b20a-4c77a8dea71d",
   "metadata": {},
   "source": [
    "It is also useful to observe the distribution of these scores in our training data to gauge the likelihood of our success to optimize these objectives and make adjustments in case our expectations do not reflect reality:"
   ]
  },
  {
   "cell_type": "code",
   "execution_count": 35,
   "id": "6fa47211-895d-4777-a300-717c6f1961f3",
   "metadata": {},
   "outputs": [
    {
     "data": {
      "text/plain": [
       "<Axes: >"
      ]
     },
     "execution_count": 35,
     "metadata": {},
     "output_type": "execute_result"
    },
    {
     "data": {
      "image/png": "[encoded data removed]",
      "text/plain": [
       "<Figure size 640x480 with 1 Axes>"
      ]
     },
     "metadata": {},
     "output_type": "display_data"
    }
   ],
   "source": [
    "df_all_sets[df_all_sets.Set == \"P08908\"].PKi_predicted.hist() # predicted pKi values"
   ]
  },
  {
   "cell_type": "markdown",
   "id": "6c984292-c76b-445b-b8c1-82fb87fa1d4c",
   "metadata": {},
   "source": [
    "We can see that in the case of the $pKi$ objective our requirement is to roughly score all above average molecules higher than 0 with strong preference towards more active ones, which makes sense and we can be happy with it.\n",
    "\n",
    "For the case of SA Score we are also being fairly reasonable with regards to the training data and the `SmoothClippedScore` function reflects the trends we observe:"
   ]
  },
  {
   "cell_type": "code",
   "execution_count": 36,
   "id": "0fe05764-dfa1-409b-8088-345baeb8ffa8",
   "metadata": {},
   "outputs": [
    {
     "data": {
      "text/plain": [
       "<Axes: >"
      ]
     },
     "execution_count": 36,
     "metadata": {},
     "output_type": "execute_result"
    },
    {
     "data": {
      "image/png": "[encoded data removed]",
      "text/plain": [
       "<Figure size 640x480 with 1 Axes>"
      ]
     },
     "metadata": {},
     "output_type": "display_data"
    }
   ],
   "source": [
    "pd.Series(sascore_scorer.getScores([Chem.MolFromSmiles(smile) for smile in df_all_sets[df_all_sets.Set == \"P08908\"].SMILES])).hist()"
   ]
  },
  {
   "cell_type": "markdown",
   "id": "f68d9661-4075-462a-9a51-19caa19b90d3",
   "metadata": {},
   "source": [
    "### Creating the environment\n",
    "\n",
    "In reinforcement learning, the assortment of objectives is called the environment while the model that navigates this environment is called the agent. DrugEx has a data structure to create the environment in a relatively easy manner:"
   ]
  },
  {
   "cell_type": "code",
   "execution_count": 37,
   "id": "26b22cb9-55e9-4a8f-90b6-c1fbc3201e16",
   "metadata": {},
   "outputs": [],
   "source": [
    "from drugex.training.environment import DrugExEnvironment\n",
    "from drugex.training.rewards import ParetoCrowdingDistance\n",
    "\n",
    "scorers = [\n",
    "    qsprpred_scorer,\n",
    "    sascore_scorer\n",
    "]\n",
    "thresholds = [\n",
    "    # only used in the generated output files, has no effect on training\n",
    "    0.5,\n",
    "    0.1\n",
    "]\n",
    "\n",
    "environment = DrugExEnvironment(\n",
    "    scorers, \n",
    "    thresholds, \n",
    "    reward_scheme=ParetoCrowdingDistance() # defines how diverse solutions are selected in the NSGA-II algorithm\n",
    ")"
   ]
  },
  {
   "cell_type": "markdown",
   "id": "bbba068f-722c-4092-9d50-c2c7ad68a00f",
   "metadata": {},
   "source": [
    "All scores can be conveniently obtained as a data frame with the `Desired` column indicating if the molecule satisfies thresholds on all objectives:"
   ]
  },
  {
   "cell_type": "code",
   "execution_count": 38,
   "id": "7a6ef85a-cde3-4368-b3f2-b411ac6b6595",
   "metadata": {},
   "outputs": [
    {
     "data": {
      "text/html": [
       "<div>\n",
       "<style scoped>\n",
       "    .dataframe tbody tr th:only-of-type {\n",
       "        vertical-align: middle;\n",
       "    }\n",
       "\n",
       "    .dataframe tbody tr th {\n",
       "        vertical-align: top;\n",
       "    }\n",
       "\n",
       "    .dataframe thead th {\n",
       "        text-align: right;\n",
       "    }\n",
       "</style>\n",
       "<table border=\"1\" class=\"dataframe\">\n",
       "  <thead>\n",
       "    <tr style=\"text-align: right;\">\n",
       "      <th></th>\n",
       "      <th>Valid</th>\n",
       "      <th>QSPRpred_P08908_LIGANDS_nostereo_XGBRegressor</th>\n",
       "      <th>SA</th>\n",
       "      <th>Desired</th>\n",
       "    </tr>\n",
       "  </thead>\n",
       "  <tbody>\n",
       "    <tr>\n",
       "      <th>0</th>\n",
       "      <td>1.0</td>\n",
       "      <td>0.000000</td>\n",
       "      <td>0.931238</td>\n",
       "      <td>0</td>\n",
       "    </tr>\n",
       "    <tr>\n",
       "      <th>1</th>\n",
       "      <td>1.0</td>\n",
       "      <td>1.000000</td>\n",
       "      <td>0.998031</td>\n",
       "      <td>1</td>\n",
       "    </tr>\n",
       "    <tr>\n",
       "      <th>2</th>\n",
       "      <td>1.0</td>\n",
       "      <td>1.000000</td>\n",
       "      <td>0.954531</td>\n",
       "      <td>1</td>\n",
       "    </tr>\n",
       "    <tr>\n",
       "      <th>3</th>\n",
       "      <td>1.0</td>\n",
       "      <td>0.000000</td>\n",
       "      <td>0.978188</td>\n",
       "      <td>0</td>\n",
       "    </tr>\n",
       "    <tr>\n",
       "      <th>4</th>\n",
       "      <td>1.0</td>\n",
       "      <td>0.030018</td>\n",
       "      <td>0.998776</td>\n",
       "      <td>0</td>\n",
       "    </tr>\n",
       "    <tr>\n",
       "      <th>...</th>\n",
       "      <td>...</td>\n",
       "      <td>...</td>\n",
       "      <td>...</td>\n",
       "      <td>...</td>\n",
       "    </tr>\n",
       "    <tr>\n",
       "      <th>95</th>\n",
       "      <td>1.0</td>\n",
       "      <td>0.000000</td>\n",
       "      <td>0.939174</td>\n",
       "      <td>0</td>\n",
       "    </tr>\n",
       "    <tr>\n",
       "      <th>96</th>\n",
       "      <td>1.0</td>\n",
       "      <td>0.543062</td>\n",
       "      <td>0.996940</td>\n",
       "      <td>1</td>\n",
       "    </tr>\n",
       "    <tr>\n",
       "      <th>97</th>\n",
       "      <td>1.0</td>\n",
       "      <td>1.000000</td>\n",
       "      <td>0.921640</td>\n",
       "      <td>1</td>\n",
       "    </tr>\n",
       "    <tr>\n",
       "      <th>98</th>\n",
       "      <td>1.0</td>\n",
       "      <td>0.000000</td>\n",
       "      <td>0.988114</td>\n",
       "      <td>0</td>\n",
       "    </tr>\n",
       "    <tr>\n",
       "      <th>99</th>\n",
       "      <td>1.0</td>\n",
       "      <td>0.000000</td>\n",
       "      <td>0.998640</td>\n",
       "      <td>0</td>\n",
       "    </tr>\n",
       "  </tbody>\n",
       "</table>\n",
       "<p>100 rows × 4 columns</p>\n",
       "</div>"
      ],
      "text/plain": [
       "    Valid  QSPRpred_P08908_LIGANDS_nostereo_XGBRegressor        SA  Desired\n",
       "0     1.0                                       0.000000  0.931238        0\n",
       "1     1.0                                       1.000000  0.998031        1\n",
       "2     1.0                                       1.000000  0.954531        1\n",
       "3     1.0                                       0.000000  0.978188        0\n",
       "4     1.0                                       0.030018  0.998776        0\n",
       "..    ...                                            ...       ...      ...\n",
       "95    1.0                                       0.000000  0.939174        0\n",
       "96    1.0                                       0.543062  0.996940        1\n",
       "97    1.0                                       1.000000  0.921640        1\n",
       "98    1.0                                       0.000000  0.988114        0\n",
       "99    1.0                                       0.000000  0.998640        0\n",
       "\n",
       "[100 rows x 4 columns]"
      ]
     },
     "execution_count": 38,
     "metadata": {},
     "output_type": "execute_result"
    }
   ],
   "source": [
    "scores = environment.getScores(sample)\n",
    "scores"
   ]
  },
  {
   "cell_type": "markdown",
   "id": "3b220d2a-27f6-4555-a031-9aa93cd87c08",
   "metadata": {},
   "source": [
    "Note that the thresholds are applied on the modified objectives. To obtain unmodified scores, run the appropriate method on the environment:"
   ]
  },
  {
   "cell_type": "code",
   "execution_count": 39,
   "id": "2530b3b9-db36-4946-b359-4af3d63bbc81",
   "metadata": {},
   "outputs": [
    {
     "data": {
      "text/html": [
       "<div>\n",
       "<style scoped>\n",
       "    .dataframe tbody tr th:only-of-type {\n",
       "        vertical-align: middle;\n",
       "    }\n",
       "\n",
       "    .dataframe tbody tr th {\n",
       "        vertical-align: top;\n",
       "    }\n",
       "\n",
       "    .dataframe thead th {\n",
       "        text-align: right;\n",
       "    }\n",
       "</style>\n",
       "<table border=\"1\" class=\"dataframe\">\n",
       "  <thead>\n",
       "    <tr style=\"text-align: right;\">\n",
       "      <th></th>\n",
       "      <th>QSPRpred_P08908_LIGANDS_nostereo_XGBRegressor</th>\n",
       "      <th>SA</th>\n",
       "    </tr>\n",
       "  </thead>\n",
       "  <tbody>\n",
       "    <tr>\n",
       "      <th>0</th>\n",
       "      <td>6.862233</td>\n",
       "      <td>2.848535</td>\n",
       "    </tr>\n",
       "    <tr>\n",
       "      <th>1</th>\n",
       "      <td>8.514514</td>\n",
       "      <td>1.942916</td>\n",
       "    </tr>\n",
       "    <tr>\n",
       "      <th>2</th>\n",
       "      <td>9.507025</td>\n",
       "      <td>2.738950</td>\n",
       "    </tr>\n",
       "    <tr>\n",
       "      <th>3</th>\n",
       "      <td>7.233629</td>\n",
       "      <td>2.549185</td>\n",
       "    </tr>\n",
       "    <tr>\n",
       "      <th>4</th>\n",
       "      <td>7.530018</td>\n",
       "      <td>1.823940</td>\n",
       "    </tr>\n",
       "    <tr>\n",
       "      <th>...</th>\n",
       "      <td>...</td>\n",
       "      <td>...</td>\n",
       "    </tr>\n",
       "    <tr>\n",
       "      <th>95</th>\n",
       "      <td>7.163709</td>\n",
       "      <td>2.815756</td>\n",
       "    </tr>\n",
       "    <tr>\n",
       "      <th>96</th>\n",
       "      <td>8.043062</td>\n",
       "      <td>2.053462</td>\n",
       "    </tr>\n",
       "    <tr>\n",
       "      <th>97</th>\n",
       "      <td>9.789806</td>\n",
       "      <td>2.883790</td>\n",
       "    </tr>\n",
       "    <tr>\n",
       "      <th>98</th>\n",
       "      <td>6.450237</td>\n",
       "      <td>2.394881</td>\n",
       "    </tr>\n",
       "    <tr>\n",
       "      <th>99</th>\n",
       "      <td>6.966564</td>\n",
       "      <td>1.850329</td>\n",
       "    </tr>\n",
       "  </tbody>\n",
       "</table>\n",
       "<p>100 rows × 2 columns</p>\n",
       "</div>"
      ],
      "text/plain": [
       "    QSPRpred_P08908_LIGANDS_nostereo_XGBRegressor        SA\n",
       "0                                        6.862233  2.848535\n",
       "1                                        8.514514  1.942916\n",
       "2                                        9.507025  2.738950\n",
       "3                                        7.233629  2.549185\n",
       "4                                        7.530018  1.823940\n",
       "..                                            ...       ...\n",
       "95                                       7.163709  2.815756\n",
       "96                                       8.043062  2.053462\n",
       "97                                       9.789806  2.883790\n",
       "98                                       6.450237  2.394881\n",
       "99                                       6.966564  1.850329\n",
       "\n",
       "[100 rows x 2 columns]"
      ]
     },
     "execution_count": 39,
     "metadata": {},
     "output_type": "execute_result"
    }
   ],
   "source": [
    "environment.getUnmodifiedScores(sample)"
   ]
  },
  {
   "cell_type": "markdown",
   "id": "3c51270c-8daa-46ff-a175-029096c9e85e",
   "metadata": {},
   "source": [
    "When we are satisfied with the definition of the environment, we can start the reinforcement learning process itself. In DrugEx, this is initialized with two models (exploration and exploitation network) and the `epsilon` parameter needs to be set. We will try a little group exercise and do some grid-based parameter optimization. Divide yourselves into 4 groups with each having the following tasks:\n",
    "\n",
    "1. Set the `epsilon` parameter **higher** than `0.4`. Each person chooses a different value.\n",
    "2. Set the `epsilon` parameter **lower** than `0.4`. Each person chooses a different value.\n",
    "3. Set the `epsilon` parameter **higher** than `0.4` (each person chooses a different value), but **switch the `agent` and the `mutate` network below**.\n",
    "4. Set the `epsilon` parameter **lower** than `0.4` (each person chooses a different value), but **switch the `agent` and the `mutate` network below**.\n",
    "\n",
    "Run the modifed code and report your findings as to the criteria that follow below:"
   ]
  },
  {
   "cell_type": "code",
   "execution_count": 40,
   "id": "53130be2-00dd-4a0f-b8c2-afe5b9a5f676",
   "metadata": {},
   "outputs": [
    {
     "data": {
      "application/vnd.jupyter.widget-view+json": {
       "model_id": "710a3d160f7e47afb6c555b060435af3",
       "version_major": 2,
       "version_minor": 0
      },
      "text/plain": [
       "Fitting SMILES RNN explorer:   0%|          | 0/50 [00:00<?, ?it/s]"
      ]
     },
     "metadata": {},
     "output_type": "display_data"
    },
    {
     "data": {
      "application/vnd.jupyter.widget-view+json": {
       "model_id": "82d2b41fb00e4073ab032a1e1ad92f6e",
       "version_major": 2,
       "version_minor": 0
      },
      "text/plain": [
       "Calculating policy gradient...:   0%|          | 0/8 [00:00<?, ?it/s]"
      ]
     },
     "metadata": {},
     "output_type": "display_data"
    },
    {
     "data": {
      "application/vnd.jupyter.widget-view+json": {
       "model_id": "3dd1d794066e413999f370436b6636c3",
       "version_major": 2,
       "version_minor": 0
      },
      "text/plain": [
       "Calculating policy gradient...:   0%|          | 0/8 [00:00<?, ?it/s]"
      ]
     },
     "metadata": {},
     "output_type": "display_data"
    },
    {
     "data": {
      "application/vnd.jupyter.widget-view+json": {
       "model_id": "00fb983872f641ab98ebe8dc2b1dfa31",
       "version_major": 2,
       "version_minor": 0
      },
      "text/plain": [
       "Calculating policy gradient...:   0%|          | 0/8 [00:00<?, ?it/s]"
      ]
     },
     "metadata": {},
     "output_type": "display_data"
    },
    {
     "data": {
      "application/vnd.jupyter.widget-view+json": {
       "model_id": "57329c0882084c62a826f6d8fb055529",
       "version_major": 2,
       "version_minor": 0
      },
      "text/plain": [
       "Calculating policy gradient...:   0%|          | 0/8 [00:00<?, ?it/s]"
      ]
     },
     "metadata": {},
     "output_type": "display_data"
    },
    {
     "data": {
      "application/vnd.jupyter.widget-view+json": {
       "model_id": "1994369f42ab4a6eaf84c03af4153dd7",
       "version_major": 2,
       "version_minor": 0
      },
      "text/plain": [
       "Calculating policy gradient...:   0%|          | 0/8 [00:00<?, ?it/s]"
      ]
     },
     "metadata": {},
     "output_type": "display_data"
    },
    {
     "data": {
      "application/vnd.jupyter.widget-view+json": {
       "model_id": "481b7462f53e4a58802ec6252ed2860b",
       "version_major": 2,
       "version_minor": 0
      },
      "text/plain": [
       "Calculating policy gradient...:   0%|          | 0/8 [00:00<?, ?it/s]"
      ]
     },
     "metadata": {},
     "output_type": "display_data"
    },
    {
     "data": {
      "application/vnd.jupyter.widget-view+json": {
       "model_id": "a6ab2e24bccc428485d42210007a382e",
       "version_major": 2,
       "version_minor": 0
      },
      "text/plain": [
       "Calculating policy gradient...:   0%|          | 0/8 [00:00<?, ?it/s]"
      ]
     },
     "metadata": {},
     "output_type": "display_data"
    },
    {
     "data": {
      "application/vnd.jupyter.widget-view+json": {
       "model_id": "9b7f9cfae67946519451d2eec8db18a9",
       "version_major": 2,
       "version_minor": 0
      },
      "text/plain": [
       "Calculating policy gradient...:   0%|          | 0/8 [00:00<?, ?it/s]"
      ]
     },
     "metadata": {},
     "output_type": "display_data"
    },
    {
     "data": {
      "application/vnd.jupyter.widget-view+json": {
       "model_id": "2431997eed9d41edbfd71b639905a24f",
       "version_major": 2,
       "version_minor": 0
      },
      "text/plain": [
       "Calculating policy gradient...:   0%|          | 0/8 [00:00<?, ?it/s]"
      ]
     },
     "metadata": {},
     "output_type": "display_data"
    },
    {
     "data": {
      "application/vnd.jupyter.widget-view+json": {
       "model_id": "57f1f360764444a2bec55de5ca6e8d7d",
       "version_major": 2,
       "version_minor": 0
      },
      "text/plain": [
       "Calculating policy gradient...:   0%|          | 0/8 [00:00<?, ?it/s]"
      ]
     },
     "metadata": {},
     "output_type": "display_data"
    },
    {
     "data": {
      "application/vnd.jupyter.widget-view+json": {
       "model_id": "76325f98198942cc8275c9f90586d1bf",
       "version_major": 2,
       "version_minor": 0
      },
      "text/plain": [
       "Calculating policy gradient...:   0%|          | 0/8 [00:00<?, ?it/s]"
      ]
     },
     "metadata": {},
     "output_type": "display_data"
    },
    {
     "data": {
      "application/vnd.jupyter.widget-view+json": {
       "model_id": "1684237c81ff450c9b0d2305031f940f",
       "version_major": 2,
       "version_minor": 0
      },
      "text/plain": [
       "Calculating policy gradient...:   0%|          | 0/8 [00:00<?, ?it/s]"
      ]
     },
     "metadata": {},
     "output_type": "display_data"
    },
    {
     "data": {
      "application/vnd.jupyter.widget-view+json": {
       "model_id": "cfd58e95eb39407ebcf6e91cb4a9e2b2",
       "version_major": 2,
       "version_minor": 0
      },
      "text/plain": [
       "Calculating policy gradient...:   0%|          | 0/8 [00:00<?, ?it/s]"
      ]
     },
     "metadata": {},
     "output_type": "display_data"
    },
    {
     "data": {
      "application/vnd.jupyter.widget-view+json": {
       "model_id": "305a0f4c53224080a2e328861b08e962",
       "version_major": 2,
       "version_minor": 0
      },
      "text/plain": [
       "Calculating policy gradient...:   0%|          | 0/8 [00:00<?, ?it/s]"
      ]
     },
     "metadata": {},
     "output_type": "display_data"
    },
    {
     "data": {
      "application/vnd.jupyter.widget-view+json": {
       "model_id": "83ae6d1575db490da173ab1753abcbb6",
       "version_major": 2,
       "version_minor": 0
      },
      "text/plain": [
       "Calculating policy gradient...:   0%|          | 0/8 [00:00<?, ?it/s]"
      ]
     },
     "metadata": {},
     "output_type": "display_data"
    },
    {
     "data": {
      "application/vnd.jupyter.widget-view+json": {
       "model_id": "e9bad71ed187478e826ba85b05a5eaa3",
       "version_major": 2,
       "version_minor": 0
      },
      "text/plain": [
       "Calculating policy gradient...:   0%|          | 0/8 [00:00<?, ?it/s]"
      ]
     },
     "metadata": {},
     "output_type": "display_data"
    },
    {
     "data": {
      "application/vnd.jupyter.widget-view+json": {
       "model_id": "e2753cf61535475cb7b138fba87486a5",
       "version_major": 2,
       "version_minor": 0
      },
      "text/plain": [
       "Calculating policy gradient...:   0%|          | 0/8 [00:00<?, ?it/s]"
      ]
     },
     "metadata": {},
     "output_type": "display_data"
    },
    {
     "data": {
      "application/vnd.jupyter.widget-view+json": {
       "model_id": "ddbcaeaf52854561beca631dbc595ac3",
       "version_major": 2,
       "version_minor": 0
      },
      "text/plain": [
       "Calculating policy gradient...:   0%|          | 0/8 [00:00<?, ?it/s]"
      ]
     },
     "metadata": {},
     "output_type": "display_data"
    },
    {
     "data": {
      "application/vnd.jupyter.widget-view+json": {
       "model_id": "fd69d1da642b48e999ea9e83639009cd",
       "version_major": 2,
       "version_minor": 0
      },
      "text/plain": [
       "Calculating policy gradient...:   0%|          | 0/8 [00:00<?, ?it/s]"
      ]
     },
     "metadata": {},
     "output_type": "display_data"
    },
    {
     "data": {
      "application/vnd.jupyter.widget-view+json": {
       "model_id": "82a4a1c15366401480ace2259241d80c",
       "version_major": 2,
       "version_minor": 0
      },
      "text/plain": [
       "Calculating policy gradient...:   0%|          | 0/8 [00:00<?, ?it/s]"
      ]
     },
     "metadata": {},
     "output_type": "display_data"
    },
    {
     "data": {
      "application/vnd.jupyter.widget-view+json": {
       "model_id": "f11f0a1210c04c5b8e023ae46aa94b4c",
       "version_major": 2,
       "version_minor": 0
      },
      "text/plain": [
       "Calculating policy gradient...:   0%|          | 0/8 [00:00<?, ?it/s]"
      ]
     },
     "metadata": {},
     "output_type": "display_data"
    },
    {
     "data": {
      "application/vnd.jupyter.widget-view+json": {
       "model_id": "5183b670adf441169122401e5c65e410",
       "version_major": 2,
       "version_minor": 0
      },
      "text/plain": [
       "Calculating policy gradient...:   0%|          | 0/8 [00:00<?, ?it/s]"
      ]
     },
     "metadata": {},
     "output_type": "display_data"
    },
    {
     "data": {
      "application/vnd.jupyter.widget-view+json": {
       "model_id": "ac4203799c7a4ed89ed08c34d7818289",
       "version_major": 2,
       "version_minor": 0
      },
      "text/plain": [
       "Calculating policy gradient...:   0%|          | 0/8 [00:00<?, ?it/s]"
      ]
     },
     "metadata": {},
     "output_type": "display_data"
    },
    {
     "data": {
      "application/vnd.jupyter.widget-view+json": {
       "model_id": "12f94415d2d1427aa1a6dd457724001c",
       "version_major": 2,
       "version_minor": 0
      },
      "text/plain": [
       "Calculating policy gradient...:   0%|          | 0/8 [00:00<?, ?it/s]"
      ]
     },
     "metadata": {},
     "output_type": "display_data"
    },
    {
     "data": {
      "application/vnd.jupyter.widget-view+json": {
       "model_id": "c891eb8f976d43cb85b8ae2ab74a85ab",
       "version_major": 2,
       "version_minor": 0
      },
      "text/plain": [
       "Calculating policy gradient...:   0%|          | 0/8 [00:00<?, ?it/s]"
      ]
     },
     "metadata": {},
     "output_type": "display_data"
    },
    {
     "data": {
      "application/vnd.jupyter.widget-view+json": {
       "model_id": "a84534fa6b00443493fbf5729c57c30b",
       "version_major": 2,
       "version_minor": 0
      },
      "text/plain": [
       "Calculating policy gradient...:   0%|          | 0/8 [00:00<?, ?it/s]"
      ]
     },
     "metadata": {},
     "output_type": "display_data"
    },
    {
     "data": {
      "application/vnd.jupyter.widget-view+json": {
       "model_id": "625b35485bcb4ea8a32005f899c57092",
       "version_major": 2,
       "version_minor": 0
      },
      "text/plain": [
       "Calculating policy gradient...:   0%|          | 0/8 [00:00<?, ?it/s]"
      ]
     },
     "metadata": {},
     "output_type": "display_data"
    },
    {
     "data": {
      "application/vnd.jupyter.widget-view+json": {
       "model_id": "13194f1d819c49138bfaa0f151b07163",
       "version_major": 2,
       "version_minor": 0
      },
      "text/plain": [
       "Calculating policy gradient...:   0%|          | 0/8 [00:00<?, ?it/s]"
      ]
     },
     "metadata": {},
     "output_type": "display_data"
    },
    {
     "data": {
      "application/vnd.jupyter.widget-view+json": {
       "model_id": "6178cb035149449888610450b8f42a26",
       "version_major": 2,
       "version_minor": 0
      },
      "text/plain": [
       "Calculating policy gradient...:   0%|          | 0/8 [00:00<?, ?it/s]"
      ]
     },
     "metadata": {},
     "output_type": "display_data"
    },
    {
     "data": {
      "application/vnd.jupyter.widget-view+json": {
       "model_id": "d202bd409a2c41898cf5fd2fc9e18f87",
       "version_major": 2,
       "version_minor": 0
      },
      "text/plain": [
       "Calculating policy gradient...:   0%|          | 0/8 [00:00<?, ?it/s]"
      ]
     },
     "metadata": {},
     "output_type": "display_data"
    },
    {
     "data": {
      "application/vnd.jupyter.widget-view+json": {
       "model_id": "c7449fbe2a7a4784925d5ec6bc11a7de",
       "version_major": 2,
       "version_minor": 0
      },
      "text/plain": [
       "Calculating policy gradient...:   0%|          | 0/8 [00:00<?, ?it/s]"
      ]
     },
     "metadata": {},
     "output_type": "display_data"
    },
    {
     "data": {
      "application/vnd.jupyter.widget-view+json": {
       "model_id": "837d16cab02d43d182d53b9390087c6b",
       "version_major": 2,
       "version_minor": 0
      },
      "text/plain": [
       "Calculating policy gradient...:   0%|          | 0/8 [00:00<?, ?it/s]"
      ]
     },
     "metadata": {},
     "output_type": "display_data"
    },
    {
     "data": {
      "application/vnd.jupyter.widget-view+json": {
       "model_id": "227fae6d2e2b4d3bad802cf473b6562b",
       "version_major": 2,
       "version_minor": 0
      },
      "text/plain": [
       "Calculating policy gradient...:   0%|          | 0/8 [00:00<?, ?it/s]"
      ]
     },
     "metadata": {},
     "output_type": "display_data"
    },
    {
     "data": {
      "application/vnd.jupyter.widget-view+json": {
       "model_id": "53a7f91cc9ad433981f66e1df0721685",
       "version_major": 2,
       "version_minor": 0
      },
      "text/plain": [
       "Calculating policy gradient...:   0%|          | 0/8 [00:00<?, ?it/s]"
      ]
     },
     "metadata": {},
     "output_type": "display_data"
    },
    {
     "data": {
      "application/vnd.jupyter.widget-view+json": {
       "model_id": "61d2268e39db4315812b243f9b45c1ec",
       "version_major": 2,
       "version_minor": 0
      },
      "text/plain": [
       "Calculating policy gradient...:   0%|          | 0/8 [00:00<?, ?it/s]"
      ]
     },
     "metadata": {},
     "output_type": "display_data"
    },
    {
     "data": {
      "application/vnd.jupyter.widget-view+json": {
       "model_id": "a3c897186c7c461989c00236a07af70d",
       "version_major": 2,
       "version_minor": 0
      },
      "text/plain": [
       "Calculating policy gradient...:   0%|          | 0/8 [00:00<?, ?it/s]"
      ]
     },
     "metadata": {},
     "output_type": "display_data"
    },
    {
     "data": {
      "application/vnd.jupyter.widget-view+json": {
       "model_id": "d64f07f784cc42deac1198a9b68f2296",
       "version_major": 2,
       "version_minor": 0
      },
      "text/plain": [
       "Calculating policy gradient...:   0%|          | 0/8 [00:00<?, ?it/s]"
      ]
     },
     "metadata": {},
     "output_type": "display_data"
    },
    {
     "data": {
      "application/vnd.jupyter.widget-view+json": {
       "model_id": "9ed31a55e41f4be8be647c753a935ea4",
       "version_major": 2,
       "version_minor": 0
      },
      "text/plain": [
       "Calculating policy gradient...:   0%|          | 0/8 [00:00<?, ?it/s]"
      ]
     },
     "metadata": {},
     "output_type": "display_data"
    },
    {
     "data": {
      "application/vnd.jupyter.widget-view+json": {
       "model_id": "45b559a2ce8b4fdd92928601a3ed3ca6",
       "version_major": 2,
       "version_minor": 0
      },
      "text/plain": [
       "Calculating policy gradient...:   0%|          | 0/8 [00:00<?, ?it/s]"
      ]
     },
     "metadata": {},
     "output_type": "display_data"
    },
    {
     "data": {
      "application/vnd.jupyter.widget-view+json": {
       "model_id": "3f1f76a2318244b4aff52a967fb7f056",
       "version_major": 2,
       "version_minor": 0
      },
      "text/plain": [
       "Calculating policy gradient...:   0%|          | 0/8 [00:00<?, ?it/s]"
      ]
     },
     "metadata": {},
     "output_type": "display_data"
    },
    {
     "data": {
      "application/vnd.jupyter.widget-view+json": {
       "model_id": "97aa7581de0346cfbf637cc1df8aa5f3",
       "version_major": 2,
       "version_minor": 0
      },
      "text/plain": [
       "Calculating policy gradient...:   0%|          | 0/8 [00:00<?, ?it/s]"
      ]
     },
     "metadata": {},
     "output_type": "display_data"
    },
    {
     "data": {
      "application/vnd.jupyter.widget-view+json": {
       "model_id": "6b2a13376f6c4d5e83271233a43f5684",
       "version_major": 2,
       "version_minor": 0
      },
      "text/plain": [
       "Calculating policy gradient...:   0%|          | 0/8 [00:00<?, ?it/s]"
      ]
     },
     "metadata": {},
     "output_type": "display_data"
    },
    {
     "data": {
      "application/vnd.jupyter.widget-view+json": {
       "model_id": "b2d2ddb093e940219fbef00600b9f533",
       "version_major": 2,
       "version_minor": 0
      },
      "text/plain": [
       "Calculating policy gradient...:   0%|          | 0/8 [00:00<?, ?it/s]"
      ]
     },
     "metadata": {},
     "output_type": "display_data"
    },
    {
     "data": {
      "application/vnd.jupyter.widget-view+json": {
       "model_id": "f796d041dc8944338d625238a673169b",
       "version_major": 2,
       "version_minor": 0
      },
      "text/plain": [
       "Calculating policy gradient...:   0%|          | 0/8 [00:00<?, ?it/s]"
      ]
     },
     "metadata": {},
     "output_type": "display_data"
    },
    {
     "data": {
      "application/vnd.jupyter.widget-view+json": {
       "model_id": "1c01e007b59a425eb7308410467b1e0e",
       "version_major": 2,
       "version_minor": 0
      },
      "text/plain": [
       "Calculating policy gradient...:   0%|          | 0/8 [00:00<?, ?it/s]"
      ]
     },
     "metadata": {},
     "output_type": "display_data"
    },
    {
     "data": {
      "application/vnd.jupyter.widget-view+json": {
       "model_id": "4459cba2fdab45528e2de2060a742d69",
       "version_major": 2,
       "version_minor": 0
      },
      "text/plain": [
       "Calculating policy gradient...:   0%|          | 0/8 [00:00<?, ?it/s]"
      ]
     },
     "metadata": {},
     "output_type": "display_data"
    },
    {
     "data": {
      "application/vnd.jupyter.widget-view+json": {
       "model_id": "aa4f17eb201b48bfb5b7f61f2c9b6e1b",
       "version_major": 2,
       "version_minor": 0
      },
      "text/plain": [
       "Calculating policy gradient...:   0%|          | 0/8 [00:00<?, ?it/s]"
      ]
     },
     "metadata": {},
     "output_type": "display_data"
    },
    {
     "data": {
      "application/vnd.jupyter.widget-view+json": {
       "model_id": "ebf7cad66d02499db23151ee3d679f2c",
       "version_major": 2,
       "version_minor": 0
      },
      "text/plain": [
       "Calculating policy gradient...:   0%|          | 0/8 [00:00<?, ?it/s]"
      ]
     },
     "metadata": {},
     "output_type": "display_data"
    },
    {
     "data": {
      "application/vnd.jupyter.widget-view+json": {
       "model_id": "be050813f576459c8c485d332df685cc",
       "version_major": 2,
       "version_minor": 0
      },
      "text/plain": [
       "Calculating policy gradient...:   0%|          | 0/8 [00:00<?, ?it/s]"
      ]
     },
     "metadata": {},
     "output_type": "display_data"
    },
    {
     "data": {
      "application/vnd.jupyter.widget-view+json": {
       "model_id": "bef7b37100664022a3b111b1ba92c972",
       "version_major": 2,
       "version_minor": 0
      },
      "text/plain": [
       "Calculating policy gradient...:   0%|          | 0/8 [00:00<?, ?it/s]"
      ]
     },
     "metadata": {},
     "output_type": "display_data"
    }
   ],
   "source": [
    "from drugex.training.explorers import SequenceExplorer\n",
    "import warnings\n",
    "warnings.filterwarnings('ignore')\n",
    "\n",
    "MODEL_DIR_RL = \"./data/models/RL/rnn\"\n",
    "\n",
    "pretrained = SequenceRNN(voc, is_lstm=True)\n",
    "pretrained.loadStatesFromFile(f'{MODELS_PR_PATH}/Papyrus05.5_smiles_rnn_PT.pkg')\n",
    "\n",
    "finetuned = SequenceRNN(voc, is_lstm=True)\n",
    "finetuned.loadStatesFromFile(f'{MODEL_DIR}/P08908_finetuned.pkg')\n",
    "\n",
    "explorer = SequenceExplorer(\n",
    "    agent = pretrained, # exploitation network (agent being trained, weights are adjusted)\n",
    "    env = environment,\n",
    "    mutate = finetuned, # exploration network (contributes tokens with a random rate equal to the epsilon parameter)\n",
    "    epsilon = 0.4, # given the settings above, indicates the rate of bias towards training data\n",
    "    n_samples=1000,\n",
    ")\n",
    "\n",
    "monitor = FileMonitor(os.path.join(MODEL_DIR_RL, 'P08908_reinforced'), save_smiles=True, reset_directory=True)\n",
    "explorer.fit(monitor=monitor, epochs=50)"
   ]
  },
  {
   "cell_type": "code",
   "execution_count": 41,
   "id": "b50805c2-f139-4307-a46c-a2297b662bcd",
   "metadata": {},
   "outputs": [
    {
     "data": {
      "text/html": [
       "<div>\n",
       "<style scoped>\n",
       "    .dataframe tbody tr th:only-of-type {\n",
       "        vertical-align: middle;\n",
       "    }\n",
       "\n",
       "    .dataframe tbody tr th {\n",
       "        vertical-align: top;\n",
       "    }\n",
       "\n",
       "    .dataframe thead th {\n",
       "        text-align: right;\n",
       "    }\n",
       "</style>\n",
       "<table border=\"1\" class=\"dataframe\">\n",
       "  <thead>\n",
       "    <tr style=\"text-align: right;\">\n",
       "      <th></th>\n",
       "      <th>Epoch</th>\n",
       "      <th>valid_ratio</th>\n",
       "      <th>unique_ratio</th>\n",
       "      <th>desired_ratio</th>\n",
       "      <th>avg_amean</th>\n",
       "      <th>avg_gmean</th>\n",
       "      <th>loss_train</th>\n",
       "      <th>best_epoch</th>\n",
       "    </tr>\n",
       "  </thead>\n",
       "  <tbody>\n",
       "    <tr>\n",
       "      <th>0</th>\n",
       "      <td>1</td>\n",
       "      <td>0.95</td>\n",
       "      <td>0.95</td>\n",
       "      <td>0.01</td>\n",
       "      <td>0.450</td>\n",
       "      <td>0.010</td>\n",
       "      <td>0.105</td>\n",
       "      <td>1</td>\n",
       "    </tr>\n",
       "    <tr>\n",
       "      <th>1</th>\n",
       "      <td>2</td>\n",
       "      <td>0.95</td>\n",
       "      <td>0.95</td>\n",
       "      <td>0.01</td>\n",
       "      <td>0.455</td>\n",
       "      <td>0.023</td>\n",
       "      <td>0.085</td>\n",
       "      <td>1</td>\n",
       "    </tr>\n",
       "    <tr>\n",
       "      <th>2</th>\n",
       "      <td>3</td>\n",
       "      <td>0.94</td>\n",
       "      <td>0.94</td>\n",
       "      <td>0.01</td>\n",
       "      <td>0.474</td>\n",
       "      <td>0.037</td>\n",
       "      <td>0.093</td>\n",
       "      <td>1</td>\n",
       "    </tr>\n",
       "    <tr>\n",
       "      <th>3</th>\n",
       "      <td>4</td>\n",
       "      <td>0.94</td>\n",
       "      <td>0.94</td>\n",
       "      <td>0.05</td>\n",
       "      <td>0.505</td>\n",
       "      <td>0.061</td>\n",
       "      <td>0.075</td>\n",
       "      <td>4</td>\n",
       "    </tr>\n",
       "    <tr>\n",
       "      <th>4</th>\n",
       "      <td>5</td>\n",
       "      <td>0.88</td>\n",
       "      <td>0.88</td>\n",
       "      <td>0.04</td>\n",
       "      <td>0.493</td>\n",
       "      <td>0.073</td>\n",
       "      <td>0.072</td>\n",
       "      <td>4</td>\n",
       "    </tr>\n",
       "    <tr>\n",
       "      <th>5</th>\n",
       "      <td>6</td>\n",
       "      <td>0.73</td>\n",
       "      <td>0.73</td>\n",
       "      <td>0.06</td>\n",
       "      <td>0.538</td>\n",
       "      <td>0.136</td>\n",
       "      <td>0.059</td>\n",
       "      <td>6</td>\n",
       "    </tr>\n",
       "    <tr>\n",
       "      <th>6</th>\n",
       "      <td>7</td>\n",
       "      <td>0.81</td>\n",
       "      <td>0.81</td>\n",
       "      <td>0.07</td>\n",
       "      <td>0.496</td>\n",
       "      <td>0.150</td>\n",
       "      <td>0.070</td>\n",
       "      <td>7</td>\n",
       "    </tr>\n",
       "    <tr>\n",
       "      <th>7</th>\n",
       "      <td>8</td>\n",
       "      <td>0.85</td>\n",
       "      <td>0.85</td>\n",
       "      <td>0.04</td>\n",
       "      <td>0.494</td>\n",
       "      <td>0.081</td>\n",
       "      <td>0.086</td>\n",
       "      <td>7</td>\n",
       "    </tr>\n",
       "    <tr>\n",
       "      <th>8</th>\n",
       "      <td>9</td>\n",
       "      <td>0.89</td>\n",
       "      <td>0.89</td>\n",
       "      <td>0.09</td>\n",
       "      <td>0.515</td>\n",
       "      <td>0.164</td>\n",
       "      <td>0.075</td>\n",
       "      <td>9</td>\n",
       "    </tr>\n",
       "    <tr>\n",
       "      <th>9</th>\n",
       "      <td>10</td>\n",
       "      <td>0.94</td>\n",
       "      <td>0.94</td>\n",
       "      <td>0.15</td>\n",
       "      <td>0.571</td>\n",
       "      <td>0.224</td>\n",
       "      <td>0.087</td>\n",
       "      <td>10</td>\n",
       "    </tr>\n",
       "    <tr>\n",
       "      <th>10</th>\n",
       "      <td>11</td>\n",
       "      <td>0.94</td>\n",
       "      <td>0.94</td>\n",
       "      <td>0.14</td>\n",
       "      <td>0.570</td>\n",
       "      <td>0.227</td>\n",
       "      <td>0.074</td>\n",
       "      <td>10</td>\n",
       "    </tr>\n",
       "    <tr>\n",
       "      <th>11</th>\n",
       "      <td>12</td>\n",
       "      <td>0.91</td>\n",
       "      <td>0.90</td>\n",
       "      <td>0.25</td>\n",
       "      <td>0.607</td>\n",
       "      <td>0.329</td>\n",
       "      <td>0.096</td>\n",
       "      <td>12</td>\n",
       "    </tr>\n",
       "    <tr>\n",
       "      <th>12</th>\n",
       "      <td>13</td>\n",
       "      <td>0.86</td>\n",
       "      <td>0.86</td>\n",
       "      <td>0.14</td>\n",
       "      <td>0.558</td>\n",
       "      <td>0.239</td>\n",
       "      <td>0.081</td>\n",
       "      <td>12</td>\n",
       "    </tr>\n",
       "    <tr>\n",
       "      <th>13</th>\n",
       "      <td>14</td>\n",
       "      <td>0.95</td>\n",
       "      <td>0.95</td>\n",
       "      <td>0.19</td>\n",
       "      <td>0.580</td>\n",
       "      <td>0.308</td>\n",
       "      <td>0.082</td>\n",
       "      <td>12</td>\n",
       "    </tr>\n",
       "    <tr>\n",
       "      <th>14</th>\n",
       "      <td>15</td>\n",
       "      <td>0.89</td>\n",
       "      <td>0.89</td>\n",
       "      <td>0.18</td>\n",
       "      <td>0.558</td>\n",
       "      <td>0.290</td>\n",
       "      <td>0.078</td>\n",
       "      <td>12</td>\n",
       "    </tr>\n",
       "    <tr>\n",
       "      <th>15</th>\n",
       "      <td>16</td>\n",
       "      <td>0.91</td>\n",
       "      <td>0.91</td>\n",
       "      <td>0.15</td>\n",
       "      <td>0.584</td>\n",
       "      <td>0.264</td>\n",
       "      <td>0.066</td>\n",
       "      <td>12</td>\n",
       "    </tr>\n",
       "    <tr>\n",
       "      <th>16</th>\n",
       "      <td>17</td>\n",
       "      <td>0.94</td>\n",
       "      <td>0.93</td>\n",
       "      <td>0.19</td>\n",
       "      <td>0.598</td>\n",
       "      <td>0.288</td>\n",
       "      <td>0.065</td>\n",
       "      <td>12</td>\n",
       "    </tr>\n",
       "    <tr>\n",
       "      <th>17</th>\n",
       "      <td>18</td>\n",
       "      <td>0.94</td>\n",
       "      <td>0.94</td>\n",
       "      <td>0.20</td>\n",
       "      <td>0.603</td>\n",
       "      <td>0.304</td>\n",
       "      <td>0.072</td>\n",
       "      <td>12</td>\n",
       "    </tr>\n",
       "    <tr>\n",
       "      <th>18</th>\n",
       "      <td>19</td>\n",
       "      <td>0.93</td>\n",
       "      <td>0.93</td>\n",
       "      <td>0.23</td>\n",
       "      <td>0.604</td>\n",
       "      <td>0.310</td>\n",
       "      <td>0.072</td>\n",
       "      <td>12</td>\n",
       "    </tr>\n",
       "    <tr>\n",
       "      <th>19</th>\n",
       "      <td>20</td>\n",
       "      <td>0.95</td>\n",
       "      <td>0.94</td>\n",
       "      <td>0.25</td>\n",
       "      <td>0.622</td>\n",
       "      <td>0.321</td>\n",
       "      <td>0.068</td>\n",
       "      <td>12</td>\n",
       "    </tr>\n",
       "    <tr>\n",
       "      <th>20</th>\n",
       "      <td>21</td>\n",
       "      <td>0.98</td>\n",
       "      <td>0.97</td>\n",
       "      <td>0.23</td>\n",
       "      <td>0.624</td>\n",
       "      <td>0.349</td>\n",
       "      <td>0.063</td>\n",
       "      <td>12</td>\n",
       "    </tr>\n",
       "    <tr>\n",
       "      <th>21</th>\n",
       "      <td>22</td>\n",
       "      <td>0.96</td>\n",
       "      <td>0.96</td>\n",
       "      <td>0.24</td>\n",
       "      <td>0.613</td>\n",
       "      <td>0.321</td>\n",
       "      <td>0.070</td>\n",
       "      <td>12</td>\n",
       "    </tr>\n",
       "    <tr>\n",
       "      <th>22</th>\n",
       "      <td>23</td>\n",
       "      <td>0.94</td>\n",
       "      <td>0.93</td>\n",
       "      <td>0.19</td>\n",
       "      <td>0.586</td>\n",
       "      <td>0.261</td>\n",
       "      <td>0.078</td>\n",
       "      <td>12</td>\n",
       "    </tr>\n",
       "    <tr>\n",
       "      <th>23</th>\n",
       "      <td>24</td>\n",
       "      <td>0.97</td>\n",
       "      <td>0.97</td>\n",
       "      <td>0.30</td>\n",
       "      <td>0.634</td>\n",
       "      <td>0.349</td>\n",
       "      <td>0.068</td>\n",
       "      <td>24</td>\n",
       "    </tr>\n",
       "    <tr>\n",
       "      <th>24</th>\n",
       "      <td>25</td>\n",
       "      <td>0.91</td>\n",
       "      <td>0.90</td>\n",
       "      <td>0.16</td>\n",
       "      <td>0.608</td>\n",
       "      <td>0.307</td>\n",
       "      <td>0.067</td>\n",
       "      <td>24</td>\n",
       "    </tr>\n",
       "    <tr>\n",
       "      <th>25</th>\n",
       "      <td>26</td>\n",
       "      <td>0.95</td>\n",
       "      <td>0.95</td>\n",
       "      <td>0.20</td>\n",
       "      <td>0.595</td>\n",
       "      <td>0.297</td>\n",
       "      <td>0.072</td>\n",
       "      <td>24</td>\n",
       "    </tr>\n",
       "    <tr>\n",
       "      <th>26</th>\n",
       "      <td>27</td>\n",
       "      <td>0.96</td>\n",
       "      <td>0.96</td>\n",
       "      <td>0.21</td>\n",
       "      <td>0.619</td>\n",
       "      <td>0.333</td>\n",
       "      <td>0.075</td>\n",
       "      <td>24</td>\n",
       "    </tr>\n",
       "    <tr>\n",
       "      <th>27</th>\n",
       "      <td>28</td>\n",
       "      <td>0.93</td>\n",
       "      <td>0.92</td>\n",
       "      <td>0.18</td>\n",
       "      <td>0.615</td>\n",
       "      <td>0.334</td>\n",
       "      <td>0.066</td>\n",
       "      <td>24</td>\n",
       "    </tr>\n",
       "    <tr>\n",
       "      <th>28</th>\n",
       "      <td>29</td>\n",
       "      <td>0.95</td>\n",
       "      <td>0.94</td>\n",
       "      <td>0.26</td>\n",
       "      <td>0.627</td>\n",
       "      <td>0.372</td>\n",
       "      <td>0.071</td>\n",
       "      <td>24</td>\n",
       "    </tr>\n",
       "    <tr>\n",
       "      <th>29</th>\n",
       "      <td>30</td>\n",
       "      <td>0.97</td>\n",
       "      <td>0.97</td>\n",
       "      <td>0.27</td>\n",
       "      <td>0.621</td>\n",
       "      <td>0.352</td>\n",
       "      <td>0.075</td>\n",
       "      <td>24</td>\n",
       "    </tr>\n",
       "    <tr>\n",
       "      <th>30</th>\n",
       "      <td>31</td>\n",
       "      <td>0.94</td>\n",
       "      <td>0.94</td>\n",
       "      <td>0.19</td>\n",
       "      <td>0.600</td>\n",
       "      <td>0.270</td>\n",
       "      <td>0.066</td>\n",
       "      <td>24</td>\n",
       "    </tr>\n",
       "    <tr>\n",
       "      <th>31</th>\n",
       "      <td>32</td>\n",
       "      <td>0.96</td>\n",
       "      <td>0.96</td>\n",
       "      <td>0.24</td>\n",
       "      <td>0.621</td>\n",
       "      <td>0.360</td>\n",
       "      <td>0.071</td>\n",
       "      <td>24</td>\n",
       "    </tr>\n",
       "    <tr>\n",
       "      <th>32</th>\n",
       "      <td>33</td>\n",
       "      <td>0.94</td>\n",
       "      <td>0.94</td>\n",
       "      <td>0.24</td>\n",
       "      <td>0.629</td>\n",
       "      <td>0.353</td>\n",
       "      <td>0.064</td>\n",
       "      <td>24</td>\n",
       "    </tr>\n",
       "    <tr>\n",
       "      <th>33</th>\n",
       "      <td>34</td>\n",
       "      <td>0.95</td>\n",
       "      <td>0.95</td>\n",
       "      <td>0.21</td>\n",
       "      <td>0.616</td>\n",
       "      <td>0.353</td>\n",
       "      <td>0.064</td>\n",
       "      <td>24</td>\n",
       "    </tr>\n",
       "    <tr>\n",
       "      <th>34</th>\n",
       "      <td>35</td>\n",
       "      <td>0.94</td>\n",
       "      <td>0.94</td>\n",
       "      <td>0.23</td>\n",
       "      <td>0.620</td>\n",
       "      <td>0.348</td>\n",
       "      <td>0.061</td>\n",
       "      <td>24</td>\n",
       "    </tr>\n",
       "    <tr>\n",
       "      <th>35</th>\n",
       "      <td>36</td>\n",
       "      <td>0.97</td>\n",
       "      <td>0.97</td>\n",
       "      <td>0.28</td>\n",
       "      <td>0.619</td>\n",
       "      <td>0.347</td>\n",
       "      <td>0.063</td>\n",
       "      <td>24</td>\n",
       "    </tr>\n",
       "    <tr>\n",
       "      <th>36</th>\n",
       "      <td>37</td>\n",
       "      <td>0.94</td>\n",
       "      <td>0.92</td>\n",
       "      <td>0.21</td>\n",
       "      <td>0.607</td>\n",
       "      <td>0.313</td>\n",
       "      <td>0.073</td>\n",
       "      <td>24</td>\n",
       "    </tr>\n",
       "    <tr>\n",
       "      <th>37</th>\n",
       "      <td>38</td>\n",
       "      <td>0.96</td>\n",
       "      <td>0.96</td>\n",
       "      <td>0.21</td>\n",
       "      <td>0.603</td>\n",
       "      <td>0.317</td>\n",
       "      <td>0.068</td>\n",
       "      <td>24</td>\n",
       "    </tr>\n",
       "    <tr>\n",
       "      <th>38</th>\n",
       "      <td>39</td>\n",
       "      <td>0.94</td>\n",
       "      <td>0.94</td>\n",
       "      <td>0.27</td>\n",
       "      <td>0.635</td>\n",
       "      <td>0.371</td>\n",
       "      <td>0.054</td>\n",
       "      <td>24</td>\n",
       "    </tr>\n",
       "    <tr>\n",
       "      <th>39</th>\n",
       "      <td>40</td>\n",
       "      <td>0.96</td>\n",
       "      <td>0.95</td>\n",
       "      <td>0.25</td>\n",
       "      <td>0.620</td>\n",
       "      <td>0.328</td>\n",
       "      <td>0.069</td>\n",
       "      <td>24</td>\n",
       "    </tr>\n",
       "    <tr>\n",
       "      <th>40</th>\n",
       "      <td>41</td>\n",
       "      <td>0.95</td>\n",
       "      <td>0.93</td>\n",
       "      <td>0.26</td>\n",
       "      <td>0.614</td>\n",
       "      <td>0.369</td>\n",
       "      <td>0.066</td>\n",
       "      <td>24</td>\n",
       "    </tr>\n",
       "    <tr>\n",
       "      <th>41</th>\n",
       "      <td>42</td>\n",
       "      <td>0.95</td>\n",
       "      <td>0.94</td>\n",
       "      <td>0.29</td>\n",
       "      <td>0.636</td>\n",
       "      <td>0.371</td>\n",
       "      <td>0.075</td>\n",
       "      <td>24</td>\n",
       "    </tr>\n",
       "    <tr>\n",
       "      <th>42</th>\n",
       "      <td>43</td>\n",
       "      <td>0.94</td>\n",
       "      <td>0.94</td>\n",
       "      <td>0.25</td>\n",
       "      <td>0.621</td>\n",
       "      <td>0.361</td>\n",
       "      <td>0.068</td>\n",
       "      <td>24</td>\n",
       "    </tr>\n",
       "    <tr>\n",
       "      <th>43</th>\n",
       "      <td>44</td>\n",
       "      <td>0.95</td>\n",
       "      <td>0.95</td>\n",
       "      <td>0.30</td>\n",
       "      <td>0.652</td>\n",
       "      <td>0.413</td>\n",
       "      <td>0.072</td>\n",
       "      <td>24</td>\n",
       "    </tr>\n",
       "    <tr>\n",
       "      <th>44</th>\n",
       "      <td>45</td>\n",
       "      <td>0.97</td>\n",
       "      <td>0.96</td>\n",
       "      <td>0.33</td>\n",
       "      <td>0.655</td>\n",
       "      <td>0.412</td>\n",
       "      <td>0.071</td>\n",
       "      <td>45</td>\n",
       "    </tr>\n",
       "    <tr>\n",
       "      <th>45</th>\n",
       "      <td>46</td>\n",
       "      <td>0.94</td>\n",
       "      <td>0.94</td>\n",
       "      <td>0.33</td>\n",
       "      <td>0.665</td>\n",
       "      <td>0.451</td>\n",
       "      <td>0.055</td>\n",
       "      <td>45</td>\n",
       "    </tr>\n",
       "    <tr>\n",
       "      <th>46</th>\n",
       "      <td>47</td>\n",
       "      <td>0.92</td>\n",
       "      <td>0.92</td>\n",
       "      <td>0.21</td>\n",
       "      <td>0.619</td>\n",
       "      <td>0.346</td>\n",
       "      <td>0.070</td>\n",
       "      <td>45</td>\n",
       "    </tr>\n",
       "    <tr>\n",
       "      <th>47</th>\n",
       "      <td>48</td>\n",
       "      <td>0.94</td>\n",
       "      <td>0.93</td>\n",
       "      <td>0.24</td>\n",
       "      <td>0.614</td>\n",
       "      <td>0.321</td>\n",
       "      <td>0.067</td>\n",
       "      <td>45</td>\n",
       "    </tr>\n",
       "    <tr>\n",
       "      <th>48</th>\n",
       "      <td>49</td>\n",
       "      <td>0.96</td>\n",
       "      <td>0.95</td>\n",
       "      <td>0.24</td>\n",
       "      <td>0.621</td>\n",
       "      <td>0.333</td>\n",
       "      <td>0.072</td>\n",
       "      <td>45</td>\n",
       "    </tr>\n",
       "    <tr>\n",
       "      <th>49</th>\n",
       "      <td>50</td>\n",
       "      <td>0.94</td>\n",
       "      <td>0.94</td>\n",
       "      <td>0.33</td>\n",
       "      <td>0.671</td>\n",
       "      <td>0.431</td>\n",
       "      <td>0.066</td>\n",
       "      <td>45</td>\n",
       "    </tr>\n",
       "  </tbody>\n",
       "</table>\n",
       "</div>"
      ],
      "text/plain": [
       "    Epoch  valid_ratio  unique_ratio  desired_ratio  avg_amean  avg_gmean  \\\n",
       "0       1         0.95          0.95           0.01      0.450      0.010   \n",
       "1       2         0.95          0.95           0.01      0.455      0.023   \n",
       "2       3         0.94          0.94           0.01      0.474      0.037   \n",
       "3       4         0.94          0.94           0.05      0.505      0.061   \n",
       "4       5         0.88          0.88           0.04      0.493      0.073   \n",
       "5       6         0.73          0.73           0.06      0.538      0.136   \n",
       "6       7         0.81          0.81           0.07      0.496      0.150   \n",
       "7       8         0.85          0.85           0.04      0.494      0.081   \n",
       "8       9         0.89          0.89           0.09      0.515      0.164   \n",
       "9      10         0.94          0.94           0.15      0.571      0.224   \n",
       "10     11         0.94          0.94           0.14      0.570      0.227   \n",
       "11     12         0.91          0.90           0.25      0.607      0.329   \n",
       "12     13         0.86          0.86           0.14      0.558      0.239   \n",
       "13     14         0.95          0.95           0.19      0.580      0.308   \n",
       "14     15         0.89          0.89           0.18      0.558      0.290   \n",
       "15     16         0.91          0.91           0.15      0.584      0.264   \n",
       "16     17         0.94          0.93           0.19      0.598      0.288   \n",
       "17     18         0.94          0.94           0.20      0.603      0.304   \n",
       "18     19         0.93          0.93           0.23      0.604      0.310   \n",
       "19     20         0.95          0.94           0.25      0.622      0.321   \n",
       "20     21         0.98          0.97           0.23      0.624      0.349   \n",
       "21     22         0.96          0.96           0.24      0.613      0.321   \n",
       "22     23         0.94          0.93           0.19      0.586      0.261   \n",
       "23     24         0.97          0.97           0.30      0.634      0.349   \n",
       "24     25         0.91          0.90           0.16      0.608      0.307   \n",
       "25     26         0.95          0.95           0.20      0.595      0.297   \n",
       "26     27         0.96          0.96           0.21      0.619      0.333   \n",
       "27     28         0.93          0.92           0.18      0.615      0.334   \n",
       "28     29         0.95          0.94           0.26      0.627      0.372   \n",
       "29     30         0.97          0.97           0.27      0.621      0.352   \n",
       "30     31         0.94          0.94           0.19      0.600      0.270   \n",
       "31     32         0.96          0.96           0.24      0.621      0.360   \n",
       "32     33         0.94          0.94           0.24      0.629      0.353   \n",
       "33     34         0.95          0.95           0.21      0.616      0.353   \n",
       "34     35         0.94          0.94           0.23      0.620      0.348   \n",
       "35     36         0.97          0.97           0.28      0.619      0.347   \n",
       "36     37         0.94          0.92           0.21      0.607      0.313   \n",
       "37     38         0.96          0.96           0.21      0.603      0.317   \n",
       "38     39         0.94          0.94           0.27      0.635      0.371   \n",
       "39     40         0.96          0.95           0.25      0.620      0.328   \n",
       "40     41         0.95          0.93           0.26      0.614      0.369   \n",
       "41     42         0.95          0.94           0.29      0.636      0.371   \n",
       "42     43         0.94          0.94           0.25      0.621      0.361   \n",
       "43     44         0.95          0.95           0.30      0.652      0.413   \n",
       "44     45         0.97          0.96           0.33      0.655      0.412   \n",
       "45     46         0.94          0.94           0.33      0.665      0.451   \n",
       "46     47         0.92          0.92           0.21      0.619      0.346   \n",
       "47     48         0.94          0.93           0.24      0.614      0.321   \n",
       "48     49         0.96          0.95           0.24      0.621      0.333   \n",
       "49     50         0.94          0.94           0.33      0.671      0.431   \n",
       "\n",
       "    loss_train  best_epoch  \n",
       "0        0.105           1  \n",
       "1        0.085           1  \n",
       "2        0.093           1  \n",
       "3        0.075           4  \n",
       "4        0.072           4  \n",
       "5        0.059           6  \n",
       "6        0.070           7  \n",
       "7        0.086           7  \n",
       "8        0.075           9  \n",
       "9        0.087          10  \n",
       "10       0.074          10  \n",
       "11       0.096          12  \n",
       "12       0.081          12  \n",
       "13       0.082          12  \n",
       "14       0.078          12  \n",
       "15       0.066          12  \n",
       "16       0.065          12  \n",
       "17       0.072          12  \n",
       "18       0.072          12  \n",
       "19       0.068          12  \n",
       "20       0.063          12  \n",
       "21       0.070          12  \n",
       "22       0.078          12  \n",
       "23       0.068          24  \n",
       "24       0.067          24  \n",
       "25       0.072          24  \n",
       "26       0.075          24  \n",
       "27       0.066          24  \n",
       "28       0.071          24  \n",
       "29       0.075          24  \n",
       "30       0.066          24  \n",
       "31       0.071          24  \n",
       "32       0.064          24  \n",
       "33       0.064          24  \n",
       "34       0.061          24  \n",
       "35       0.063          24  \n",
       "36       0.073          24  \n",
       "37       0.068          24  \n",
       "38       0.054          24  \n",
       "39       0.069          24  \n",
       "40       0.066          24  \n",
       "41       0.075          24  \n",
       "42       0.068          24  \n",
       "43       0.072          24  \n",
       "44       0.071          45  \n",
       "45       0.055          45  \n",
       "46       0.070          45  \n",
       "47       0.067          45  \n",
       "48       0.072          45  \n",
       "49       0.066          45  "
      ]
     },
     "execution_count": 41,
     "metadata": {},
     "output_type": "execute_result"
    }
   ],
   "source": [
    "df_info = pd.read_csv(f'{MODEL_DIR_RL}/P08908_reinforced_fit.tsv', sep='\\t')\n",
    "df_info"
   ]
  },
  {
   "cell_type": "code",
   "execution_count": 42,
   "id": "e55fc2ec-3f21-44dd-b248-ab5b57325865",
   "metadata": {},
   "outputs": [
    {
     "data": {
      "text/plain": [
       "<Axes: >"
      ]
     },
     "execution_count": 42,
     "metadata": {},
     "output_type": "execute_result"
    },
    {
     "data": {
      "image/png": "[encoded data removed]",
      "text/plain": [
       "<Figure size 640x480 with 1 Axes>"
      ]
     },
     "metadata": {},
     "output_type": "display_data"
    }
   ],
   "source": [
    "df_info[['desired_ratio', 'avg_amean']].plot.line()"
   ]
  },
  {
   "cell_type": "markdown",
   "id": "5d0859a6-ab68-4f43-8846-56d951ebcf8d",
   "metadata": {},
   "source": [
    "We can see that in this case our model reached a plateu of around 30% of desired molecules among the generated sample of 1000 in each iteration. Not bad, but also not great either. **This value will definitely vary with the different parameters in different groups. Who has the highest desirablity?**"
   ]
  },
  {
   "cell_type": "code",
   "execution_count": 43,
   "id": "5fc82de9-6155-4759-a650-e240684f8639",
   "metadata": {},
   "outputs": [
    {
     "data": {
      "application/vnd.jupyter.widget-view+json": {
       "model_id": "d491cb365611427f856feb8dfc37f92b",
       "version_major": 2,
       "version_minor": 0
      },
      "text/plain": [
       "Generating molecules:   0%|          | 0/1000 [00:00<?, ?it/s]"
      ]
     },
     "metadata": {},
     "output_type": "display_data"
    },
    {
     "data": {
      "text/html": [
       "<div>\n",
       "<style scoped>\n",
       "    .dataframe tbody tr th:only-of-type {\n",
       "        vertical-align: middle;\n",
       "    }\n",
       "\n",
       "    .dataframe tbody tr th {\n",
       "        vertical-align: top;\n",
       "    }\n",
       "\n",
       "    .dataframe thead th {\n",
       "        text-align: right;\n",
       "    }\n",
       "</style>\n",
       "<table border=\"1\" class=\"dataframe\">\n",
       "  <thead>\n",
       "    <tr style=\"text-align: right;\">\n",
       "      <th></th>\n",
       "      <th>SMILES</th>\n",
       "      <th>Valid</th>\n",
       "      <th>Desired</th>\n",
       "      <th>QSPRpred_P08908_LIGANDS_nostereo_XGBRegressor</th>\n",
       "      <th>SA</th>\n",
       "    </tr>\n",
       "  </thead>\n",
       "  <tbody>\n",
       "    <tr>\n",
       "      <th>0</th>\n",
       "      <td>CC(=O)Nc1ccc(-c2cccc(CNCCc3ccc(Cl)c(Cl)c3)c2)cc1</td>\n",
       "      <td>1.0</td>\n",
       "      <td>0.0</td>\n",
       "      <td>5.212</td>\n",
       "      <td>1.896</td>\n",
       "    </tr>\n",
       "    <tr>\n",
       "      <th>1</th>\n",
       "      <td>COc1ccccc1N1CCN(CCCCCCn2nnc3ccccc32)CC1</td>\n",
       "      <td>1.0</td>\n",
       "      <td>1.0</td>\n",
       "      <td>8.356</td>\n",
       "      <td>2.102</td>\n",
       "    </tr>\n",
       "    <tr>\n",
       "      <th>2</th>\n",
       "      <td>c1ccc(-c2cncc(CNC3CCCCC3)n2)cc1</td>\n",
       "      <td>1.0</td>\n",
       "      <td>0.0</td>\n",
       "      <td>6.124</td>\n",
       "      <td>2.015</td>\n",
       "    </tr>\n",
       "    <tr>\n",
       "      <th>3</th>\n",
       "      <td>COc1ccccc1OCCNCCOc1ccccc1OCc1ccccn1</td>\n",
       "      <td>1.0</td>\n",
       "      <td>1.0</td>\n",
       "      <td>8.072</td>\n",
       "      <td>2.002</td>\n",
       "    </tr>\n",
       "    <tr>\n",
       "      <th>4</th>\n",
       "      <td>O=C1OC(=O)c2ccccc21</td>\n",
       "      <td>1.0</td>\n",
       "      <td>0.0</td>\n",
       "      <td>6.476</td>\n",
       "      <td>1.930</td>\n",
       "    </tr>\n",
       "    <tr>\n",
       "      <th>...</th>\n",
       "      <td>...</td>\n",
       "      <td>...</td>\n",
       "      <td>...</td>\n",
       "      <td>...</td>\n",
       "      <td>...</td>\n",
       "    </tr>\n",
       "    <tr>\n",
       "      <th>995</th>\n",
       "      <td>COc1cccc(OC)c1OC(=O)CCCN1CCN(c2cccc(C)c2)CC1</td>\n",
       "      <td>1.0</td>\n",
       "      <td>0.0</td>\n",
       "      <td>7.220</td>\n",
       "      <td>2.064</td>\n",
       "    </tr>\n",
       "    <tr>\n",
       "      <th>996</th>\n",
       "      <td>Cc1ccccc1N1CCN(CCCCC(=O)N2CC3CCCC3C2)CC1</td>\n",
       "      <td>1.0</td>\n",
       "      <td>0.0</td>\n",
       "      <td>7.686</td>\n",
       "      <td>2.881</td>\n",
       "    </tr>\n",
       "    <tr>\n",
       "      <th>997</th>\n",
       "      <td>O=CNNC1CCC(c2cncc3ccccc23)CC1</td>\n",
       "      <td>1.0</td>\n",
       "      <td>0.0</td>\n",
       "      <td>6.445</td>\n",
       "      <td>2.653</td>\n",
       "    </tr>\n",
       "    <tr>\n",
       "      <th>998</th>\n",
       "      <td>O=C(c1ccccc1)N1CCN(Cc2ccc(Br)cc2)CC1</td>\n",
       "      <td>1.0</td>\n",
       "      <td>0.0</td>\n",
       "      <td>6.806</td>\n",
       "      <td>1.582</td>\n",
       "    </tr>\n",
       "    <tr>\n",
       "      <th>999</th>\n",
       "      <td>Cc1cc(C)cc(OCCCN2CCC(c3noc4cc(F)ccc34)CC2)c1</td>\n",
       "      <td>1.0</td>\n",
       "      <td>0.0</td>\n",
       "      <td>7.178</td>\n",
       "      <td>2.378</td>\n",
       "    </tr>\n",
       "  </tbody>\n",
       "</table>\n",
       "<p>1000 rows × 5 columns</p>\n",
       "</div>"
      ],
      "text/plain": [
       "                                               SMILES  Valid  Desired  \\\n",
       "0    CC(=O)Nc1ccc(-c2cccc(CNCCc3ccc(Cl)c(Cl)c3)c2)cc1    1.0      0.0   \n",
       "1             COc1ccccc1N1CCN(CCCCCCn2nnc3ccccc32)CC1    1.0      1.0   \n",
       "2                     c1ccc(-c2cncc(CNC3CCCCC3)n2)cc1    1.0      0.0   \n",
       "3                 COc1ccccc1OCCNCCOc1ccccc1OCc1ccccn1    1.0      1.0   \n",
       "4                                 O=C1OC(=O)c2ccccc21    1.0      0.0   \n",
       "..                                                ...    ...      ...   \n",
       "995      COc1cccc(OC)c1OC(=O)CCCN1CCN(c2cccc(C)c2)CC1    1.0      0.0   \n",
       "996          Cc1ccccc1N1CCN(CCCCC(=O)N2CC3CCCC3C2)CC1    1.0      0.0   \n",
       "997                     O=CNNC1CCC(c2cncc3ccccc23)CC1    1.0      0.0   \n",
       "998              O=C(c1ccccc1)N1CCN(Cc2ccc(Br)cc2)CC1    1.0      0.0   \n",
       "999      Cc1cc(C)cc(OCCCN2CCC(c3noc4cc(F)ccc34)CC2)c1    1.0      0.0   \n",
       "\n",
       "     QSPRpred_P08908_LIGANDS_nostereo_XGBRegressor     SA  \n",
       "0                                            5.212  1.896  \n",
       "1                                            8.356  2.102  \n",
       "2                                            6.124  2.015  \n",
       "3                                            8.072  2.002  \n",
       "4                                            6.476  1.930  \n",
       "..                                             ...    ...  \n",
       "995                                          7.220  2.064  \n",
       "996                                          7.686  2.881  \n",
       "997                                          6.445  2.653  \n",
       "998                                          6.806  1.582  \n",
       "999                                          7.178  2.378  \n",
       "\n",
       "[1000 rows x 5 columns]"
      ]
     },
     "execution_count": 43,
     "metadata": {},
     "output_type": "execute_result"
    }
   ],
   "source": [
    "agent = SequenceRNN(voc, is_lstm=True)\n",
    "agent.loadStatesFromFile(f'{MODEL_DIR_RL}/P08908_reinforced.pkg')\n",
    "generated = agent.generate(num_samples=1000, evaluator=environment)\n",
    "generated"
   ]
  },
  {
   "cell_type": "markdown",
   "id": "dc776269-1ae7-4973-8a29-959f5da769a6",
   "metadata": {},
   "source": [
    "Now we can append these generated molecules with their predicted $pKi$ to our large data set:"
   ]
  },
  {
   "cell_type": "code",
   "execution_count": 44,
   "id": "a3d08052-ab43-45fd-bc3d-000dab0bc90b",
   "metadata": {},
   "outputs": [
    {
     "data": {
      "text/plain": [
       "array(['Generated (pretrained)', 'P08908', 'Fine-tuned', 'Reinforced'],\n",
       "      dtype=object)"
      ]
     },
     "execution_count": 44,
     "metadata": {},
     "output_type": "execute_result"
    }
   ],
   "source": [
    "generated[\"Set\"] = \"Reinforced\"\n",
    "generated.rename({\"QSPRpred_P08908_LIGANDS_nostereo_XGBRegressor\": \"pKi_predicted\"}, inplace=True, axis='columns')\n",
    "df_all_sets = pd.concat([df_all_sets[df_all_sets.Set != \"Reinforced\"], generated])\n",
    "df_all_sets.Set.unique()"
   ]
  },
  {
   "cell_type": "markdown",
   "id": "d12fa32b-ccd7-4aa5-a779-01dac3b9a96b",
   "metadata": {},
   "source": [
    "and plot everything:"
   ]
  },
  {
   "cell_type": "code",
   "execution_count": 45,
   "id": "7252d223-9db8-4c22-bf11-03b96633f062",
   "metadata": {},
   "outputs": [
    {
     "name": "stdout",
     "output_type": "stream",
     "text": [
      "Dash is running on http://127.0.0.1:9002/\n",
      "\n"
     ]
    },
    {
     "data": {
      "text/html": [
       "\n",
       "        <iframe\n",
       "            width=\"100%\"\n",
       "            height=\"800\"\n",
       "            src=\"http://127.0.0.1:9002/\"\n",
       "            frameborder=\"0\"\n",
       "            allowfullscreen\n",
       "            \n",
       "        ></iframe>\n",
       "        "
      ],
      "text/plain": [
       "<IPython.lib.display.IFrame at 0x7f5b4cb24ce0>"
      ]
     },
     "metadata": {},
     "output_type": "display_data"
    }
   ],
   "source": [
    "mt, plt = plot_spaces(df_all_sets, \"Pretrained+P08908+FT+RL\", 9002, card_data=[\"Set\", \"pchembl_value_Median\", \"pKi_predicted\"])"
   ]
  },
  {
   "cell_type": "code",
   "execution_count": 46,
   "id": "d085d9e8-2c62-4dd1-bd84-fa79c7f84941",
   "metadata": {},
   "outputs": [],
   "source": [
    "mt.getDF().to_csv(f\"{PLOT_DATA_DIR}/{mt.name}.csv\")"
   ]
  },
  {
   "cell_type": "markdown",
   "id": "af3f53ee-4992-4db0-88b1-8a8700fb71c0",
   "metadata": {},
   "source": [
    "**How does the plot look like with different hyperparameters?**\n",
    "\n",
    "**Can we find some novel potentially interesting structures below?**"
   ]
  },
  {
   "cell_type": "code",
   "execution_count": 47,
   "id": "3d7bf512-e3b4-4a58-b31e-28137f73e9ba",
   "metadata": {},
   "outputs": [
    {
     "name": "stdout",
     "output_type": "stream",
     "text": [
      "Dash is running on http://127.0.0.1:9003/\n",
      "\n"
     ]
    },
    {
     "data": {
      "text/html": [
       "\n",
       "        <iframe\n",
       "            width=\"100%\"\n",
       "            height=\"800\"\n",
       "            src=\"http://127.0.0.1:9003/\"\n",
       "            frameborder=\"0\"\n",
       "            allowfullscreen\n",
       "            \n",
       "        ></iframe>\n",
       "        "
      ],
      "text/plain": [
       "<IPython.lib.display.IFrame at 0x7f5b4589db80>"
      ]
     },
     "metadata": {},
     "output_type": "display_data"
    }
   ],
   "source": [
    "mt, plt = plot_spaces(\n",
    "    df_all_sets[df_all_sets.Set.isin([\"Reinforced\", \"P08908\"])], \n",
    "    \"Pretrained+P08908+FT+RL\", \n",
    "    9003, \n",
    "    color_by=\"pKi_predicted\", \n",
    "    card_data=[\n",
    "        \"Set\", \n",
    "        \"pchembl_value_Median\", \n",
    "        \"pKi_predicted\"\n",
    "    ]\n",
    ")"
   ]
  },
  {
   "cell_type": "code",
   "execution_count": 48,
   "id": "bcb03fe9-41bc-4d7b-8aa4-76beae40ecb5",
   "metadata": {},
   "outputs": [],
   "source": [
    "mt.getDF().to_csv(f\"{PLOT_DATA_DIR}/{mt.name}.csv\")"
   ]
  },
  {
   "cell_type": "markdown",
   "id": "18600965-f8ca-4539-a4cc-a4b5187c2958",
   "metadata": {},
   "source": [
    "Finally, we can perform the same test as before to see if our reinforcement learning strategy lead to a significant increase in the predicted activity mean in comparison to the training set pChEMBL value mean:"
   ]
  },
  {
   "cell_type": "code",
   "execution_count": 49,
   "id": "635b0c92-f11f-4ee3-a7a8-098829a2ab08",
   "metadata": {},
   "outputs": [
    {
     "data": {
      "text/plain": [
       "7.4742809999999995"
      ]
     },
     "execution_count": 49,
     "metadata": {},
     "output_type": "execute_result"
    }
   ],
   "source": [
    "df_all_sets[df_all_sets.Set == \"Reinforced\"].pKi_predicted.mean()"
   ]
  },
  {
   "cell_type": "code",
   "execution_count": 50,
   "id": "1a34671b-15ef-4579-bc31-eb035f6c7d5b",
   "metadata": {},
   "outputs": [
    {
     "data": {
      "text/plain": [
       "7.334361143523921"
      ]
     },
     "execution_count": 50,
     "metadata": {},
     "output_type": "execute_result"
    }
   ],
   "source": [
    "df_all_sets[df_all_sets.Set == \"P08908\"].pchembl_value_Median.mean()"
   ]
  },
  {
   "cell_type": "code",
   "execution_count": 51,
   "id": "b5d14193-a709-4511-a1fe-bd013de45bc2",
   "metadata": {},
   "outputs": [
    {
     "data": {
      "text/plain": [
       "TtestResult(statistic=-3.655535310149855, pvalue=0.00012981219186880186, df=4426.0)"
      ]
     },
     "execution_count": 51,
     "metadata": {},
     "output_type": "execute_result"
    }
   ],
   "source": [
    "stats.ttest_ind(df_all_sets[df_all_sets.Set == \"P08908\"].pchembl_value_Median, df_all_sets[df_all_sets.Set == \"Reinforced\"].pKi_predicted, alternative=\"less\")"
   ]
  },
  {
   "cell_type": "markdown",
   "id": "5cce8ec9-1206-441b-8be7-d224917abf2b",
   "metadata": {},
   "source": [
    "The test is significant, but the actual difference in means is moderate. When we plot the histogram of the predicted values it seems we have hit a \"wall\" on the predicted $pKi$ and it would not go over 8 easily:"
   ]
  },
  {
   "cell_type": "code",
   "execution_count": 52,
   "id": "8b42f116-b000-403f-a8a5-c5f7deba4ec7",
   "metadata": {},
   "outputs": [
    {
     "data": {
      "text/plain": [
       "<Axes: >"
      ]
     },
     "execution_count": 52,
     "metadata": {},
     "output_type": "execute_result"
    },
    {
     "data": {
      "image/png": "[encoded data removed]",
      "text/plain": [
       "<Figure size 640x480 with 1 Axes>"
      ]
     },
     "metadata": {},
     "output_type": "display_data"
    }
   ],
   "source": [
    "df_all_sets[df_all_sets.Set == \"Reinforced\"].pKi_predicted.hist()"
   ]
  },
  {
   "cell_type": "markdown",
   "id": "d585ab90-896f-4871-84fd-110e23c9c77d",
   "metadata": {},
   "source": [
    "This could be due to the high epsilon parameter, but it could also be due to the definition of the modifier that basically made the model see not much difference between molecules with predicted $pKi$ higher than 8:"
   ]
  },
  {
   "cell_type": "code",
   "execution_count": 53,
   "id": "3508a983-7319-4397-b3c9-c8ac39961f11",
   "metadata": {},
   "outputs": [
    {
     "data": {
      "text/plain": [
       "<Axes: >"
      ]
     },
     "execution_count": 53,
     "metadata": {},
     "output_type": "execute_result"
    },
    {
     "data": {
      "image/png": "[encoded data removed]",
      "text/plain": [
       "<Figure size 640x480 with 1 Axes>"
      ]
     },
     "metadata": {},
     "output_type": "display_data"
    }
   ],
   "source": [
    "raw = qsprpred_scorer.getScores(sample)\n",
    "modified = qsprpred_scorer(sample)\n",
    "sns.scatterplot(x=raw, y=modified)"
   ]
  },
  {
   "cell_type": "markdown",
   "id": "1a359e45-c657-4c05-968c-663cf2b33947",
   "metadata": {},
   "source": [
    "However, this distribution still has enrichment over the original distribution of activities:"
   ]
  },
  {
   "cell_type": "code",
   "execution_count": 54,
   "id": "a2faa387-c862-4b2b-9ecf-a8a0025623e8",
   "metadata": {},
   "outputs": [
    {
     "data": {
      "text/plain": [
       "<Axes: >"
      ]
     },
     "execution_count": 54,
     "metadata": {},
     "output_type": "execute_result"
    },
    {
     "data": {
      "image/png": "[encoded data removed]",
      "text/plain": [
       "<Figure size 640x480 with 1 Axes>"
      ]
     },
     "metadata": {},
     "output_type": "display_data"
    }
   ],
   "source": [
    "df_all_sets[df_all_sets.Set == \"P08908\"].pchembl_value_Median.hist()"
   ]
  },
  {
   "cell_type": "code",
   "execution_count": null,
   "id": "6f8cf69a-4999-4516-85f6-2915e6f991ab",
   "metadata": {},
   "outputs": [],
   "source": []
  }
 ],
 "metadata": {
  "kernelspec": {
   "display_name": "Python 3 (ipykernel)",
   "language": "python",
   "name": "python3"
  },
  "language_info": {
   "codemirror_mode": {
    "name": "ipython",
    "version": 3
   },
   "file_extension": ".py",
   "mimetype": "text/x-python",
   "name": "python",
   "nbconvert_exporter": "python",
   "pygments_lexer": "ipython3",
   "version": "3.12.8"
  }
 },
 "nbformat": 4,
 "nbformat_minor": 5
}
